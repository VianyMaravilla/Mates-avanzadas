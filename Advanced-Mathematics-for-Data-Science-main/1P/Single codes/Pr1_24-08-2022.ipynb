{
 "cells": [
  {
   "cell_type": "markdown",
   "id": "e8a3b617",
   "metadata": {},
   "source": [
    "Importamos librerías principales del curso"
   ]
  },
  {
   "cell_type": "code",
   "execution_count": 1,
   "id": "339a2700",
   "metadata": {},
   "outputs": [],
   "source": [
    "import math\n",
    "import numpy\n",
    "import pandas\n",
    "import matplotlib"
   ]
  },
  {
   "cell_type": "markdown",
   "id": "66f70ad6",
   "metadata": {},
   "source": [
    "Imprimos algunas constantes importantes"
   ]
  },
  {
   "cell_type": "code",
   "execution_count": 2,
   "id": "86c78b4e",
   "metadata": {},
   "outputs": [
    {
     "name": "stdout",
     "output_type": "stream",
     "text": [
      "3.141592653589793\n",
      "2.718281828459045\n",
      "inf\n",
      "-inf\n",
      "inf\n",
      "nan\n"
     ]
    }
   ],
   "source": [
    "print(math.pi)\n",
    "print(math.e)\n",
    "print(math.inf)\n",
    "print(-math.inf)\n",
    "print(float(math.inf))\n",
    "print(math.nan)"
   ]
  },
  {
   "cell_type": "markdown",
   "id": "8f974f6b",
   "metadata": {},
   "source": [
    "Imprimimos el valor de ciertas funciones con math"
   ]
  },
  {
   "cell_type": "code",
   "execution_count": 3,
   "id": "7bcdcc38",
   "metadata": {},
   "outputs": [
    {
     "name": "stdout",
     "output_type": "stream",
     "text": [
      "9.0\n",
      "1.1447296778052858\n",
      "2.718281828459045\n",
      "1.0\n"
     ]
    }
   ],
   "source": [
    "print(math.sqrt(81))\n",
    "print(math.log(3.141592))\n",
    "print(math.exp(1))\n",
    "print(math.pow(2, 0))"
   ]
  },
  {
   "cell_type": "code",
   "execution_count": 13,
   "id": "2f15c748",
   "metadata": {},
   "outputs": [],
   "source": [
    "class CreditCard:\n",
    "    \n",
    "    def __init__(self, client, bank, account, sec_code, limit, date_cut, balance):\n",
    "        self.client = client\n",
    "        self.bank = bank\n",
    "        self.account = account\n",
    "        self.sec_code = sec_code\n",
    "        self.limit = limit\n",
    "        self.date_cut = date_cut\n",
    "        self.balance = 0\n",
    "        \n",
    "    \n",
    "    def allow_charge(self, quantity):\n",
    "        if self.balance + quantity <= self.limit:\n",
    "            self.balance = self.balance + quantity\n",
    "            print('El cargo de $' + str(float(quantity)) + ' ha sido realizado con éxito')\n",
    "        else:\n",
    "            print('El cargo de $' + str(float(quantity)) + ' no ha sido realizado porque excede el límite de la tarjeta')\n",
    "    \n",
    "    def allow_payment(self, quantity):\n",
    "        if self.balance - quantity >= 0:\n",
    "            self.balance = self.balance - quantity\n",
    "            print('El pago de $' + str(float(quantity)) + ' ha sido realizado con éxito')\n",
    "        else:\n",
    "            print('El pago de $' + str(float(quantity)) + ' no ha sido realizado porque excede el total de los cargos')"
   ]
  },
  {
   "cell_type": "code",
   "execution_count": 14,
   "id": "cbaa65d2",
   "metadata": {},
   "outputs": [],
   "source": [
    "tc_braumel = CreditCard(\"Braumel\", \"BBVA\", \"123\", \"456\", 20000, \"24082022\", 0)"
   ]
  },
  {
   "cell_type": "code",
   "execution_count": 16,
   "id": "6f584e78",
   "metadata": {},
   "outputs": [
    {
     "name": "stdout",
     "output_type": "stream",
     "text": [
      "El cargo de $15000.0 ha sido realizado con éxito\n"
     ]
    }
   ],
   "source": [
    "tc_braumel.allow_charge(15000)"
   ]
  },
  {
   "cell_type": "code",
   "execution_count": 18,
   "id": "60d0cb14",
   "metadata": {},
   "outputs": [
    {
     "name": "stdout",
     "output_type": "stream",
     "text": [
      "El cargo de $5000.0 ha sido realizado con éxito\n"
     ]
    }
   ],
   "source": [
    "tc_braumel.allow_charge(5000)"
   ]
  },
  {
   "cell_type": "code",
   "execution_count": 20,
   "id": "c1ab093a",
   "metadata": {},
   "outputs": [
    {
     "name": "stdout",
     "output_type": "stream",
     "text": [
      "El pago de $20000.0 ha sido realizado con éxito\n"
     ]
    }
   ],
   "source": [
    "tc_braumel.allow_payment(20000)"
   ]
  },
  {
   "cell_type": "code",
   "execution_count": 29,
   "id": "a4668fc6",
   "metadata": {},
   "outputs": [],
   "source": [
    "class Person:\n",
    "    def __init__(self, name, age, gender, weight, height):\n",
    "        self.name = name\n",
    "        self.age = age\n",
    "        self.gender = gender\n",
    "        self.weight = weight\n",
    "        self.height = height\n",
    "        \n",
    "    def incr_age(self):\n",
    "        self.age = self.age + 1\n",
    "        print('Tu edad actual es de ' + str(self.age) + ' años')\n",
    "        \n",
    "    def diet(self, diff_weight):\n",
    "        self.weight = self.weight + diff_weight\n",
    "        print('Tu peso actual es de ' + str(self.weight) + ' kg')"
   ]
  },
  {
   "cell_type": "code",
   "execution_count": 30,
   "id": "582e8227",
   "metadata": {},
   "outputs": [],
   "source": [
    "p_braumel = Person(\"Braumel\", 19, \"Masculino\", 65, 169)"
   ]
  },
  {
   "cell_type": "code",
   "execution_count": 31,
   "id": "6f6f25ff",
   "metadata": {},
   "outputs": [
    {
     "name": "stdout",
     "output_type": "stream",
     "text": [
      "Tu edad actual es de 20 años\n"
     ]
    }
   ],
   "source": [
    "p_braumel.incr_age()"
   ]
  },
  {
   "cell_type": "code",
   "execution_count": 33,
   "id": "d4ce1f88",
   "metadata": {},
   "outputs": [
    {
     "name": "stdout",
     "output_type": "stream",
     "text": [
      "Tu peso actual es de 60 kg\n"
     ]
    }
   ],
   "source": [
    "p_braumel.diet(-5)"
   ]
  },
  {
   "cell_type": "code",
   "execution_count": null,
   "id": "62458b7c",
   "metadata": {},
   "outputs": [],
   "source": [
    "class Date:\n",
    "    def __init__(self, year, month, day, hour, min, sec):\n",
    "        self.year = year\n",
    "        self.month = month\n",
    "        self.day = day\n",
    "        self.hour = hour\n",
    "        self.min = min\n",
    "        self.sec = sec\n",
    "        \n",
    "    def incr_sec(self, add_sec):\n",
    "        self.sec = add_sec % 60\n",
    "        aux_min = add_sec // 60\n",
    "        self.min = aux_min % 60\n",
    "        aux_hour = aux_min // 60\n",
    "        self.hour = aux_hour % 24\n",
    "        aux_day = aux_hour // 24\n",
    "        self.day = aux_day % 30\n",
    "        \n",
    "        \n",
    "        \n",
    "        \n",
    "        \n",
    "        \n",
    "        "
   ]
  },
  {
   "cell_type": "code",
   "execution_count": null,
   "id": "f61974ff",
   "metadata": {},
   "outputs": [],
   "source": [
    "# 2017 + 350 millones de segundos"
   ]
  }
 ],
 "metadata": {
  "kernelspec": {
   "display_name": "Python 3 (ipykernel)",
   "language": "python",
   "name": "python3"
  },
  "language_info": {
   "codemirror_mode": {
    "name": "ipython",
    "version": 3
   },
   "file_extension": ".py",
   "mimetype": "text/x-python",
   "name": "python",
   "nbconvert_exporter": "python",
   "pygments_lexer": "ipython3",
   "version": "3.9.12"
  }
 },
 "nbformat": 4,
 "nbformat_minor": 5
}
