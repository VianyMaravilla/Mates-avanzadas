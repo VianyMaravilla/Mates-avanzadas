{
 "cells": [
  {
   "cell_type": "code",
   "execution_count": 1,
   "id": "9d349b5b",
   "metadata": {},
   "outputs": [
    {
     "data": {
      "text/html": [
       "<style>.container { width:100% !important; }</style>"
      ],
      "text/plain": [
       "<IPython.core.display.HTML object>"
      ]
     },
     "metadata": {},
     "output_type": "display_data"
    }
   ],
   "source": [
    "from IPython.display import display, HTML\n",
    "display(HTML(\"<style>.container { width:100% !important; }</style>\"))"
   ]
  },
  {
   "cell_type": "code",
   "execution_count": 2,
   "id": "b0dbd738",
   "metadata": {},
   "outputs": [],
   "source": [
    "import numpy as np\n",
    "import copy\n",
    "\n",
    "# Settings for printing numpy arrays\n",
    "np.set_printoptions(precision=4, edgeitems=50, suppress=True)\n",
    "np.core.arrayprint._line_width = 250"
   ]
  },
  {
   "cell_type": "markdown",
   "id": "2dcbceb7",
   "metadata": {},
   "source": [
    "# Simplex Method in tableau format\n",
    "\n",
    "Below is defined a function which comprises the Simplex Method under the table solution approach to solve Linear Programming Problems where we have to minimize or maximize an objective function under some restrictions."
   ]
  },
  {
   "cell_type": "code",
   "execution_count": 3,
   "id": "44e829a3",
   "metadata": {},
   "outputs": [],
   "source": [
    "def simplex_tableau(tableau, variables, basic_indexes, non_basic_indexes, itera = 1):\n",
    "    \n",
    "    basic_variables = [variables[i] for i in basic_indexes]\n",
    "    non_basic_variables = [variables[i] for i in non_basic_indexes]\n",
    "        \n",
    "    # Printing our initial parameters for this iteration\n",
    "    print(\"\\n\\n\\033[1mIteration \", itera, \"\\033[0m\")\n",
    "    print(\"[\\033[94m x_B \\033[0m, \\033[91m x_N \\033[0m] = [ \\033[94m\"\n",
    "          + ', '.join(basic_variables) + \"\\033[0m, \\033[91m\" + ', '.join(non_basic_variables) + \"\\033[0m ]\\n\")\n",
    "    \n",
    "    # Extracting elements from the tableau of the current iteration\n",
    "    m = np.shape(tableau)[0] - 1\n",
    "    n_plus_m = np.shape(tableau)[1] - 2\n",
    "    ZXN = np.ravel(tableau[0, [i + 1 for i in non_basic_indexes]])\n",
    "    XBXN = tableau[1:, [i + 1 for i in non_basic_indexes]]\n",
    "    ZRHS = np.array([tableau[0, n_plus_m + 1]])\n",
    "    XBRHS = (tableau[1:, n_plus_m + 1]).reshape(1, m)\n",
    "    b_ = np.concatenate((np.ravel(XBRHS), np.zeros(n_plus_m - m)))\n",
    "    \n",
    "    print(\"\\nEntry tableau\")\n",
    "    print(tableau)\n",
    "    \n",
    "    z_minus_c_max = max(ZXN)\n",
    "    k = np.argmax(ZXN)\n",
    "    \n",
    "    # Validating if we stop or not the optimization\n",
    "    if z_minus_c_max <= 0:   # We stop\n",
    "        \n",
    "        # Printing the final results\n",
    "        print(\"\\n\\n\\033[1mOptimality reached\\033[0m\")\n",
    "        print(\"\\nThe optimal BFS is\")\n",
    "        results_ls = [str(round(i, 4)) for i in b_]\n",
    "        print(\"\\033[92m[ \" + ', '.join(basic_variables + non_basic_variables) + \" ] = [ \" + ', '.join(results_ls) + \" ]\\033[0m\")\n",
    "        perf_z = ZRHS[0]\n",
    "        print(\"\\nWith performance z =\", perf_z, \"\\n\\n\")\n",
    "        \n",
    "        indexes_variables = [int(var[1:]) for var in basic_variables + non_basic_variables]\n",
    "        dict_solution = dict(zip(indexes_variables, [b_i for b_i in b_]))\n",
    "        sorted_dict_solution = dict(sorted(dict_solution.items(), key = lambda x:x[0]))\n",
    "        solution = np.array(list(sorted_dict_solution.values()))\n",
    "        #print(solution)\n",
    "        return solution\n",
    "        \n",
    "    else:   # We continue\n",
    "        \n",
    "        # Calculating and printing the y_ki's\n",
    "        y_k = np.ravel(XBXN[:, k])\n",
    "        \n",
    "        print(\"\\nk =\", k + 1, \"-> column no.\", k + 1, \"of x_N part (\", non_basic_variables[k], \")\")\n",
    "        print(\"y_k\")\n",
    "        print(y_k)\n",
    "        \n",
    "        # Analyzing if the optimal BFS is or not boundable by the condition y_k > 0\n",
    "        flag = True\n",
    "        aux_counter = 0\n",
    "        for y_i in y_k:\n",
    "            if y_i > 0:\n",
    "                aux_counter = aux_counter + 1      \n",
    "        if aux_counter == 0:\n",
    "            flag = False\n",
    "\n",
    "        if flag:   # Boundable\n",
    "            \n",
    "            # Calculating and printing x_k by the minimum quotient (current BFS divided by the y_k > 0) with its index r\n",
    "            quot_ls = list()\n",
    "            index_r_ls = list()\n",
    "            for i in range(m):\n",
    "                if y_k[i] > 0:\n",
    "                    quot_ls.append(b_[i] / y_k[i])\n",
    "                    index_r_ls.append(i)\n",
    "            quot_arr = np.array(quot_ls)\n",
    "            index_r_arr = np.array(index_r_ls)\n",
    "            r = index_r_arr[np.argmin(quot_arr)]\n",
    "            x_Br = min(quot_arr)\n",
    "            print(\"\\nr =\", r + 1, \"-> column no.\", r + 1, \"of x_B part (\", basic_variables[r], \")\")\n",
    "            print(\"x_Br\")\n",
    "            print(x_Br)\n",
    "            \n",
    "            # Pivoting\n",
    "            pivot = y_k[r]\n",
    "            print(\"\\npivot =\", pivot)\n",
    "            \n",
    "            tableau[r + 1, :] = tableau[r + 1, :] / pivot\n",
    "            for i in range(m + 1):\n",
    "                if i != r + 1:\n",
    "                    tableau[i, :] = tableau[i, :] - tableau[i, non_basic_indexes[k] + 1] * tableau[r + 1, :]\n",
    "            \n",
    "            print(\"\\nPivoted tableau\")\n",
    "            print(tableau)\n",
    "            # Exchanging the indexes\n",
    "            print(\"\\n\\033[94m\", non_basic_variables[k], \"enters\\033[0m and \\033[91m\", basic_variables[r], \"leaves\\033[0m the basis\")\n",
    "            aux_vars = basic_indexes[r]\n",
    "            basic_indexes[r] = non_basic_indexes[k]\n",
    "            non_basic_indexes[k] = aux_vars\n",
    "            # Exchanging columns in tableau\n",
    "            #aux_column = tableau[:, m + k + 1]\n",
    "            #tableau[:, m + k + 1] =  tableau[:, 1 + r]\n",
    "            #tableau[:, 1 + r] = aux_column\n",
    "            \n",
    "            # Recursive call\n",
    "            return simplex_tableau(tableau, variables, basic_indexes, non_basic_indexes, itera + 1)\n",
    "\n",
    "        else:   # Not boundable\n",
    "            \n",
    "            print(\"\\n\\n\\033[1mOptimization process stopped :(\\033[0m\")\n",
    "            print(\"\\nThe optimal BFS is not boundable\\n\\n\")\n",
    "            \n",
    "            return False\n",
    "            "
   ]
  },
  {
   "cell_type": "code",
   "execution_count": 4,
   "id": "628b1f3b",
   "metadata": {},
   "outputs": [],
   "source": [
    "def construct_tableau(A, b, c, basic_indexes):\n",
    "    m, n_plus_m = np.shape(A)\n",
    "    B = A[:m, basic_indexes]\n",
    "    c_b = c[basic_indexes]\n",
    "    b_ = np.linalg.inv(B) @ b\n",
    "\n",
    "    one_array = np.ones(1, dtype=int)\n",
    "    zero_array_v = np.ravel(np.zeros(m, dtype=int)).reshape(1, m)\n",
    "    ZX = np.ravel((c_b @ np.linalg.inv(B) @ A) - c)\n",
    "    XBX = np.linalg.inv(B) @ A\n",
    "    ZRHS = np.full((1), c_b @ np.ravel(b_))\n",
    "    XBRHS = b_.reshape(1, m)\n",
    "\n",
    "    tableau = np.vstack((np.concatenate((one_array, ZX, ZRHS), axis = 0).reshape(1, n_plus_m + 2),\n",
    "                  np.concatenate((zero_array_v.T, XBX, XBRHS.T), axis = 1)))\n",
    "    \n",
    "    return tableau"
   ]
  },
  {
   "cell_type": "markdown",
   "id": "57d29b91",
   "metadata": {},
   "source": [
    "This approach of the Simplex Method needs to preprocess our initial data in order to adjust it into a a particular tableau with the below entries:\n",
    "\n",
    "|         | $z$ | $x_{B}$ | $x_{N}$                | $RHS$         |\n",
    "|:---:|:---:|:---:|:---:|:---:|\n",
    "| $z$     | $1$ | $0$     | $c_{b}B^{-1}N - c_{N}$ | $c_b \\bar{b}$ |\n",
    "| $X_{B}$ | $0$ | $I$     | $B^{-1}N$              | $\\bar{b}$     |\n",
    "\n",
    "That if we break it down we get the following equivalent tableau\n",
    "\n",
    "|          | $z$      | $x_1$      | $x_2$      | $...$ | $x_n$      | $x_{n+1}$         | $...$ | $x_{n+m}$         | $RHS$         |\n",
    "|:---:|:---:|:---:|:---:|:---:|:---:|:---:|:---:|:---:|:---:|\n",
    "| $z$      | $1$      | $z_1-c_1$  | $z_2-c_2$  | $...$ | $z_n-c_n$  | $z_{n+1}-c_{n+1}$ | $...$ | $z_{n+m}-c_{n+m}$ | $c_b \\bar{b}$ |\n",
    "| $X_{B1}$ | $0$      | $Y_{1, 1}$ | $Y_{1, 2}$ | $...$ | $Y_{1, n}$ | $Y_{1, n+1}$      | $...$ | $Y_{1, n+m}$      | $\\bar{b_1}$        |\n",
    "| $X_{B2}$ | $0$      | $Y_{2, 1}$ | $Y_{2, 2}$ | $...$ | $Y_{2, n}$ | $Y_{2, n+1}$      | $...$ | $Y_{2, n+m}$      | $\\bar{b_2}$          |\n",
    "| $\\vdots$ | $\\vdots$ | $\\vdots$   | $\\vdots$   |       | $\\vdots$   | $\\vdots$          |       | $\\vdots$          | $\\vdots$      |\n",
    "| $X_{Bm}$ | $0$      | $Y_{m, 1}$ | $Y_{m, 2}$ | $...$ | $Y_{m, n}$ | $Y_{m, n+1}$      | $...$ | $Y_{m, n+m}$      | $\\bar{b_m}$          |"
   ]
  },
  {
   "cell_type": "markdown",
   "id": "0738db82",
   "metadata": {},
   "source": [
    "So, once we have already defined the previous function, we are able to apply it.\n",
    "\n",
    "#### Example 1:\n",
    "Solve the next linear programming problem:\n",
    "\n",
    "$$min \\hspace{0.5cm} x_1 + x_2 -4x_3$$\n",
    "$$under \\hspace{0.5cm} x_1 + x_2 + 2x_3 \\leq 9$$\n",
    "$$\\hspace{1.4cm} x_1 + x_2 - x_3 \\leq 2$$\n",
    "$$\\hspace{1.4cm} -x_1 + x_2 + x_3 \\leq 4$$\n",
    "$$\\hspace{1cm}x_1, x_2, x_3 \\geq 0$$\n",
    "\n",
    "First, we introduce our lack variables $x_4, x_5, x_6$ and the problem can be rewritten as\n",
    "$$min \\hspace{0.5cm} x_1 + x_2 -4x_3 + 0x_4 + 0x_5 + 0x_6$$\n",
    "$$under \\hspace{0.5cm} x_1 + x_2 + 2x_3 + x_4 + 0x_5 + 0x_6 = 9$$\n",
    "$$\\hspace{1.4cm} x_1 + x_2 - x_3 + 0x_4 + x_5 + 0x_6 = 2$$\n",
    "$$\\hspace{1.4cm} -x_1 + x_2 + x_3 + 0x_4 + 0x_5 + x_6 = 4$$\n",
    "$$\\hspace{1cm}x_1, x_2, x_3, x_4, x_5, x_6 \\geq 0$$\n",
    "\n",
    "Then, initially considering $x_4, x_5, x_6$ as the basic variables and $x_1, x_2, x_3$ as the non basic ones, we set our parameters that will enter to the method as presented below:\n",
    "\\begin{equation} A = [N | B] = \n",
    "\\left[\n",
    "\\begin{array}{ccc | ccc}\n",
    "1 & 1 & 2 & 1 & 0 & 0\\\\\n",
    "1 & 1 & -1 & 0 & 1 & 0\\\\\n",
    "-1 & 1 & 1 & 0 & 0 & 1\\\\\n",
    "\\end{array}\n",
    "\\right]\n",
    "\\end{equation}\n",
    "\n",
    "\\begin{equation} b = \n",
    "\\left[\n",
    "\\begin{array}{r}\n",
    "9\\\\\n",
    "2\\\\\n",
    "4\\\\\n",
    "\\end{array}\n",
    "\\right]\n",
    "\\end{equation}\n",
    "\n",
    "\n",
    "\\begin{equation} c = [c_{B} | c_{N}] =\n",
    "\\left[\n",
    "\\begin{array}{ccc|ccc}\n",
    "1 & 1 & -4 & 0 & 0 & 0\\\\\n",
    "\\end{array}\n",
    "\\right]\n",
    "\\end{equation}"
   ]
  },
  {
   "cell_type": "code",
   "execution_count": 5,
   "id": "3ef4fa42",
   "metadata": {},
   "outputs": [],
   "source": [
    "A = np.array([[1, 1, 2, 1, 0, 0], [1, 1, -1, 0, 1, 0], [-1, 1, 1, 0, 0, 1]])\n",
    "b = np.array([9, 2, 4])\n",
    "c = np.array([1, 1, -4, 0, 0, 0])\n",
    "variables = ['x' + str(i) for i in range(1, len(c) + 1)]"
   ]
  },
  {
   "cell_type": "code",
   "execution_count": 6,
   "id": "37ab7ac9",
   "metadata": {},
   "outputs": [],
   "source": [
    "basic_indexes = [3, 4, 5]\n",
    "non_basic_indexes = [0, 1, 2]"
   ]
  },
  {
   "cell_type": "code",
   "execution_count": 7,
   "id": "428e12fb",
   "metadata": {},
   "outputs": [],
   "source": [
    "tableau = construct_tableau(A, b, c, basic_indexes)"
   ]
  },
  {
   "cell_type": "code",
   "execution_count": 8,
   "id": "3f98f3d8",
   "metadata": {},
   "outputs": [
    {
     "data": {
      "text/plain": [
       "array([[ 1., -1., -1.,  4.,  0.,  0.,  0.,  0.],\n",
       "       [ 0.,  1.,  1.,  2.,  1.,  0.,  0.,  9.],\n",
       "       [ 0.,  1.,  1., -1.,  0.,  1.,  0.,  2.],\n",
       "       [ 0., -1.,  1.,  1.,  0.,  0.,  1.,  4.]])"
      ]
     },
     "execution_count": 8,
     "metadata": {},
     "output_type": "execute_result"
    }
   ],
   "source": [
    "tableau"
   ]
  },
  {
   "cell_type": "code",
   "execution_count": 9,
   "id": "7539c5e8",
   "metadata": {
    "scrolled": false
   },
   "outputs": [
    {
     "name": "stdout",
     "output_type": "stream",
     "text": [
      "\n",
      "\n",
      "\u001b[1mIteration  1 \u001b[0m\n",
      "[\u001b[94m x_B \u001b[0m, \u001b[91m x_N \u001b[0m] = [ \u001b[94mx4, x5, x6\u001b[0m, \u001b[91mx1, x2, x3\u001b[0m ]\n",
      "\n",
      "\n",
      "Entry tableau\n",
      "[[ 1. -1. -1.  4.  0.  0.  0.  0.]\n",
      " [ 0.  1.  1.  2.  1.  0.  0.  9.]\n",
      " [ 0.  1.  1. -1.  0.  1.  0.  2.]\n",
      " [ 0. -1.  1.  1.  0.  0.  1.  4.]]\n",
      "\n",
      "k = 3 -> column no. 3 of x_N part ( x3 )\n",
      "y_k\n",
      "[ 2. -1.  1.]\n",
      "\n",
      "r = 3 -> column no. 3 of x_B part ( x6 )\n",
      "x_Br\n",
      "4.0\n",
      "\n",
      "pivot = 1.0\n",
      "\n",
      "Pivoted tableau\n",
      "[[  1.   3.  -5.   0.   0.   0.  -4. -16.]\n",
      " [  0.   3.  -1.   0.   1.   0.  -2.   1.]\n",
      " [  0.   0.   2.   0.   0.   1.   1.   6.]\n",
      " [  0.  -1.   1.   1.   0.   0.   1.   4.]]\n",
      "\n",
      "\u001b[94m x3 enters\u001b[0m and \u001b[91m x6 leaves\u001b[0m the basis\n",
      "\n",
      "\n",
      "\u001b[1mIteration  2 \u001b[0m\n",
      "[\u001b[94m x_B \u001b[0m, \u001b[91m x_N \u001b[0m] = [ \u001b[94mx4, x5, x3\u001b[0m, \u001b[91mx1, x2, x6\u001b[0m ]\n",
      "\n",
      "\n",
      "Entry tableau\n",
      "[[  1.   3.  -5.   0.   0.   0.  -4. -16.]\n",
      " [  0.   3.  -1.   0.   1.   0.  -2.   1.]\n",
      " [  0.   0.   2.   0.   0.   1.   1.   6.]\n",
      " [  0.  -1.   1.   1.   0.   0.   1.   4.]]\n",
      "\n",
      "k = 1 -> column no. 1 of x_N part ( x1 )\n",
      "y_k\n",
      "[ 3.  0. -1.]\n",
      "\n",
      "r = 1 -> column no. 1 of x_B part ( x4 )\n",
      "x_Br\n",
      "0.3333333333333333\n",
      "\n",
      "pivot = 3.0\n",
      "\n",
      "Pivoted tableau\n",
      "[[  1.       0.      -4.       0.      -1.       0.      -2.     -17.    ]\n",
      " [  0.       1.      -0.3333   0.       0.3333   0.      -0.6667   0.3333]\n",
      " [  0.       0.       2.       0.       0.       1.       1.       6.    ]\n",
      " [  0.       0.       0.6667   1.       0.3333   0.       0.3333   4.3333]]\n",
      "\n",
      "\u001b[94m x1 enters\u001b[0m and \u001b[91m x4 leaves\u001b[0m the basis\n",
      "\n",
      "\n",
      "\u001b[1mIteration  3 \u001b[0m\n",
      "[\u001b[94m x_B \u001b[0m, \u001b[91m x_N \u001b[0m] = [ \u001b[94mx1, x5, x3\u001b[0m, \u001b[91mx4, x2, x6\u001b[0m ]\n",
      "\n",
      "\n",
      "Entry tableau\n",
      "[[  1.       0.      -4.       0.      -1.       0.      -2.     -17.    ]\n",
      " [  0.       1.      -0.3333   0.       0.3333   0.      -0.6667   0.3333]\n",
      " [  0.       0.       2.       0.       0.       1.       1.       6.    ]\n",
      " [  0.       0.       0.6667   1.       0.3333   0.       0.3333   4.3333]]\n",
      "\n",
      "\n",
      "\u001b[1mOptimality reached\u001b[0m\n",
      "\n",
      "The optimal BFS is\n",
      "\u001b[92m[ x1, x5, x3, x4, x2, x6 ] = [ 0.3333, 6.0, 4.3333, 0.0, 0.0, 0.0 ]\u001b[0m\n",
      "\n",
      "With performance z = -17.0 \n",
      "\n",
      "\n"
     ]
    },
    {
     "data": {
      "text/plain": [
       "array([0.3333, 0.    , 4.3333, 0.    , 6.    , 0.    ])"
      ]
     },
     "execution_count": 9,
     "metadata": {},
     "output_type": "execute_result"
    }
   ],
   "source": [
    "simplex_tableau(copy.deepcopy(tableau), copy.deepcopy(variables), copy.deepcopy(basic_indexes), copy.deepcopy(non_basic_indexes))"
   ]
  },
  {
   "cell_type": "markdown",
   "id": "3a6cc292",
   "metadata": {},
   "source": [
    "#### Example 2:\n",
    "Solve the next linear programming problem:\n",
    "\n",
    "$$max \\hspace{0.5cm} 3x_1 + 2x_2$$\n",
    "$$under \\hspace{0.5cm} 2x_1 - 3x_2 \\leq 3$$\n",
    "$$\\hspace{1cm}-x_1 + x_2 \\leq 5$$\n",
    "$$\\hspace{1cm}x_1, x_2 \\geq 0$$\n",
    "\n",
    "First, we introduce our lack variables $x_3, x_4$ and then multiply by $-1$ the objective function in order to turn the maximization problem into a minimization one. So the problem can be rewritten as\n",
    "$$min \\hspace{0.5cm} -3x_1 -2x_2 + 0x_3 + 0x_4$$\n",
    "$$under \\hspace{0.5cm} 2x_1 - 3x_2 + x_3 + 0x_4 = 3$$\n",
    "$$\\hspace{1cm}-x_1 + x_2 + 0x_3 + x_4 = 5$$\n",
    "$$\\hspace{1cm}x_1, x_2, x_3, x_4 \\geq 0$$\n",
    "\n",
    "Then, initially considering $x_3, x_4$ as the basic variables and $x_1, x_2$ as the non basic ones, we set our parameters that will enter to the method as presented below:\n",
    "\\begin{equation} A = [N | B] = \n",
    "\\left[\n",
    "\\begin{array}{rr|rr}\n",
    "2 & -3 & 1 & 0\\\\\n",
    "-1 & 1 & 0 & 1\\\\\n",
    "\\end{array}\n",
    "\\right]\n",
    "\\end{equation}\n",
    "\n",
    "\\begin{equation} b = \n",
    "\\left[\n",
    "\\begin{array}{r}\n",
    "3\\\\\n",
    "5\\\\\n",
    "\\end{array}\n",
    "\\right]\n",
    "\\end{equation}\n",
    "\n",
    "\n",
    "\\begin{equation} c = [c_{B} | c_{N}] =\n",
    "\\left[\n",
    "\\begin{array}{rr|rr}\n",
    "-3 & -2 & 0 & 0\\\\\n",
    "\\end{array}\n",
    "\\right]\n",
    "\\end{equation}"
   ]
  },
  {
   "cell_type": "code",
   "execution_count": 10,
   "id": "6a93259f",
   "metadata": {},
   "outputs": [],
   "source": [
    "A = np.matrix([[2, -3, 1, 0], [-1, 1, 0, 1]])\n",
    "b = np.array([3, 5])\n",
    "c = np.array([-3, -2, 0, 0])\n",
    "variables = [\"x1\", \"x2\", \"x3\", \"x4\"]"
   ]
  },
  {
   "cell_type": "code",
   "execution_count": 11,
   "id": "84942ea9",
   "metadata": {},
   "outputs": [],
   "source": [
    "basic_indexes = [2, 3]\n",
    "non_basic_indexes = [0, 1]"
   ]
  },
  {
   "cell_type": "code",
   "execution_count": 12,
   "id": "284c55d5",
   "metadata": {},
   "outputs": [],
   "source": [
    "tableau = construct_tableau(A, b, c, basic_indexes)"
   ]
  },
  {
   "cell_type": "code",
   "execution_count": 13,
   "id": "97619016",
   "metadata": {},
   "outputs": [
    {
     "data": {
      "text/plain": [
       "matrix([[ 1.,  3.,  2.,  0.,  0.,  0.],\n",
       "        [ 0.,  2., -3.,  1.,  0.,  3.],\n",
       "        [ 0., -1.,  1.,  0.,  1.,  5.]])"
      ]
     },
     "execution_count": 13,
     "metadata": {},
     "output_type": "execute_result"
    }
   ],
   "source": [
    "tableau"
   ]
  },
  {
   "cell_type": "code",
   "execution_count": 14,
   "id": "0b679612",
   "metadata": {
    "scrolled": false
   },
   "outputs": [
    {
     "name": "stdout",
     "output_type": "stream",
     "text": [
      "\n",
      "\n",
      "\u001b[1mIteration  1 \u001b[0m\n",
      "[\u001b[94m x_B \u001b[0m, \u001b[91m x_N \u001b[0m] = [ \u001b[94mx3, x4\u001b[0m, \u001b[91mx1, x2\u001b[0m ]\n",
      "\n",
      "\n",
      "Entry tableau\n",
      "[[ 1.  3.  2.  0.  0.  0.]\n",
      " [ 0.  2. -3.  1.  0.  3.]\n",
      " [ 0. -1.  1.  0.  1.  5.]]\n",
      "\n",
      "k = 1 -> column no. 1 of x_N part ( x1 )\n",
      "y_k\n",
      "[ 2. -1.]\n",
      "\n",
      "r = 1 -> column no. 1 of x_B part ( x3 )\n",
      "x_Br\n",
      "1.5\n",
      "\n",
      "pivot = 2.0\n",
      "\n",
      "Pivoted tableau\n",
      "[[ 1.   0.   6.5 -1.5  0.  -4.5]\n",
      " [ 0.   1.  -1.5  0.5  0.   1.5]\n",
      " [ 0.   0.  -0.5  0.5  1.   6.5]]\n",
      "\n",
      "\u001b[94m x1 enters\u001b[0m and \u001b[91m x3 leaves\u001b[0m the basis\n",
      "\n",
      "\n",
      "\u001b[1mIteration  2 \u001b[0m\n",
      "[\u001b[94m x_B \u001b[0m, \u001b[91m x_N \u001b[0m] = [ \u001b[94mx1, x4\u001b[0m, \u001b[91mx3, x2\u001b[0m ]\n",
      "\n",
      "\n",
      "Entry tableau\n",
      "[[ 1.   0.   6.5 -1.5  0.  -4.5]\n",
      " [ 0.   1.  -1.5  0.5  0.   1.5]\n",
      " [ 0.   0.  -0.5  0.5  1.   6.5]]\n",
      "\n",
      "k = 2 -> column no. 2 of x_N part ( x2 )\n",
      "y_k\n",
      "[-1.5 -0.5]\n",
      "\n",
      "\n",
      "\u001b[1mOptimization process stopped :(\u001b[0m\n",
      "\n",
      "The optimal BFS is not boundable\n",
      "\n",
      "\n"
     ]
    },
    {
     "data": {
      "text/plain": [
       "False"
      ]
     },
     "execution_count": 14,
     "metadata": {},
     "output_type": "execute_result"
    }
   ],
   "source": [
    "simplex_tableau(copy.deepcopy(tableau), copy.deepcopy(variables), copy.deepcopy(basic_indexes), copy.deepcopy(non_basic_indexes))"
   ]
  },
  {
   "cell_type": "code",
   "execution_count": null,
   "id": "bbf876a3",
   "metadata": {},
   "outputs": [],
   "source": []
  }
 ],
 "metadata": {
  "kernelspec": {
   "display_name": "Python 3 (ipykernel)",
   "language": "python",
   "name": "python3"
  },
  "language_info": {
   "codemirror_mode": {
    "name": "ipython",
    "version": 3
   },
   "file_extension": ".py",
   "mimetype": "text/x-python",
   "name": "python",
   "nbconvert_exporter": "python",
   "pygments_lexer": "ipython3",
   "version": "3.9.12"
  }
 },
 "nbformat": 4,
 "nbformat_minor": 5
}
