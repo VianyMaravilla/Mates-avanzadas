{
 "cells": [
  {
   "cell_type": "code",
   "execution_count": 1,
   "id": "b6142283",
   "metadata": {},
   "outputs": [
    {
     "data": {
      "text/html": [
       "<style>.container { width:100% !important; }</style>"
      ],
      "text/plain": [
       "<IPython.core.display.HTML object>"
      ]
     },
     "metadata": {},
     "output_type": "display_data"
    }
   ],
   "source": [
    "from IPython.display import display, HTML\n",
    "display(HTML(\"<style>.container { width:100% !important; }</style>\"))"
   ]
  },
  {
   "cell_type": "code",
   "execution_count": 2,
   "id": "b2b25dce",
   "metadata": {},
   "outputs": [],
   "source": [
    "import numpy as np\n",
    "import copy\n",
    "\n",
    "# Settings for printing numpy arrays\n",
    "np.set_printoptions(precision=4, edgeitems=50, suppress=True)\n",
    "np.core.arrayprint._line_width = 250"
   ]
  },
  {
   "cell_type": "markdown",
   "id": "2dcbceb7",
   "metadata": {},
   "source": [
    "# Sensitivity in tableau format\n",
    "\n",
    "Below are defined some cases when we modify an specific value from our initial Linear Programming Problem. In order to do that, we are going to retake the previous work of the Simplex Method and the Dual Simplex Method in tableau format."
   ]
  },
  {
   "cell_type": "code",
   "execution_count": 3,
   "id": "3ce4fc38",
   "metadata": {},
   "outputs": [],
   "source": [
    "def simplex_tableau(tableau, variables, basic_indexes, non_basic_indexes, itera = 1):\n",
    "    \n",
    "    basic_variables = [variables[i] for i in basic_indexes]\n",
    "    non_basic_variables = [variables[i] for i in non_basic_indexes]\n",
    "        \n",
    "    # Printing our initial parameters for this iteration\n",
    "    print(\"\\n\\n\\033[1mIteration \", itera, \"\\033[0m\")\n",
    "    print(\"[\\033[94m x_B \\033[0m, \\033[91m x_N \\033[0m] = [ \\033[94m\"\n",
    "          + ', '.join(basic_variables) + \"\\033[0m, \\033[91m\" + ', '.join(non_basic_variables) + \"\\033[0m ]\\n\")\n",
    "    \n",
    "    # Extracting elements from the tableau of the current iteration\n",
    "    m = np.shape(tableau)[0] - 1\n",
    "    n_plus_m = np.shape(tableau)[1] - 2\n",
    "    ZXN = np.ravel(tableau[0, [i + 1 for i in non_basic_indexes]])\n",
    "    XBXN = tableau[1:, [i + 1 for i in non_basic_indexes]]\n",
    "    ZRHS = np.array([tableau[0, n_plus_m + 1]])\n",
    "    XBRHS = (tableau[1:, n_plus_m + 1]).reshape(1, m)\n",
    "    b_ = np.concatenate((np.ravel(XBRHS), np.zeros(n_plus_m - m)))\n",
    "    \n",
    "    print(\"\\nEntry tableau\")\n",
    "    print(tableau)\n",
    "    \n",
    "    z_minus_c_max = max(ZXN)\n",
    "    k = np.argmax(ZXN)\n",
    "    \n",
    "    # Validating if we stop or not the optimization\n",
    "    if z_minus_c_max <= 0:   # We stop\n",
    "        \n",
    "        # Printing the final results\n",
    "        print(\"\\n\\n\\033[1mOptimality reached\\033[0m\")\n",
    "        print(\"\\nThe optimal BFS is\")\n",
    "        results_ls = [str(round(i, 4)) for i in b_]\n",
    "        print(\"\\033[92m[ \" + ', '.join(basic_variables + non_basic_variables) + \" ] = [ \" + ', '.join(results_ls) + \" ]\\033[0m\")\n",
    "        perf_z = ZRHS[0]\n",
    "        print(\"\\nWith performance z =\", perf_z, \"\\n\\n\")\n",
    "        \n",
    "        indexes_variables = [int(var[1:]) for var in basic_variables + non_basic_variables]\n",
    "        dict_solution = dict(zip(indexes_variables, [b_i for b_i in b_]))\n",
    "        sorted_dict_solution = dict(sorted(dict_solution.items(), key = lambda x:x[0]))\n",
    "        solution = np.array(list(sorted_dict_solution.values()))\n",
    "        #print(solution)\n",
    "        return solution\n",
    "        \n",
    "    else:   # We continue\n",
    "        \n",
    "        # Calculating and printing the y_ki's\n",
    "        y_k = np.ravel(XBXN[:, k])\n",
    "        \n",
    "        print(\"\\nk =\", k + 1, \"-> column no.\", k + 1, \"of x_N part (\", non_basic_variables[k], \")\")\n",
    "        print(\"y_k\")\n",
    "        print(y_k)\n",
    "        \n",
    "        # Analyzing if the optimal BFS is or not boundable by the condition y_k > 0\n",
    "        flag = True\n",
    "        aux_counter = 0\n",
    "        for y_i in y_k:\n",
    "            if y_i > 0:\n",
    "                aux_counter = aux_counter + 1      \n",
    "        if aux_counter == 0:\n",
    "            flag = False\n",
    "\n",
    "        if flag:   # Boundable\n",
    "            \n",
    "            # Calculating and printing x_k by the minimum quotient (current BFS divided by the y_k > 0) with its index r\n",
    "            quot_ls = list()\n",
    "            index_r_ls = list()\n",
    "            for i in range(m):\n",
    "                if y_k[i] > 0:\n",
    "                    quot_ls.append(b_[i] / y_k[i])\n",
    "                    index_r_ls.append(i)\n",
    "            quot_arr = np.array(quot_ls)\n",
    "            index_r_arr = np.array(index_r_ls)\n",
    "            r = index_r_arr[np.argmin(quot_arr)]\n",
    "            x_Br = min(quot_arr)\n",
    "            print(\"\\nr =\", r + 1, \"-> column no.\", r + 1, \"of x_B part (\", basic_variables[r], \")\")\n",
    "            print(\"x_Br\")\n",
    "            print(x_Br)\n",
    "            \n",
    "            # Pivoting\n",
    "            pivot = y_k[r]\n",
    "            print(\"\\npivot =\", pivot)\n",
    "            \n",
    "            tableau[r + 1, :] = tableau[r + 1, :] / pivot\n",
    "            for i in range(m + 1):\n",
    "                if i != r + 1:\n",
    "                    tableau[i, :] = tableau[i, :] - tableau[i, non_basic_indexes[k] + 1] * tableau[r + 1, :]\n",
    "            \n",
    "            print(\"\\nPivoted tableau\")\n",
    "            print(tableau)\n",
    "            # Exchanging the indexes\n",
    "            print(\"\\n\\033[94m\", non_basic_variables[k], \"enters\\033[0m and \\033[91m\", basic_variables[r], \"leaves\\033[0m the basis\")\n",
    "            aux_vars = basic_indexes[r]\n",
    "            basic_indexes[r] = non_basic_indexes[k]\n",
    "            non_basic_indexes[k] = aux_vars\n",
    "            # Exchanging columns in tableau\n",
    "            #aux_column = tableau[:, m + k + 1]\n",
    "            #tableau[:, m + k + 1] =  tableau[:, 1 + r]\n",
    "            #tableau[:, 1 + r] = aux_column\n",
    "            \n",
    "            # Recursive call\n",
    "            return simplex_tableau(tableau, variables, basic_indexes, non_basic_indexes, itera + 1)\n",
    "\n",
    "        else:   # Not boundable\n",
    "            \n",
    "            print(\"\\n\\n\\033[1mOptimization process stopped :(\\033[0m\")\n",
    "            print(\"\\nThe optimal BFS is not boundable\\n\\n\")\n",
    "            \n",
    "            return False\n",
    "            "
   ]
  },
  {
   "cell_type": "code",
   "execution_count": 4,
   "id": "1cbcb4d6",
   "metadata": {},
   "outputs": [],
   "source": [
    "def dual_simplex_tableau(tableau, variables, basic_indexes, non_basic_indexes, slack_indexes, itera = 1):\n",
    "    \n",
    "    basic_variables = [variables[i] for i in basic_indexes]\n",
    "    non_basic_variables = [variables[i] for i in non_basic_indexes]\n",
    "    \n",
    "    # Printing our initial parameters for this iteration\n",
    "    print(\"\\n\\n\\033[1mIteration \", itera, \"\\033[0m\")\n",
    "    print(\"[\\033[94m x_B \\033[0m, \\033[91m x_N \\033[0m] = [ \\033[94m\"\n",
    "          + ', '.join(basic_variables) + \"\\033[0m, \\033[91m\" + ', '.join(non_basic_variables) + \"\\033[0m ]\\n\")\n",
    "    \n",
    "    # Extracting elements from the tableau of the current iteration\n",
    "    m = np.shape(tableau)[0] - 1\n",
    "    n_plus_m = np.shape(tableau)[1] - 2\n",
    "    ZX = np.ravel(tableau[0, 1:n_plus_m + 1])\n",
    "    XBX = tableau[1:, 1:n_plus_m + 1]\n",
    "    ZRHS = np.array([tableau[0, n_plus_m + 1]])\n",
    "    XBRHS = (tableau[1:, n_plus_m + 1]).reshape(1, m)\n",
    "    b_ = np.concatenate((np.ravel(XBRHS), np.zeros(n_plus_m - m)))\n",
    "    \n",
    "    print(\"\\nEntry tableau\")\n",
    "    print(tableau)\n",
    "    \n",
    "    positive_b = True\n",
    "    for b_i in np.ravel(XBRHS):\n",
    "        if b_i < 0:\n",
    "            positive_b = False\n",
    "            break\n",
    "    \n",
    "    # Validating if we stop or not the optimization\n",
    "    if positive_b:   # We stop\n",
    "        \n",
    "        # Printing the final results\n",
    "        print(\"\\n\\n\\033[1mOptimality reached\\033[0m\")\n",
    "        print(\"\\nThe optimal primal solution is\")\n",
    "        results_primal_ls = [str(round(i, 4)) for i in b_]\n",
    "        print(\"\\033[92m[ \" + ', '.join(basic_variables + non_basic_variables) + \" ] = [ \" + ', '.join(results_primal_ls) + \" ]\\033[0m\")\n",
    "        perf_z = ZRHS[0]\n",
    "        print(\"\\nWith performance z =\", perf_z)\n",
    "        print(\"\\nAnd the optimal dual solution is\")\n",
    "        results_dual_ls = np.ravel(-1 * tableau[0, [i + 1 for i in slack_indexes]]).tolist()\n",
    "        results_dual_ls_f = [str(round(i, 4)) for i in results_dual_ls]\n",
    "        print(\"\\033[92m[ \" + ', '.join(['w' + str(i + 1) for i in range(m)]) + \" ] = [ \" + ', '.join(results_dual_ls_f) + \" ]\\033[0m\\n\\n\")\n",
    "        \n",
    "        indexes_variables = [int(var[1:]) for var in basic_variables + non_basic_variables]\n",
    "        dict_primal_solution = dict(zip(indexes_variables, [b_i for b_i in b_]))\n",
    "        sorted_dict_primal_solution = dict(sorted(dict_primal_solution.items(), key = lambda x:x[0]))\n",
    "        primal_solution = np.array(list(sorted_dict_primal_solution.values()))\n",
    "        \n",
    "        dict_dual_solution = dict(zip([i for i in range(m)], results_dual_ls))\n",
    "        sorted_dict_dual_solution = dict(sorted(dict_dual_solution.items(), key = lambda x:x[0]))\n",
    "        dual_solution = np.array(list(sorted_dict_dual_solution.values()))\n",
    "        \n",
    "        #print(solution)\n",
    "        return primal_solution, dual_solution\n",
    "        \n",
    "    else:   # We continue\n",
    "        \n",
    "        br = min(XBRHS)\n",
    "        r = np.argmin(XBRHS)\n",
    "        \n",
    "        # Calculating and printing the y_ri's\n",
    "        y_r = np.ravel(XBX[r, :])\n",
    "        \n",
    "        print(\"\\nr =\", r + 1, \"-> row no.\", r + 1, \"of x_B part (\", basic_variables[r], \")\")\n",
    "        print(\"y_r\")\n",
    "        print(y_r)\n",
    "        \n",
    "        # Analyzing if the Dual Problem is or not boundable by the condition y_r >= 0\n",
    "        flag = True\n",
    "        aux_counter = 0\n",
    "        for y_i in y_r:\n",
    "            if y_i >= 0:\n",
    "                aux_counter += 1      \n",
    "        if aux_counter == len(y_r):\n",
    "            flag = False\n",
    "\n",
    "        if flag:   # Boundable\n",
    "            \n",
    "            # Calculating and printing x_k by the minimum quotient (current BFS divided by the y_k > 0) with its index r\n",
    "            quot_ls = list()\n",
    "            index_k_ls = list()\n",
    "            for i in range(n_plus_m):\n",
    "                if y_r[i] < 0:\n",
    "                    quot_ls.append(ZX[i] / y_r[i])\n",
    "                    index_k_ls.append(i)\n",
    "            quot_arr = np.array(quot_ls)\n",
    "            index_k_arr = np.array(index_k_ls)\n",
    "            k = index_k_arr[np.argmin(quot_arr)]\n",
    "            min_quot = min(quot_arr)\n",
    "            print(\"\\nk =\", k + 1, \"-> column no.\", k + 1, \"of x part (\", variables[k], \")\")\n",
    "            print(\"min_quotient\")\n",
    "            print(min_quot)\n",
    "            \n",
    "            # Pivoting\n",
    "            pivot = y_r[k]\n",
    "            print(\"\\npivot =\", pivot)\n",
    "            \n",
    "            tableau[r + 1, :] = tableau[r + 1, :] / pivot\n",
    "            for i in range(m + 1):\n",
    "                if i != r + 1:\n",
    "                    tableau[i, :] = tableau[i, :] - tableau[i, k + 1] * tableau[r + 1, :]\n",
    "            \n",
    "            print(\"\\nPivoted tableau\")\n",
    "            print(tableau)\n",
    "            # Exchanging the indexes\n",
    "            k_relative = 0\n",
    "            for i in range(len(non_basic_indexes)):\n",
    "                if k == non_basic_indexes[i]:\n",
    "                    k_relative = i\n",
    "                    break\n",
    "            print(\"\\n\\033[94m\", non_basic_variables[k_relative], \"enters\\033[0m and \\033[91m\", basic_variables[r], \"leaves\\033[0m the basis\")\n",
    "            aux_vars = basic_indexes[r]\n",
    "            basic_indexes[r] = non_basic_indexes[k_relative]\n",
    "            non_basic_indexes[k_relative] = aux_vars\n",
    "            \n",
    "            # Recursive call\n",
    "            return dual_simplex_tableau(tableau, variables, basic_indexes, non_basic_indexes, slack_indexes, itera + 1)\n",
    "\n",
    "        else:   # Not boundable\n",
    "            \n",
    "            print(\"\\n\\n\\033[1mOptimization process stopped :(\\033[0m\")\n",
    "            print(\"\\nThe Dual Problem is not boundable, thus the primal feasible region is empty\\n\\n\")\n",
    "            \n",
    "            return False, False\n",
    "            "
   ]
  },
  {
   "cell_type": "code",
   "execution_count": 5,
   "id": "c693dfed",
   "metadata": {},
   "outputs": [],
   "source": [
    "def construct_tableau(A, b, c, basic_indexes):\n",
    "    m, n_plus_m = np.shape(A)\n",
    "    B = A[:m, basic_indexes]\n",
    "    c_b = c[basic_indexes]\n",
    "    b_ = np.linalg.inv(B) @ b\n",
    "\n",
    "    one_array = np.ones(1, dtype=int)\n",
    "    zero_array_v = np.ravel(np.zeros(m, dtype=int)).reshape(1, m)\n",
    "    ZX = np.ravel((c_b @ np.linalg.inv(B) @ A) - c)\n",
    "    XBX = np.linalg.inv(B) @ A\n",
    "    ZRHS = np.full((1), c_b @ np.ravel(b_))\n",
    "    XBRHS = b_.reshape(1, m)\n",
    "\n",
    "    tableau = np.vstack((np.concatenate((one_array, ZX, ZRHS), axis = 0).reshape(1, n_plus_m + 2),\n",
    "                  np.concatenate((zero_array_v.T, XBX, XBRHS.T), axis = 1)))\n",
    "    \n",
    "    return tableau"
   ]
  },
  {
   "cell_type": "markdown",
   "id": "b8bafd31",
   "metadata": {},
   "source": [
    "### Changes on the costs vector c"
   ]
  },
  {
   "cell_type": "code",
   "execution_count": 6,
   "id": "62808e53",
   "metadata": {},
   "outputs": [],
   "source": [
    "def sensitivity_costs_vector_c(tableau, original_costs, changed_costs, variables, basic_indexes, non_basic_indexes):\n",
    "    \n",
    "    basic_variables = [variables[i] for i in basic_indexes]\n",
    "    non_basic_variables = [variables[i] for i in non_basic_indexes]\n",
    "    \n",
    "    # Extracting elements from the tableau of the current iteration\n",
    "    m = np.shape(tableau)[0] - 1\n",
    "    n_plus_m = np.shape(tableau)[1] - 2\n",
    "    \n",
    "    basic_change = False\n",
    "    non_basic_change = False\n",
    "    \n",
    "    for i in range(n_plus_m):\n",
    "        if original_costs[i] != changed_costs[i]:\n",
    "            index_change = i\n",
    "            ck = original_costs[i]\n",
    "            ck_p = changed_costs[i]\n",
    "            \n",
    "            # Non basic change\n",
    "            if index_change in non_basic_indexes:\n",
    "                print(\"\\n\\033[1mSensitivity analysis: Changes on the costs vector\\033[0m\")\n",
    "                print(\"Detected modification in \\033[91mnon basic variable\", variables[index_change], \"\\033[0m\")\n",
    "                non_basic_change = True\n",
    "                z_minus_c_p = tableau[0, 1 + index_change] + (ck - ck_p)\n",
    "                tableau[0, 1 + index_change] = z_minus_c_p\n",
    "                if z_minus_c_p > 0:\n",
    "                    print(\"\\n[\\033[94m x_B \\033[0m, \\033[91m x_N \\033[0m] = [ \\033[94m\"\n",
    "                          + ', '.join(basic_variables) + \"\\033[0m, \\033[91m\" + ', '.join(non_basic_variables) + \"\\033[0m ]\")\n",
    "                    print(\"\\nThe problem needs the simplex method applied to it beginning with the resultant table\")\n",
    "                    print(tableau)\n",
    "                    simplex_tableau(copy.deepcopy(tableau), copy.deepcopy(variables), copy.deepcopy(basic_indexes), copy.deepcopy(non_basic_indexes))\n",
    "                else:\n",
    "                    print(\"\\nThe changed solution remains optimal\")\n",
    "                    print(tableau)\n",
    "            # Basic change\n",
    "            else:\n",
    "                print(\"\\n\\033[1mSensitivity analysis: Changes on the costs vector c\\033[0m\")\n",
    "                print(\"Detected modification in \\033[94mbasic variable\", variables[index_change], \"\\033[0m\")\n",
    "                print(\"\\n[\\033[94m x_B \\033[0m, \\033[91m x_N \\033[0m] = [ \\033[94m\"\n",
    "                          + ', '.join(basic_variables) + \"\\033[0m, \\033[91m\" + ', '.join(non_basic_variables) + \"\\033[0m ]\")\n",
    "                basic_change = True\n",
    "                k_relative = 0\n",
    "                for i in range(len(basic_indexes)):\n",
    "                    if index_change == basic_indexes[i]:\n",
    "                        k_relative = i\n",
    "                        break\n",
    "                \n",
    "                row_k_relative = np.ravel(tableau[k_relative + 1, :]) * (ck_p - ck)\n",
    "                tableau[0, :] += row_k_relative\n",
    "                tableau[0, index_change + 1] = 0\n",
    "                \n",
    "                index_positive = -1\n",
    "                ZX = np.ravel(tableau[0, 1:n_plus_m + 1])\n",
    "                for i in range(len(ZX)):\n",
    "                    if ZX[i] > 0:\n",
    "                        index_positive = i\n",
    "                        break\n",
    "                \n",
    "                if index_positive in non_basic_indexes:\n",
    "                    print(\"\\nThe problem needs the simplex method applied to it beginning with the resultant table\\n\")\n",
    "                    print(tableau)\n",
    "                    simplex_tableau(copy.deepcopy(tableau), copy.deepcopy(variables), copy.deepcopy(basic_indexes), copy.deepcopy(non_basic_indexes))\n",
    "                else:\n",
    "                    print(\"\\nAlthough changes, the problem has the optimal primal table\\n\")\n",
    "                    print(tableau)\n",
    "            break\n",
    "            "
   ]
  },
  {
   "cell_type": "markdown",
   "id": "f726c47f",
   "metadata": {},
   "source": [
    "### Changes on the right vector b"
   ]
  },
  {
   "cell_type": "code",
   "execution_count": 7,
   "id": "386bbb6b",
   "metadata": {},
   "outputs": [],
   "source": [
    "def sensitivity_right_vector_b(tableau, A, c, original_b, changed_b, variables, basic_indexes, non_basic_indexes, slack_indexes):\n",
    "    \n",
    "    basic_variables = [variables[i] for i in basic_indexes]\n",
    "    non_basic_variables = [variables[i] for i in non_basic_indexes]\n",
    "    \n",
    "    B = A[:, basic_indexes]\n",
    "    c_b = c[basic_indexes]\n",
    "    original_basic_solution = np.linalg.inv(B) @ original_b\n",
    "    changed_basic_solution = np.linalg.inv(B) @ changed_b\n",
    "    tableau[1:, -1] = changed_basic_solution\n",
    "    z = c_b @ np.linalg.inv(B) @ changed_b\n",
    "    tableau[0, -1] = z\n",
    "    \n",
    "    for i in range(len(changed_basic_solution)):\n",
    "        if original_b[i] != changed_b[i]:\n",
    "            index_change = i\n",
    "            print(\"\\n\\033[1mSensitivity analysis: Changes on the right vector b\\033[0m\")\n",
    "            print(\"Detected modification in \\033[91mentry no.\", str(i + 1), \"\\033[0m\")\n",
    "            print(\"\\n[\\033[94m x_B \\033[0m, \\033[91m x_N \\033[0m] = [ \\033[94m\"\n",
    "                          + ', '.join(basic_variables) + \"\\033[0m, \\033[91m\" + ', '.join(non_basic_variables) + \"\\033[0m ]\")\n",
    "            counter_flag = 0\n",
    "            for i in range(len(changed_basic_solution)):\n",
    "                if changed_basic_solution[i] >= 0:\n",
    "                    counter_flag += 1\n",
    "            if counter_flag == len(changed_basic_solution):\n",
    "                print(\"\\nAlthough changes, the problem has the optimal primal table\\n\")\n",
    "                print(tableau)\n",
    "            else:\n",
    "                print(\"\\nThe problem needs the dual simplex method applied to it beginning with the resultant table\\n\")\n",
    "                print(tableau)\n",
    "                dual_simplex_tableau(copy.deepcopy(tableau), copy.deepcopy(variables), copy.deepcopy(basic_indexes), copy.deepcopy(non_basic_indexes), copy.deepcopy(slack_indexes))\n",
    "                "
   ]
  },
  {
   "cell_type": "markdown",
   "id": "6eb5e59f",
   "metadata": {},
   "source": [
    "### Changes on the constraints matrix A"
   ]
  },
  {
   "cell_type": "code",
   "execution_count": 8,
   "id": "2df5673b",
   "metadata": {},
   "outputs": [],
   "source": [
    "def sensitivity_constraint_matrix_A(tableau, A, c, aj, aj_p, variables, basic_indexes, non_basic_indexes):\n",
    "    \n",
    "    basic_variables = [variables[i] for i in basic_indexes]\n",
    "    non_basic_variables = [variables[i] for i in non_basic_indexes]\n",
    "    \n",
    "    index_change = -1\n",
    "    for i in range(len(basic_indexes + non_basic_indexes)):\n",
    "        counter_flag = 0\n",
    "        for j in range(len(basic_indexes)):\n",
    "            if A[j, i] == aj[j]:\n",
    "                counter_flag += 1\n",
    "        if counter_flag == len(basic_indexes):\n",
    "            index_change = i\n",
    "            break\n",
    "    \n",
    "    if index_change != -1:\n",
    "        B = A[:, basic_indexes]\n",
    "        c_b = c[basic_indexes]\n",
    "        yj_p = np.linalg.inv(B) @ aj_p\n",
    "        zj_p_minus_cj = c_b @ np.linalg.inv(B) @ aj_p - c[index_change]\n",
    "        tableau[0, index_change + 1] = zj_p_minus_cj\n",
    "        tableau[1:, index_change + 1] = yj_p\n",
    "\n",
    "        if index_change in non_basic_indexes:\n",
    "\n",
    "            print(\"\\n\\033[1mSensitivity analysis: Changes on the constraints matrix A\\033[0m\")\n",
    "            print(\"Detected modification in \\033[91mnon basic variable\", variables[index_change], \"\\033[0m\")\n",
    "            print(\"\\n[\\033[94m x_B \\033[0m, \\033[91m x_N \\033[0m] = [ \\033[94m\"\n",
    "                          + ', '.join(basic_variables) + \"\\033[0m, \\033[91m\" + ', '.join(non_basic_variables) + \"\\033[0m ]\")\n",
    "            \n",
    "            if zj_p_minus_cj <= 0:\n",
    "                print(\"\\nAlthough changes, the problem has the optimal primal table\\n\")\n",
    "                print(tableau)\n",
    "            else:\n",
    "                print(\"\\nThe problem needs the dual simplex method applied to it beginning with the resultant table\\n\")\n",
    "                print(tableau)\n",
    "                simplex_tableau(copy.deepcopy(tableau), copy.deepcopy(variables), copy.deepcopy(basic_indexes), copy.deepcopy(non_basic_indexes))\n",
    "\n",
    "        else:\n",
    "\n",
    "            print(\"\\n\\033[1mSensitivity analysis: Changes on the constraints matrix A\\033[0m\")\n",
    "            print(\"Detected modification in \\033[94m basic variable\", variables[index_change], \"\\033[0m\")\n",
    "            print(\"\\n[\\033[94m x_B \\033[0m, \\033[91m x_N \\033[0m] = [ \\033[94m\"\n",
    "                          + ', '.join(basic_variables) + \"\\033[0m, \\033[91m\" + ', '.join(non_basic_variables) + \"\\033[0m ]\")\n",
    "            \n",
    "            k_relative = 0\n",
    "            for i in range(len(basic_indexes)):\n",
    "                if index_change == basic_indexes[i]:\n",
    "                    k_relative = i\n",
    "                    break\n",
    "\n",
    "            if yj_p[k_relative] == 0:\n",
    "                print(\"\\nThe current set of basic vectors no longer forms a basis\\n\")\n",
    "                print(tableau)\n",
    "            else:\n",
    "                pivot = yj_p[k_relative]          \n",
    "                tableau[index_change + 1, :] = tableau[index_change + 1, :] / pivot\n",
    "                for i in range(len(tableau)):\n",
    "                    if i != k_relative + 1:\n",
    "                        tableau[i, :] = tableau[i, :] - tableau[i, index_change + 1] * tableau[k_relative + 1, :]\n",
    "                print(\"\\nAfter pivoting we get the resultant table\\n\")\n",
    "                print(tableau)\n",
    "            "
   ]
  },
  {
   "cell_type": "markdown",
   "id": "0738db82",
   "metadata": {},
   "source": [
    "So, once we have already defined the previous function, we are able to apply it.\n",
    "\n",
    "#### Example 1:\n",
    "Consider the following problem:\n",
    "\n",
    "$$min \\hspace{0.5cm} -2x_1 + x_2 - x_3$$\n",
    "$$under \\hspace{0.5cm} x_1 + x_2 + x_3 \\leq 6$$\n",
    "$$\\hspace{1.4cm} -x_1 + 2x_2 + 0x_3 \\leq 4$$\n",
    "$$\\hspace{1cm}x_1, x_2, x_3 \\geq 0$$\n",
    "\n",
    "Introducing our slack variables $x_4, x_5$ and then apply the simplex method by tableau format we get the primal optimal table:\n",
    "\n",
    "|     | $z$ | $x_1$ | $x_2$ | $x_3$ | $x_4$ | $x_5$ | $RHS$ |\n",
    "|:---:|:---:|:---:|:---:|:---:|:---:|:---:|:---:|\n",
    "| $z$ | $1$ | $0$ | $-3$ | $-1$ | $-2$ | $0$ | $-12$ |\n",
    "| $X_{1}$ | $0$ | $1$ | $1$ | $1$ | $1$ | $0$ | $6$ |\n",
    "| $X_{5}$ | $0$ | $0$ | $3$ | $1$ | $1$ | $1$ | $10$ |"
   ]
  },
  {
   "cell_type": "code",
   "execution_count": 9,
   "id": "47480c17",
   "metadata": {},
   "outputs": [],
   "source": [
    "A = np.array([[1, 1, 1, 1, 0],\n",
    "             [-1, 2, 0, 0, 1]])\n",
    "b = np.array([6, 4])\n",
    "c = np.array([-2, 1, -1, 0, 0])"
   ]
  },
  {
   "cell_type": "code",
   "execution_count": 10,
   "id": "403dade5",
   "metadata": {},
   "outputs": [],
   "source": [
    "variables = [\"x1\", \"x2\", \"x3\", \"x4\", \"x5\"]\n",
    "basic_indexes = [0, 4]\n",
    "non_basic_indexes = [1, 2, 3]\n",
    "slack_indexes = [3, 4]"
   ]
  },
  {
   "cell_type": "code",
   "execution_count": 11,
   "id": "3ef4fa42",
   "metadata": {},
   "outputs": [],
   "source": [
    "optimal_tableau = np.array([[1., 0., -3., -1., -2., 0., -12.],\n",
    "                            [0., 1., 1., 1., 1., 0., 6.],\n",
    "                            [0., 0., 3., 1., 1., 1., 10.]])"
   ]
  },
  {
   "cell_type": "code",
   "execution_count": 12,
   "id": "8f26a9b8",
   "metadata": {
    "scrolled": true
   },
   "outputs": [
    {
     "data": {
      "text/plain": [
       "array([[  1.,   0.,  -3.,  -1.,  -2.,   0., -12.],\n",
       "       [  0.,   1.,   1.,   1.,   1.,   0.,   6.],\n",
       "       [  0.,   0.,   3.,   1.,   1.,   1.,  10.]])"
      ]
     },
     "execution_count": 12,
     "metadata": {},
     "output_type": "execute_result"
    }
   ],
   "source": [
    "optimal_tableau"
   ]
  },
  {
   "cell_type": "markdown",
   "id": "c144a814",
   "metadata": {},
   "source": [
    "\\begin{equation} A = [N | B] = \n",
    "\\left[\n",
    "\\begin{array}{ccc | ccc}\n",
    "1 & 1 & 2 & 1 & 0 & 0\\\\\n",
    "1 & 1 & -1 & 0 & 1 & 0\\\\\n",
    "-1 & 1 & 1 & 0 & 0 & 1\\\\\n",
    "\\end{array}\n",
    "\\right]\n",
    "\\end{equation}\n",
    "\n",
    "\\begin{equation} b = \n",
    "\\left[\n",
    "\\begin{array}{r}\n",
    "9\\\\\n",
    "2\\\\\n",
    "4\\\\\n",
    "\\end{array}\n",
    "\\right]\n",
    "\\end{equation}\n",
    "\n",
    "\n",
    "\\begin{equation} c = [c_{B} | c_{N}] =\n",
    "\\left[\n",
    "\\begin{array}{ccc|ccc}\n",
    "1 & 1 & -4 & 0 & 0 & 0\\\\\n",
    "\\end{array}\n",
    "\\right]\n",
    "\\end{equation}"
   ]
  },
  {
   "cell_type": "markdown",
   "id": "d50dd559",
   "metadata": {},
   "source": [
    "##### Costs vector c"
   ]
  },
  {
   "cell_type": "markdown",
   "id": "7e58acbe",
   "metadata": {},
   "source": [
    "\\begin{equation} c =\n",
    "\\left[\n",
    "\\begin{array}{ccccc}\n",
    "-2 & 1 & -1 & 0 & 0\\\\\n",
    "\\end{array}\n",
    "\\right]\n",
    "\\end{equation}\n",
    "\n",
    "\\begin{equation} c' =\n",
    "\\left[\n",
    "\\begin{array}{ccccc}\n",
    "-2 & -3 & -1 & 0 & 0\\\\\n",
    "\\end{array}\n",
    "\\right]\n",
    "\\end{equation}"
   ]
  },
  {
   "cell_type": "code",
   "execution_count": 13,
   "id": "7539c5e8",
   "metadata": {
    "scrolled": false
   },
   "outputs": [],
   "source": [
    "original_costs = np.array([-2, 1, -1, 0, 0])\n",
    "changed_costs = np.array([-2, -3, -1, 0, 0])"
   ]
  },
  {
   "cell_type": "code",
   "execution_count": 14,
   "id": "489bdd67",
   "metadata": {
    "scrolled": true
   },
   "outputs": [
    {
     "name": "stdout",
     "output_type": "stream",
     "text": [
      "\n",
      "\u001b[1mSensitivity analysis: Changes on the costs vector\u001b[0m\n",
      "Detected modification in \u001b[91mnon basic variable x2 \u001b[0m\n",
      "\n",
      "[\u001b[94m x_B \u001b[0m, \u001b[91m x_N \u001b[0m] = [ \u001b[94mx1, x5\u001b[0m, \u001b[91mx2, x3, x4\u001b[0m ]\n",
      "\n",
      "The problem needs the simplex method applied to it beginning with the resultant table\n",
      "[[  1.   0.   1.  -1.  -2.   0. -12.]\n",
      " [  0.   1.   1.   1.   1.   0.   6.]\n",
      " [  0.   0.   3.   1.   1.   1.  10.]]\n",
      "\n",
      "\n",
      "\u001b[1mIteration  1 \u001b[0m\n",
      "[\u001b[94m x_B \u001b[0m, \u001b[91m x_N \u001b[0m] = [ \u001b[94mx1, x5\u001b[0m, \u001b[91mx2, x3, x4\u001b[0m ]\n",
      "\n",
      "\n",
      "Entry tableau\n",
      "[[  1.   0.   1.  -1.  -2.   0. -12.]\n",
      " [  0.   1.   1.   1.   1.   0.   6.]\n",
      " [  0.   0.   3.   1.   1.   1.  10.]]\n",
      "\n",
      "k = 1 -> column no. 1 of x_N part ( x2 )\n",
      "y_k\n",
      "[1. 3.]\n",
      "\n",
      "r = 2 -> column no. 2 of x_B part ( x5 )\n",
      "x_Br\n",
      "3.3333333333333335\n",
      "\n",
      "pivot = 3.0\n",
      "\n",
      "Pivoted tableau\n",
      "[[  1.       0.       0.      -1.3333  -2.3333  -0.3333 -15.3333]\n",
      " [  0.       1.       0.       0.6667   0.6667  -0.3333   2.6667]\n",
      " [  0.       0.       1.       0.3333   0.3333   0.3333   3.3333]]\n",
      "\n",
      "\u001b[94m x2 enters\u001b[0m and \u001b[91m x5 leaves\u001b[0m the basis\n",
      "\n",
      "\n",
      "\u001b[1mIteration  2 \u001b[0m\n",
      "[\u001b[94m x_B \u001b[0m, \u001b[91m x_N \u001b[0m] = [ \u001b[94mx1, x2\u001b[0m, \u001b[91mx5, x3, x4\u001b[0m ]\n",
      "\n",
      "\n",
      "Entry tableau\n",
      "[[  1.       0.       0.      -1.3333  -2.3333  -0.3333 -15.3333]\n",
      " [  0.       1.       0.       0.6667   0.6667  -0.3333   2.6667]\n",
      " [  0.       0.       1.       0.3333   0.3333   0.3333   3.3333]]\n",
      "\n",
      "\n",
      "\u001b[1mOptimality reached\u001b[0m\n",
      "\n",
      "The optimal BFS is\n",
      "\u001b[92m[ x1, x2, x5, x3, x4 ] = [ 2.6667, 3.3333, 0.0, 0.0, 0.0 ]\u001b[0m\n",
      "\n",
      "With performance z = -15.333333333333334 \n",
      "\n",
      "\n"
     ]
    }
   ],
   "source": [
    "sensitivity_costs_vector_c(copy.deepcopy(optimal_tableau), copy.deepcopy(original_costs), copy.deepcopy(changed_costs), copy.deepcopy(variables), copy.deepcopy(basic_indexes), copy.deepcopy(non_basic_indexes))"
   ]
  },
  {
   "cell_type": "markdown",
   "id": "ba44d6fb",
   "metadata": {},
   "source": [
    "\\begin{equation} c =\n",
    "\\left[\n",
    "\\begin{array}{ccccc}\n",
    "-2 & 1 & -1 & 0 & 0\\\\\n",
    "\\end{array}\n",
    "\\right]\n",
    "\\end{equation}\n",
    "\n",
    "\\begin{equation} c' =\n",
    "\\left[\n",
    "\\begin{array}{ccccc}\n",
    "0 & 1 & -1 & 0 & 0\\\\\n",
    "\\end{array}\n",
    "\\right]\n",
    "\\end{equation}"
   ]
  },
  {
   "cell_type": "code",
   "execution_count": 15,
   "id": "25f83100",
   "metadata": {
    "scrolled": false
   },
   "outputs": [],
   "source": [
    "original_costs = np.array([-2, 1, -1, 0, 0])\n",
    "changed_costs = np.array([0, 1, -1, 0, 0])"
   ]
  },
  {
   "cell_type": "code",
   "execution_count": 16,
   "id": "d46bf997",
   "metadata": {
    "scrolled": false
   },
   "outputs": [
    {
     "name": "stdout",
     "output_type": "stream",
     "text": [
      "\n",
      "\u001b[1mSensitivity analysis: Changes on the costs vector c\u001b[0m\n",
      "Detected modification in \u001b[94mbasic variable x1 \u001b[0m\n",
      "\n",
      "[\u001b[94m x_B \u001b[0m, \u001b[91m x_N \u001b[0m] = [ \u001b[94mx1, x5\u001b[0m, \u001b[91mx2, x3, x4\u001b[0m ]\n",
      "\n",
      "The problem needs the simplex method applied to it beginning with the resultant table\n",
      "\n",
      "[[ 1.  0. -1.  1.  0.  0.  0.]\n",
      " [ 0.  1.  1.  1.  1.  0.  6.]\n",
      " [ 0.  0.  3.  1.  1.  1. 10.]]\n",
      "\n",
      "\n",
      "\u001b[1mIteration  1 \u001b[0m\n",
      "[\u001b[94m x_B \u001b[0m, \u001b[91m x_N \u001b[0m] = [ \u001b[94mx1, x5\u001b[0m, \u001b[91mx2, x3, x4\u001b[0m ]\n",
      "\n",
      "\n",
      "Entry tableau\n",
      "[[ 1.  0. -1.  1.  0.  0.  0.]\n",
      " [ 0.  1.  1.  1.  1.  0.  6.]\n",
      " [ 0.  0.  3.  1.  1.  1. 10.]]\n",
      "\n",
      "k = 2 -> column no. 2 of x_N part ( x3 )\n",
      "y_k\n",
      "[1. 1.]\n",
      "\n",
      "r = 1 -> column no. 1 of x_B part ( x1 )\n",
      "x_Br\n",
      "6.0\n",
      "\n",
      "pivot = 1.0\n",
      "\n",
      "Pivoted tableau\n",
      "[[ 1. -1. -2.  0. -1.  0. -6.]\n",
      " [ 0.  1.  1.  1.  1.  0.  6.]\n",
      " [ 0. -1.  2.  0.  0.  1.  4.]]\n",
      "\n",
      "\u001b[94m x3 enters\u001b[0m and \u001b[91m x1 leaves\u001b[0m the basis\n",
      "\n",
      "\n",
      "\u001b[1mIteration  2 \u001b[0m\n",
      "[\u001b[94m x_B \u001b[0m, \u001b[91m x_N \u001b[0m] = [ \u001b[94mx3, x5\u001b[0m, \u001b[91mx2, x1, x4\u001b[0m ]\n",
      "\n",
      "\n",
      "Entry tableau\n",
      "[[ 1. -1. -2.  0. -1.  0. -6.]\n",
      " [ 0.  1.  1.  1.  1.  0.  6.]\n",
      " [ 0. -1.  2.  0.  0.  1.  4.]]\n",
      "\n",
      "\n",
      "\u001b[1mOptimality reached\u001b[0m\n",
      "\n",
      "The optimal BFS is\n",
      "\u001b[92m[ x3, x5, x2, x1, x4 ] = [ 6.0, 4.0, 0.0, 0.0, 0.0 ]\u001b[0m\n",
      "\n",
      "With performance z = -6.0 \n",
      "\n",
      "\n"
     ]
    }
   ],
   "source": [
    "sensitivity_costs_vector_c(copy.deepcopy(optimal_tableau), copy.deepcopy(original_costs), copy.deepcopy(changed_costs), copy.deepcopy(variables), copy.deepcopy(basic_indexes), copy.deepcopy(non_basic_indexes))"
   ]
  },
  {
   "cell_type": "markdown",
   "id": "9c3e0219",
   "metadata": {},
   "source": [
    "##### Right vector b"
   ]
  },
  {
   "cell_type": "markdown",
   "id": "ad54090a",
   "metadata": {},
   "source": [
    "\\begin{equation} b = \n",
    "\\left[\n",
    "\\begin{array}{r}\n",
    "6\\\\\n",
    "4\\\\\n",
    "\\end{array}\n",
    "\\right]\n",
    "\\end{equation}\n",
    "\n",
    "\\begin{equation} b' = \n",
    "\\left[\n",
    "\\begin{array}{r}\n",
    "3\\\\\n",
    "4\\\\\n",
    "\\end{array}\n",
    "\\right]\n",
    "\\end{equation}"
   ]
  },
  {
   "cell_type": "code",
   "execution_count": 17,
   "id": "9f3cd24c",
   "metadata": {},
   "outputs": [],
   "source": [
    "original_b = np.array([6, 4])\n",
    "changed_b = np.array([3, 4])"
   ]
  },
  {
   "cell_type": "code",
   "execution_count": 18,
   "id": "dbdbbdf7",
   "metadata": {},
   "outputs": [
    {
     "name": "stdout",
     "output_type": "stream",
     "text": [
      "\n",
      "\u001b[1mSensitivity analysis: Changes on the right vector b\u001b[0m\n",
      "Detected modification in \u001b[91mentry no. 1 \u001b[0m\n",
      "\n",
      "[\u001b[94m x_B \u001b[0m, \u001b[91m x_N \u001b[0m] = [ \u001b[94mx1, x5\u001b[0m, \u001b[91mx2, x3, x4\u001b[0m ]\n",
      "\n",
      "Although changes, the problem has the optimal primal table\n",
      "\n",
      "[[ 1.  0. -3. -1. -2.  0. -6.]\n",
      " [ 0.  1.  1.  1.  1.  0.  3.]\n",
      " [ 0.  0.  3.  1.  1.  1.  7.]]\n"
     ]
    }
   ],
   "source": [
    "sensitivity_right_vector_b(copy.deepcopy(optimal_tableau), copy.deepcopy(A), copy.deepcopy(c), copy.deepcopy(original_b), copy.deepcopy(changed_b), copy.deepcopy(variables), copy.deepcopy(basic_indexes), copy.deepcopy(non_basic_indexes), copy.deepcopy(slack_indexes))"
   ]
  },
  {
   "cell_type": "markdown",
   "id": "1af0891b",
   "metadata": {},
   "source": [
    "##### Constraints matrix A"
   ]
  },
  {
   "cell_type": "markdown",
   "id": "969d2eef",
   "metadata": {},
   "source": [
    "\\begin{equation} a_2 = \n",
    "\\left[\n",
    "\\begin{array}{r}\n",
    "1\\\\\n",
    "2\\\\\n",
    "\\end{array}\n",
    "\\right]\n",
    "\\end{equation}\n",
    "\n",
    "\\begin{equation} a'_2 = \n",
    "\\left[\n",
    "\\begin{array}{r}\n",
    "2\\\\\n",
    "5\\\\\n",
    "\\end{array}\n",
    "\\right]\n",
    "\\end{equation}"
   ]
  },
  {
   "cell_type": "code",
   "execution_count": 19,
   "id": "38d39ebd",
   "metadata": {},
   "outputs": [],
   "source": [
    "aj = np.array([1, 2])\n",
    "aj_p = np.array([2, 5])"
   ]
  },
  {
   "cell_type": "code",
   "execution_count": 20,
   "id": "5dcd9528",
   "metadata": {
    "scrolled": true
   },
   "outputs": [
    {
     "name": "stdout",
     "output_type": "stream",
     "text": [
      "\n",
      "\u001b[1mSensitivity analysis: Changes on the constraints matrix A\u001b[0m\n",
      "Detected modification in \u001b[91mnon basic variable x2 \u001b[0m\n",
      "\n",
      "[\u001b[94m x_B \u001b[0m, \u001b[91m x_N \u001b[0m] = [ \u001b[94mx1, x5\u001b[0m, \u001b[91mx2, x3, x4\u001b[0m ]\n",
      "\n",
      "Although changes, the problem has the optimal primal table\n",
      "\n",
      "[[  1.   0.  -5.  -1.  -2.   0. -12.]\n",
      " [  0.   1.   2.   1.   1.   0.   6.]\n",
      " [  0.   0.   7.   1.   1.   1.  10.]]\n"
     ]
    }
   ],
   "source": [
    "sensitivity_constraint_matrix_A(copy.deepcopy(optimal_tableau), copy.deepcopy(A), copy.deepcopy(c), copy.deepcopy(aj), copy.deepcopy(aj_p), copy.deepcopy(variables), copy.deepcopy(basic_indexes), copy.deepcopy(non_basic_indexes))"
   ]
  },
  {
   "cell_type": "markdown",
   "id": "b62026a8",
   "metadata": {},
   "source": [
    "\\begin{equation} a_1 = \n",
    "\\left[\n",
    "\\begin{array}{r}\n",
    "1\\\\\n",
    "-1\\\\\n",
    "\\end{array}\n",
    "\\right]\n",
    "\\end{equation}\n",
    "\n",
    "\\begin{equation} a'_1 = \n",
    "\\left[\n",
    "\\begin{array}{r}\n",
    "0\\\\\n",
    "-1\\\\\n",
    "\\end{array}\n",
    "\\right]\n",
    "\\end{equation}"
   ]
  },
  {
   "cell_type": "code",
   "execution_count": 21,
   "id": "01d68913",
   "metadata": {},
   "outputs": [],
   "source": [
    "aj = np.array([1, -1])\n",
    "aj_p = np.array([0, -1])"
   ]
  },
  {
   "cell_type": "code",
   "execution_count": 22,
   "id": "2e708744",
   "metadata": {},
   "outputs": [
    {
     "name": "stdout",
     "output_type": "stream",
     "text": [
      "\n",
      "\u001b[1mSensitivity analysis: Changes on the constraints matrix A\u001b[0m\n",
      "Detected modification in \u001b[94m basic variable x1 \u001b[0m\n",
      "\n",
      "[\u001b[94m x_B \u001b[0m, \u001b[91m x_N \u001b[0m] = [ \u001b[94mx1, x5\u001b[0m, \u001b[91mx2, x3, x4\u001b[0m ]\n",
      "\n",
      "The current set of basic vectors no longer forms a basis\n",
      "\n",
      "[[  1.   2.  -3.  -1.  -2.   0. -12.]\n",
      " [  0.   0.   1.   1.   1.   0.   6.]\n",
      " [  0.  -1.   3.   1.   1.   1.  10.]]\n"
     ]
    }
   ],
   "source": [
    "sensitivity_constraint_matrix_A(copy.deepcopy(optimal_tableau), copy.deepcopy(A), copy.deepcopy(c), copy.deepcopy(aj), copy.deepcopy(aj_p), copy.deepcopy(variables), copy.deepcopy(basic_indexes), copy.deepcopy(non_basic_indexes))"
   ]
  },
  {
   "cell_type": "markdown",
   "id": "c5885afa",
   "metadata": {},
   "source": [
    "\\begin{equation} a_1 = \n",
    "\\left[\n",
    "\\begin{array}{r}\n",
    "1\\\\\n",
    "-1\\\\\n",
    "\\end{array}\n",
    "\\right]\n",
    "\\end{equation}\n",
    "\n",
    "\\begin{equation} a'_1 = \n",
    "\\left[\n",
    "\\begin{array}{r}\n",
    "3\\\\\n",
    "6\\\\\n",
    "\\end{array}\n",
    "\\right]\n",
    "\\end{equation}"
   ]
  },
  {
   "cell_type": "code",
   "execution_count": 23,
   "id": "596cc95f",
   "metadata": {},
   "outputs": [],
   "source": [
    "aj = np.array([1, -1])\n",
    "aj_p = np.array([3, 6])"
   ]
  },
  {
   "cell_type": "code",
   "execution_count": 24,
   "id": "1141cde5",
   "metadata": {},
   "outputs": [
    {
     "name": "stdout",
     "output_type": "stream",
     "text": [
      "\n",
      "\u001b[1mSensitivity analysis: Changes on the constraints matrix A\u001b[0m\n",
      "Detected modification in \u001b[94m basic variable x1 \u001b[0m\n",
      "\n",
      "[\u001b[94m x_B \u001b[0m, \u001b[91m x_N \u001b[0m] = [ \u001b[94mx1, x5\u001b[0m, \u001b[91mx2, x3, x4\u001b[0m ]\n",
      "\n",
      "After pivoting we get the resultant table\n",
      "\n",
      "[[ 1.      0.     -1.6667  0.3333 -0.6667  0.     -4.    ]\n",
      " [ 0.      1.      0.3333  0.3333  0.3333  0.      2.    ]\n",
      " [ 0.      0.      0.     -2.     -2.      1.     -8.    ]]\n"
     ]
    }
   ],
   "source": [
    "sensitivity_constraint_matrix_A(copy.deepcopy(optimal_tableau), copy.deepcopy(A), copy.deepcopy(c), copy.deepcopy(aj), copy.deepcopy(aj_p), copy.deepcopy(variables), copy.deepcopy(basic_indexes), copy.deepcopy(non_basic_indexes))"
   ]
  },
  {
   "cell_type": "markdown",
   "id": "56b9ebcc",
   "metadata": {},
   "source": [
    "#### Exercise 6.49\n",
    "\n",
    "Consider the following problem:\n",
    "\n",
    "$$max \\hspace{0.5cm} 2x_1 + x_2 - x_3$$\n",
    "$$under \\hspace{0.5cm} x_1 + 2x_2 + x_3 \\leq 8$$\n",
    "$$\\hspace{1.4cm} -x_1 + x_2 - 2x_3 \\leq 4$$\n",
    "$$\\hspace{1cm}x_1, x_2, x_3 \\geq 0$$\n",
    "\n",
    "Introducing our slack variables $x_4, x_5$ and then apply the simplex method by tableau format we get the primal optimal table:\n",
    "\n",
    "|     | $z$ | $x_1$ | $x_2$ | $x_3$ | $x_4$ | $x_5$ | $RHS$ |\n",
    "|:---:|:---:|:---:|:---:|:---:|:---:|:---:|:---:|\n",
    "| $z$ | $1$ | $0$ | $3$ | $3$ | $2$ | $0$ | $16$ |\n",
    "| $X_{1}$ | $0$ | $1$ | $2$ | $1$ | $1$ | $0$ | $8$ |\n",
    "| $X_{5}$ | $0$ | $0$ | $3$ | $-1$ | $1$ | $1$ | $12$ |\n",
    "\n",
    "For mere convenience, we rewrite the problem as\n",
    "\n",
    "$$min \\hspace{0.5cm} -2x_1 - x_2 + x_3 + 0x_4 + 0x_5$$\n",
    "$$under \\hspace{0.5cm} x_1 + 2x_2 + x_3 + x_4 + 0 x_5 = 8$$\n",
    "$$\\hspace{1.4cm} - x_1 + x_2 - 2x_3 + 0x_4 + x_5 = 4$$\n",
    "$$\\hspace{1cm}x_1, x_2, x_3, x_4, x_5 \\geq 0$$"
   ]
  },
  {
   "cell_type": "code",
   "execution_count": 25,
   "id": "05517e8a",
   "metadata": {},
   "outputs": [],
   "source": [
    "A = np.array([[1, 2, 1, 1, 0],\n",
    "             [-1, 1, -2, 0, 1]])\n",
    "b = np.array([8, 4])\n",
    "c = np.array([-2, -1, 1, 0, 0])"
   ]
  },
  {
   "cell_type": "code",
   "execution_count": 26,
   "id": "54615188",
   "metadata": {},
   "outputs": [],
   "source": [
    "variables = [\"x1\", \"x2\", \"x3\", \"x4\", \"x5\"]\n",
    "basic_indexes = [0, 4]\n",
    "non_basic_indexes = [1, 2, 3]\n",
    "slack_indexes = [3, 4]"
   ]
  },
  {
   "cell_type": "code",
   "execution_count": 27,
   "id": "d815460b",
   "metadata": {},
   "outputs": [],
   "source": [
    "tableau = construct_tableau(A, b, c, basic_indexes)"
   ]
  },
  {
   "cell_type": "code",
   "execution_count": 28,
   "id": "e01bc440",
   "metadata": {},
   "outputs": [
    {
     "data": {
      "text/plain": [
       "array([[  1.,   0.,  -3.,  -3.,  -2.,   0., -16.],\n",
       "       [  0.,   1.,   2.,   1.,   1.,   0.,   8.],\n",
       "       [  0.,   0.,   3.,  -1.,   1.,   1.,  12.]])"
      ]
     },
     "execution_count": 28,
     "metadata": {},
     "output_type": "execute_result"
    }
   ],
   "source": [
    "tableau"
   ]
  },
  {
   "cell_type": "markdown",
   "id": "46272864",
   "metadata": {},
   "source": [
    "So introducing our slack variables $x_4, x_5$ and then apply the simplex method by tableau format we get the primal optimal table:\n",
    "\n",
    "|     | $z$ | $x_1$ | $x_2$ | $x_3$ | $x_4$ | $x_5$ | $RHS$ |\n",
    "|:---:|:---:|:---:|:---:|:---:|:---:|:---:|:---:|\n",
    "| $z$ | $1$ | $0$ | $-3$ | $-3$ | $-2$ | $0$ | $-16$ |\n",
    "| $X_{1}$ | $0$ | $1$ | $2$ | $1$ | $1$ | $0$ | $8$ |\n",
    "| $X_{5}$ | $0$ | $0$ | $3$ | $-1$ | $1$ | $1$ | $12$ |"
   ]
  },
  {
   "cell_type": "code",
   "execution_count": 29,
   "id": "6963a24e",
   "metadata": {},
   "outputs": [],
   "source": [
    "optimal_tableau = np.array([[1., 0., -3., -3., -2., 0., -16.],\n",
    "                            [0., 1., 2., 1., 1., 0., 8.],\n",
    "                            [0., 0., 3., -1., 1., 1., 12.]])"
   ]
  },
  {
   "cell_type": "code",
   "execution_count": 30,
   "id": "932b190f",
   "metadata": {
    "scrolled": true
   },
   "outputs": [
    {
     "data": {
      "text/plain": [
       "array([[  1.,   0.,  -3.,  -3.,  -2.,   0., -16.],\n",
       "       [  0.,   1.,   2.,   1.,   1.,   0.,   8.],\n",
       "       [  0.,   0.,   3.,  -1.,   1.,   1.,  12.]])"
      ]
     },
     "execution_count": 30,
     "metadata": {},
     "output_type": "execute_result"
    }
   ],
   "source": [
    "optimal_tableau"
   ]
  },
  {
   "cell_type": "markdown",
   "id": "6edbee82",
   "metadata": {},
   "source": [
    "##### b) Costs vector c"
   ]
  },
  {
   "cell_type": "markdown",
   "id": "efc46bbf",
   "metadata": {},
   "source": [
    "\\begin{equation} c =\n",
    "\\left[\n",
    "\\begin{array}{ccccc}\n",
    "-2 & -1 & 1 & 0 & 0\\\\\n",
    "\\end{array}\n",
    "\\right]\n",
    "\\end{equation}\n",
    "\n",
    "\\begin{equation} c' =\n",
    "\\left[\n",
    "\\begin{array}{ccccc}\n",
    "-2 & -5 & 1 & 0 & 0\\\\\n",
    "\\end{array}\n",
    "\\right]\n",
    "\\end{equation}"
   ]
  },
  {
   "cell_type": "code",
   "execution_count": 31,
   "id": "c73b998d",
   "metadata": {
    "scrolled": false
   },
   "outputs": [],
   "source": [
    "original_costs = np.array([-2, -1, 1, 0, 0])\n",
    "changed_costs = np.array([-2, -5, 1, 0, 0])"
   ]
  },
  {
   "cell_type": "code",
   "execution_count": 32,
   "id": "2f721064",
   "metadata": {
    "scrolled": false
   },
   "outputs": [
    {
     "name": "stdout",
     "output_type": "stream",
     "text": [
      "\n",
      "\u001b[1mSensitivity analysis: Changes on the costs vector\u001b[0m\n",
      "Detected modification in \u001b[91mnon basic variable x2 \u001b[0m\n",
      "\n",
      "[\u001b[94m x_B \u001b[0m, \u001b[91m x_N \u001b[0m] = [ \u001b[94mx1, x5\u001b[0m, \u001b[91mx2, x3, x4\u001b[0m ]\n",
      "\n",
      "The problem needs the simplex method applied to it beginning with the resultant table\n",
      "[[  1.   0.   1.  -3.  -2.   0. -16.]\n",
      " [  0.   1.   2.   1.   1.   0.   8.]\n",
      " [  0.   0.   3.  -1.   1.   1.  12.]]\n",
      "\n",
      "\n",
      "\u001b[1mIteration  1 \u001b[0m\n",
      "[\u001b[94m x_B \u001b[0m, \u001b[91m x_N \u001b[0m] = [ \u001b[94mx1, x5\u001b[0m, \u001b[91mx2, x3, x4\u001b[0m ]\n",
      "\n",
      "\n",
      "Entry tableau\n",
      "[[  1.   0.   1.  -3.  -2.   0. -16.]\n",
      " [  0.   1.   2.   1.   1.   0.   8.]\n",
      " [  0.   0.   3.  -1.   1.   1.  12.]]\n",
      "\n",
      "k = 1 -> column no. 1 of x_N part ( x2 )\n",
      "y_k\n",
      "[2. 3.]\n",
      "\n",
      "r = 1 -> column no. 1 of x_B part ( x1 )\n",
      "x_Br\n",
      "4.0\n",
      "\n",
      "pivot = 2.0\n",
      "\n",
      "Pivoted tableau\n",
      "[[  1.   -0.5   0.   -3.5  -2.5   0.  -20. ]\n",
      " [  0.    0.5   1.    0.5   0.5   0.    4. ]\n",
      " [  0.   -1.5   0.   -2.5  -0.5   1.    0. ]]\n",
      "\n",
      "\u001b[94m x2 enters\u001b[0m and \u001b[91m x1 leaves\u001b[0m the basis\n",
      "\n",
      "\n",
      "\u001b[1mIteration  2 \u001b[0m\n",
      "[\u001b[94m x_B \u001b[0m, \u001b[91m x_N \u001b[0m] = [ \u001b[94mx2, x5\u001b[0m, \u001b[91mx1, x3, x4\u001b[0m ]\n",
      "\n",
      "\n",
      "Entry tableau\n",
      "[[  1.   -0.5   0.   -3.5  -2.5   0.  -20. ]\n",
      " [  0.    0.5   1.    0.5   0.5   0.    4. ]\n",
      " [  0.   -1.5   0.   -2.5  -0.5   1.    0. ]]\n",
      "\n",
      "\n",
      "\u001b[1mOptimality reached\u001b[0m\n",
      "\n",
      "The optimal BFS is\n",
      "\u001b[92m[ x2, x5, x1, x3, x4 ] = [ 4.0, 0.0, 0.0, 0.0, 0.0 ]\u001b[0m\n",
      "\n",
      "With performance z = -20.0 \n",
      "\n",
      "\n"
     ]
    }
   ],
   "source": [
    "sensitivity_costs_vector_c(copy.deepcopy(optimal_tableau), copy.deepcopy(original_costs), copy.deepcopy(changed_costs), copy.deepcopy(variables), copy.deepcopy(basic_indexes), copy.deepcopy(non_basic_indexes))"
   ]
  },
  {
   "cell_type": "markdown",
   "id": "12188947",
   "metadata": {},
   "source": [
    "##### c) Constraints matrix A"
   ]
  },
  {
   "cell_type": "markdown",
   "id": "e144800c",
   "metadata": {},
   "source": [
    "\\begin{equation} a_3 = \n",
    "\\left[\n",
    "\\begin{array}{r}\n",
    "1\\\\\n",
    "-2\\\\\n",
    "\\end{array}\n",
    "\\right]\n",
    "\\end{equation}\n",
    "\n",
    "\\begin{equation} a'_3 = \n",
    "\\left[\n",
    "\\begin{array}{r}\n",
    "1\\\\\n",
    "1\\\\\n",
    "\\end{array}\n",
    "\\right]\n",
    "\\end{equation}"
   ]
  },
  {
   "cell_type": "code",
   "execution_count": 33,
   "id": "12ff7fe9",
   "metadata": {},
   "outputs": [],
   "source": [
    "aj = np.array([1, -2])\n",
    "aj_p = np.array([1, 1])"
   ]
  },
  {
   "cell_type": "code",
   "execution_count": 34,
   "id": "4a5c6092",
   "metadata": {
    "scrolled": true
   },
   "outputs": [
    {
     "name": "stdout",
     "output_type": "stream",
     "text": [
      "\n",
      "\u001b[1mSensitivity analysis: Changes on the constraints matrix A\u001b[0m\n",
      "Detected modification in \u001b[91mnon basic variable x3 \u001b[0m\n",
      "\n",
      "[\u001b[94m x_B \u001b[0m, \u001b[91m x_N \u001b[0m] = [ \u001b[94mx1, x5\u001b[0m, \u001b[91mx2, x3, x4\u001b[0m ]\n",
      "\n",
      "Although changes, the problem has the optimal primal table\n",
      "\n",
      "[[  1.   0.  -3.  -3.  -2.   0. -16.]\n",
      " [  0.   1.   2.   1.   1.   0.   8.]\n",
      " [  0.   0.   3.   2.   1.   1.  12.]]\n"
     ]
    }
   ],
   "source": [
    "sensitivity_constraint_matrix_A(copy.deepcopy(optimal_tableau), copy.deepcopy(A), copy.deepcopy(c), copy.deepcopy(aj), copy.deepcopy(aj_p), copy.deepcopy(variables), copy.deepcopy(basic_indexes), copy.deepcopy(non_basic_indexes))"
   ]
  },
  {
   "cell_type": "code",
   "execution_count": null,
   "id": "51d0b3d7",
   "metadata": {},
   "outputs": [],
   "source": []
  }
 ],
 "metadata": {
  "kernelspec": {
   "display_name": "Python 3 (ipykernel)",
   "language": "python",
   "name": "python3"
  },
  "language_info": {
   "codemirror_mode": {
    "name": "ipython",
    "version": 3
   },
   "file_extension": ".py",
   "mimetype": "text/x-python",
   "name": "python",
   "nbconvert_exporter": "python",
   "pygments_lexer": "ipython3",
   "version": "3.9.12"
  }
 },
 "nbformat": 4,
 "nbformat_minor": 5
}
