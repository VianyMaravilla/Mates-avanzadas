{
 "cells": [
  {
   "cell_type": "code",
   "execution_count": 1,
   "id": "0f7fe0bd",
   "metadata": {},
   "outputs": [
    {
     "data": {
      "text/html": [
       "<style>.container { width:100% !important; }</style>"
      ],
      "text/plain": [
       "<IPython.core.display.HTML object>"
      ]
     },
     "metadata": {},
     "output_type": "display_data"
    }
   ],
   "source": [
    "from IPython.display import display, HTML\n",
    "display(HTML(\"<style>.container { width:100% !important; }</style>\"))"
   ]
  },
  {
   "cell_type": "code",
   "execution_count": 2,
   "id": "6dd8153a",
   "metadata": {},
   "outputs": [],
   "source": [
    "import numpy as np\n",
    "import copy\n",
    "\n",
    "# Settings for printing numpy arrays\n",
    "np.set_printoptions(precision=4, edgeitems=50, suppress=True)\n",
    "np.core.arrayprint._line_width = 250"
   ]
  },
  {
   "cell_type": "markdown",
   "id": "2dcbceb7",
   "metadata": {},
   "source": [
    "# Primal Dual Method\n",
    "\n",
    "Below is defined a function which comprises the Primal Dual Method that is similar to the Dual Simplex Method but the main difference is that this method doesn't requiere a initial dual feasible solution to be basic."
   ]
  },
  {
   "cell_type": "code",
   "execution_count": 3,
   "id": "44e829a3",
   "metadata": {},
   "outputs": [],
   "source": [
    "def primal_dual(A, b, c, w, variables, itera = 1):\n",
    "    \n",
    "    # Printing our initial parameters for this iteration\n",
    "    print(\"\\n\\n\\033[1mIteration \", itera, \"\\033[0m\")\n",
    "    #print(\"[\\033[94m x_B \\033[0m, \\033[91m x_N \\033[0m] = [ \\033[94m\"\n",
    "    #      + ', '.join(basic_variables) + \"\\033[0m, \\033[91m\" + ', '.join(non_basic_variables) + \"\\033[0m ]\\n\")\n",
    "    \n",
    "    # Extracting elements from the tableau of the current iteration\n",
    "    m, n = np.shape(A)\n",
    "    \n",
    "    wA = np.ravel(w @ A)\n",
    "    Q = list()\n",
    "    for i in range(len(c)):\n",
    "        if c[i] == wA[i]:\n",
    "            Q.append(i)\n",
    "    \n",
    "    #print(wA)\n",
    "    print(\"\\nQ =\", [q + 1 for q in Q])\n",
    "    \n",
    "    # Defining Restricted Primal Problem\n",
    "    print(\"\\n\\033[94mRestricted Primal Problem\\033[0m\")\n",
    "    no_variables = len(variables)\n",
    "    artificial_variables = ['x' + str(i) for i in range(no_variables + 1, no_variables + m + 1)]\n",
    "    variables_RPP = [variables[i] for i in range(no_variables) if i in Q] + artificial_variables\n",
    "    print(\"\\nVariables RPP\")\n",
    "    print(variables_RPP)\n",
    "    \n",
    "    identity_matrix = np.eye(m, dtype = int)\n",
    "    extracted_A = A[:, Q]\n",
    "    A_RPP = np.concatenate((extracted_A, identity_matrix), axis = 1)\n",
    "    print(\"\\nMatrix A RPP\")\n",
    "    print(A_RPP)\n",
    "    \n",
    "    c_RPP = np.concatenate((np.zeros(len(Q), dtype=int), np.ones(m, dtype=int)), axis = 0)\n",
    "    print(\"\\nVector c RPP\")\n",
    "    print(c_RPP)\n",
    "    \n",
    "    m_RPP, n_RPP = np.shape(A_RPP)\n",
    "    \n",
    "    basic_indexes = [ind for ind in range(n_RPP - m_RPP, n_RPP)]\n",
    "    non_basic_indexes = [ind for ind in range(n_RPP - m_RPP)]\n",
    "    tableau = construct_tableau(A_RPP, b, c_RPP, basic_indexes)\n",
    "    \n",
    "    solution_RPP = simplex_tableau(copy.deepcopy(tableau), copy.deepcopy(variables_RPP), copy.deepcopy(basic_indexes), copy.deepcopy(non_basic_indexes))\n",
    "    print(\"\\nSolution RPP\")\n",
    "    print(solution_RPP)\n",
    "    \n",
    "    x0 = c_RPP.T@solution_RPP\n",
    "    print(\"\\nPerformance RPP\")\n",
    "    print(x0)\n",
    "    \n",
    "    if x0 == 0:\n",
    "        \n",
    "        remaining_variables = [variables[i] for i in range(no_variables) if variables[i] not in variables_RPP]\n",
    "        remaining_values = np.zeros(len(remaining_variables), dtype=int)\n",
    "        \n",
    "        indexes_variables = [int(var[1:]) for var in variables_RPP + remaining_variables]\n",
    "        dict_primal_solution = dict(zip(indexes_variables, np.concatenate((solution_RPP, remaining_values), axis = 0).tolist()))\n",
    "        sorted_dict_primal_solution = dict(sorted(dict_primal_solution.items(), key = lambda x:x[0]))\n",
    "        primal_solution_ls = list(sorted_dict_primal_solution.values())[:-len(Q)]\n",
    "        primal_variables_ls = list(sorted_dict_primal_solution.keys())[:-len(Q)]\n",
    "        primal_variables_ls = ['x' + str(i) for i in primal_variables_ls]\n",
    "        results_primal_ls = [str(round(i, 4)) for i in primal_solution_ls]\n",
    "        dual_solution_ls = w.tolist()\n",
    "        results_dual_ls = [str(round(i, 4)) for i in dual_solution_ls]\n",
    "        \n",
    "        print(\"\\n\\033[1mOptimality reached\\033[0m\")\n",
    "        print(\"\\nThe optimal primal solution is\")\n",
    "        print(\"\\033[92m[ \" + ', '.join(primal_variables_ls) + \" ] = [ \" + ', '.join(results_primal_ls) + \" ]\\033[0m\")\n",
    "        print(\"\\nAnd the optimal dual solution is\")\n",
    "        print(\"\\033[92m[ \" + ', '.join(['w' + str(i + 1) for i in range(m)]) + \" ] = [ \" + ', '.join(results_dual_ls) + \" ]\\033[0m\\n\\n\")\n",
    "        \n",
    "        return np.array(primal_solution_ls), w\n",
    "        \n",
    "    else:\n",
    "        # Defining Dual of Restricted Primal Problem\n",
    "        print(\"\\n\\033[94mDual of Restricted Primal Problem\\033[0m\")\n",
    "        A_DRPP = np.concatenate((A_RPP.T, np.eye(len(variables_RPP), dtype = int)), axis = 1)\n",
    "        b_DRPP = c_RPP\n",
    "        c_DRPP = np.concatenate((-1 * b, np.zeros(len(variables_RPP), dtype = int)), axis = 0)\n",
    "        artificial_variables_DRPP = ['x' + str(i) for i in range(no_variables + 1, no_variables + 2 * m + 1)]\n",
    "        variables_DRPP = [variables[i] for i in range(no_variables) if i in Q] + artificial_variables_DRPP\n",
    "        \n",
    "        m_DRPP, n_DRPP = np.shape(A_DRPP)\n",
    "        basic_indexes = [ind for ind in range(n_DRPP - m_DRPP, n_DRPP)]\n",
    "        non_basic_indexes = [ind for ind in range(n_DRPP - m_DRPP)]\n",
    "        tableau = construct_tableau(A_DRPP, b_DRPP, c_DRPP, basic_indexes)\n",
    "\n",
    "        v = simplex_tableau(copy.deepcopy(tableau), copy.deepcopy(variables_DRPP), copy.deepcopy(basic_indexes), copy.deepcopy(non_basic_indexes))\n",
    "        v = v[[index_w for index_w in range(m)]]\n",
    "        \n",
    "        flag_not_boundable = False\n",
    "        if isinstance(v, bool) == True:\n",
    "            flag_not_boundable = True\n",
    "           \n",
    "        \n",
    "        if flag_not_boundable == False:\n",
    "            print(\"\\nv =\", v)\n",
    "            wa_minus_c = wA - c\n",
    "            vA = np.ravel(v @ A)\n",
    "\n",
    "            counter_flag = 0\n",
    "            for i in range(no_variables):\n",
    "                if vA[i] <= 0:\n",
    "                    counter_flag += 1\n",
    "\n",
    "            if counter_flag == no_variables:\n",
    "                print(\"\\n\\033[1mOptimization process stopped :(\\033[0m\")\n",
    "                print(\"\\nThe Dual of RPP is unbounded and the primal is infeasible (vA <= 0)\\n\\n\")\n",
    "\n",
    "                return False, False\n",
    "\n",
    "            else:\n",
    "                quot_ls = [-1 * wa_minus_c[i] / vA[i] for i in range(no_variables) if vA[i] > 0]\n",
    "                theta = min(quot_ls)\n",
    "                print(\"\\nTheta =\", theta)\n",
    "\n",
    "                w = w + theta * v\n",
    "                print(\"\\nw_updated =\", w)\n",
    "\n",
    "                return primal_dual(A, b, c, w, variables, itera + 1)\n",
    "        else:\n",
    "            print(\"\\n\\033[1mOptimization process stopped :(\\033[0m\")\n",
    "            print(\"\\nThe Dual of RPP is unbounded and the primal is infeasible\\n\\n\")\n",
    "            \n",
    "            return False, False\n",
    "        "
   ]
  },
  {
   "cell_type": "markdown",
   "id": "fb405198",
   "metadata": {},
   "source": [
    "To make possible the Primal Dual Method we are going to retake the functions of the Simplex Method in tableau format, which was made previously on other tasks."
   ]
  },
  {
   "cell_type": "code",
   "execution_count": 4,
   "id": "485fdf25",
   "metadata": {},
   "outputs": [],
   "source": [
    "def simplex_tableau(tableau, variables, basic_indexes, non_basic_indexes, itera = 1):\n",
    "    \n",
    "    basic_variables = [variables[i] for i in basic_indexes]\n",
    "    non_basic_variables = [variables[i] for i in non_basic_indexes]\n",
    "        \n",
    "    # Printing our initial parameters for this iteration\n",
    "    #print(\"\\n\\n\\033[1mIteration \", itera, \"\\033[0m\")\n",
    "    #print(\"[\\033[94m x_B \\033[0m, \\033[91m x_N \\033[0m] = [ \\033[94m\"\n",
    "    #      + ', '.join(basic_variables) + \"\\033[0m, \\033[91m\" + ', '.join(non_basic_variables) + \"\\033[0m ]\\n\")\n",
    "    \n",
    "    # Extracting elements from the tableau of the current iteration\n",
    "    m = np.shape(tableau)[0] - 1\n",
    "    n_plus_m = np.shape(tableau)[1] - 2\n",
    "    ZXN = np.ravel(tableau[0, [i + 1 for i in non_basic_indexes]])\n",
    "    XBXN = tableau[1:, [i + 1 for i in non_basic_indexes]]\n",
    "    ZRHS = np.array([tableau[0, n_plus_m + 1]])\n",
    "    XBRHS = (tableau[1:, n_plus_m + 1]).reshape(1, m)\n",
    "    b_ = np.concatenate((np.ravel(XBRHS), np.zeros(n_plus_m - m)))\n",
    "    \n",
    "    #print(\"\\nEntry tableau\")\n",
    "    #print(tableau)\n",
    "    \n",
    "    z_minus_c_max = max(ZXN)\n",
    "    k = np.argmax(ZXN)\n",
    "    \n",
    "    # Validating if we stop or not the optimization\n",
    "    if z_minus_c_max <= 0:   # We stop\n",
    "        \n",
    "        # Printing the final results\n",
    "        #print(\"\\n\\n\\033[1mOptimality reached\\033[0m\")\n",
    "        #print(\"\\nThe optimal BFS is\")\n",
    "        results_ls = [str(round(i, 4)) for i in b_]\n",
    "        #print(\"\\033[92m[ \" + ', '.join(basic_variables + non_basic_variables) + \" ] = [ \" + ', '.join(results_ls) + \" ]\\033[0m\")\n",
    "        perf_z = ZRHS[0]\n",
    "        #print(\"\\nWith performance z =\", perf_z, \"\\n\\n\")\n",
    "        \n",
    "        indexes_variables = [int(var[1:]) for var in basic_variables + non_basic_variables]\n",
    "        dict_solution = dict(zip(indexes_variables, [b_i for b_i in b_]))\n",
    "        sorted_dict_solution = dict(sorted(dict_solution.items(), key = lambda x:x[0]))\n",
    "        solution = np.array(list(sorted_dict_solution.values()))\n",
    "        #print(solution)\n",
    "        return solution\n",
    "        \n",
    "    else:   # We continue\n",
    "        \n",
    "        # Calculating and printing the y_ki's\n",
    "        y_k = np.ravel(XBXN[:, k])\n",
    "        \n",
    "        #print(\"\\nk =\", k + 1, \"-> column no.\", k + 1, \"of x_N part (\", non_basic_variables[k], \")\")\n",
    "        #print(\"y_k\")\n",
    "        #print(y_k)\n",
    "        \n",
    "        # Analyzing if the optimal BFS is or not boundable by the condition y_k > 0\n",
    "        flag = True\n",
    "        aux_counter = 0\n",
    "        for y_i in y_k:\n",
    "            if y_i > 0:\n",
    "                aux_counter = aux_counter + 1      \n",
    "        if aux_counter == 0:\n",
    "            flag = False\n",
    "\n",
    "        if flag:   # Boundable\n",
    "            \n",
    "            # Calculating and printing x_k by the minimum quotient (current BFS divided by the y_k > 0) with its index r\n",
    "            quot_ls = list()\n",
    "            index_r_ls = list()\n",
    "            for i in range(m):\n",
    "                if y_k[i] > 0:\n",
    "                    quot_ls.append(b_[i] / y_k[i])\n",
    "                    index_r_ls.append(i)\n",
    "            quot_arr = np.array(quot_ls)\n",
    "            index_r_arr = np.array(index_r_ls)\n",
    "            r = index_r_arr[np.argmin(quot_arr)]\n",
    "            x_Br = min(quot_arr)\n",
    "            #print(\"\\nr =\", r + 1, \"-> column no.\", r + 1, \"of x_B part (\", basic_variables[r], \")\")\n",
    "            #print(\"x_Br\")\n",
    "            #print(x_Br)\n",
    "            \n",
    "            # Pivoting\n",
    "            pivot = y_k[r]\n",
    "            #print(\"\\npivot =\", pivot)\n",
    "            \n",
    "            tableau[r + 1, :] = tableau[r + 1, :] / pivot\n",
    "            for i in range(m + 1):\n",
    "                if i != r + 1:\n",
    "                    tableau[i, :] = tableau[i, :] - tableau[i, non_basic_indexes[k] + 1] * tableau[r + 1, :]\n",
    "            \n",
    "            #print(\"\\nPivoted tableau\")\n",
    "            #print(tableau)\n",
    "            # Exchanging the indexes\n",
    "            #print(\"\\n\\033[94m\", non_basic_variables[k], \"enters\\033[0m and \\033[91m\", basic_variables[r], \"leaves\\033[0m the basis\")\n",
    "            aux_vars = basic_indexes[r]\n",
    "            basic_indexes[r] = non_basic_indexes[k]\n",
    "            non_basic_indexes[k] = aux_vars\n",
    "            # Exchanging columns in tableau\n",
    "            #aux_column = tableau[:, m + k + 1]\n",
    "            #tableau[:, m + k + 1] =  tableau[:, 1 + r]\n",
    "            #tableau[:, 1 + r] = aux_column\n",
    "            \n",
    "            # Recursive call\n",
    "            return simplex_tableau(tableau, variables, basic_indexes, non_basic_indexes, itera + 1)\n",
    "\n",
    "        else:   # Not boundable\n",
    "            \n",
    "            #print(\"\\n\\n\\033[1mOptimization process stopped :(\\033[0m\")\n",
    "            #print(\"\\nThe optimal BFS is not boundable\\n\\n\")\n",
    "            \n",
    "            return False\n",
    "            "
   ]
  },
  {
   "cell_type": "markdown",
   "id": "bf2fe3c4",
   "metadata": {},
   "source": [
    "In addition, we are going to retake also the Dual Simplex Method to verify some results."
   ]
  },
  {
   "cell_type": "code",
   "execution_count": 5,
   "id": "737686e2",
   "metadata": {},
   "outputs": [],
   "source": [
    "def dual_simplex_tableau(tableau, variables, basic_indexes, non_basic_indexes, slack_indexes, itera = 1):\n",
    "    \n",
    "    basic_variables = [variables[i] for i in basic_indexes]\n",
    "    non_basic_variables = [variables[i] for i in non_basic_indexes]\n",
    "    \n",
    "    # Printing our initial parameters for this iteration\n",
    "    print(\"\\n\\n\\033[1mIteration \", itera, \"\\033[0m\")\n",
    "    print(\"[\\033[94m x_B \\033[0m, \\033[91m x_N \\033[0m] = [ \\033[94m\"\n",
    "          + ', '.join(basic_variables) + \"\\033[0m, \\033[91m\" + ', '.join(non_basic_variables) + \"\\033[0m ]\\n\")\n",
    "    \n",
    "    # Extracting elements from the tableau of the current iteration\n",
    "    m = np.shape(tableau)[0] - 1\n",
    "    n_plus_m = np.shape(tableau)[1] - 2\n",
    "    ZX = np.ravel(tableau[0, 1:n_plus_m + 1])\n",
    "    XBX = tableau[1:, 1:n_plus_m + 1]\n",
    "    ZRHS = np.array([tableau[0, n_plus_m + 1]])\n",
    "    XBRHS = (tableau[1:, n_plus_m + 1]).reshape(1, m)\n",
    "    b_ = np.concatenate((np.ravel(XBRHS), np.zeros(n_plus_m - m)))\n",
    "    \n",
    "    print(\"\\nEntry tableau\")\n",
    "    print(tableau)\n",
    "    \n",
    "    positive_b = True\n",
    "    for b_i in np.ravel(XBRHS):\n",
    "        if b_i < 0:\n",
    "            positive_b = False\n",
    "            break\n",
    "    \n",
    "    # Validating if we stop or not the optimization\n",
    "    if positive_b:   # We stop\n",
    "        \n",
    "        # Printing the final results\n",
    "        print(\"\\n\\n\\033[1mOptimality reached\\033[0m\")\n",
    "        print(\"\\nThe optimal primal solution is\")\n",
    "        results_primal_ls = [str(round(i, 4)) for i in b_]\n",
    "        print(\"\\033[92m[ \" + ', '.join(basic_variables + non_basic_variables) + \" ] = [ \" + ', '.join(results_primal_ls) + \" ]\\033[0m\")\n",
    "        perf_z = ZRHS[0]\n",
    "        print(\"\\nWith performance z =\", perf_z)\n",
    "        print(\"\\nAnd the optimal dual solution is\")\n",
    "        results_dual_ls = np.ravel(-1 * tableau[0, [i + 1 for i in slack_indexes]]).tolist()\n",
    "        results_dual_ls_f = [str(round(i, 4)) for i in results_dual_ls]\n",
    "        print(\"\\033[92m[ \" + ', '.join(['w' + str(i + 1) for i in range(m)]) + \" ] = [ \" + ', '.join(results_dual_ls_f) + \" ]\\033[0m\\n\\n\")\n",
    "        \n",
    "        indexes_variables = [int(var[1:]) for var in basic_variables + non_basic_variables]\n",
    "        dict_primal_solution = dict(zip(indexes_variables, [b_i for b_i in b_]))\n",
    "        sorted_dict_primal_solution = dict(sorted(dict_primal_solution.items(), key = lambda x:x[0]))\n",
    "        primal_solution = np.array(list(sorted_dict_primal_solution.values()))\n",
    "        \n",
    "        dict_dual_solution = dict(zip([i for i in range(m)], results_dual_ls))\n",
    "        sorted_dict_dual_solution = dict(sorted(dict_dual_solution.items(), key = lambda x:x[0]))\n",
    "        dual_solution = np.array(list(sorted_dict_dual_solution.values()))\n",
    "        \n",
    "        #print(solution)\n",
    "        return primal_solution, dual_solution\n",
    "        \n",
    "    else:   # We continue\n",
    "        \n",
    "        br = min(XBRHS)\n",
    "        r = np.argmin(XBRHS)\n",
    "        \n",
    "        # Calculating and printing the y_ri's\n",
    "        y_r = np.ravel(XBX[r, :])\n",
    "        \n",
    "        print(\"\\nr =\", r + 1, \"-> row no.\", r + 1, \"of x_B part (\", basic_variables[r], \")\")\n",
    "        print(\"y_r\")\n",
    "        print(y_r)\n",
    "        \n",
    "        # Analyzing if the Dual Problem is or not boundable by the condition y_r >= 0\n",
    "        flag = True\n",
    "        aux_counter = 0\n",
    "        for y_i in y_r:\n",
    "            if y_i >= 0:\n",
    "                aux_counter += 1      \n",
    "        if aux_counter == len(y_r):\n",
    "            flag = False\n",
    "\n",
    "        if flag:   # Boundable\n",
    "            \n",
    "            # Calculating and printing x_k by the minimum quotient (current BFS divided by the y_k > 0) with its index r\n",
    "            quot_ls = list()\n",
    "            index_k_ls = list()\n",
    "            for i in range(n_plus_m):\n",
    "                if y_r[i] < 0:\n",
    "                    quot_ls.append(ZX[i] / y_r[i])\n",
    "                    index_k_ls.append(i)\n",
    "            quot_arr = np.array(quot_ls)\n",
    "            index_k_arr = np.array(index_k_ls)\n",
    "            k = index_k_arr[np.argmin(quot_arr)]\n",
    "            min_quot = min(quot_arr)\n",
    "            print(\"\\nk =\", k + 1, \"-> column no.\", k + 1, \"of x part (\", variables[k], \")\")\n",
    "            print(\"min_quotient\")\n",
    "            print(min_quot)\n",
    "            \n",
    "            # Pivoting\n",
    "            pivot = y_r[k]\n",
    "            print(\"\\npivot =\", pivot)\n",
    "            \n",
    "            tableau[r + 1, :] = tableau[r + 1, :] / pivot\n",
    "            for i in range(m + 1):\n",
    "                if i != r + 1:\n",
    "                    tableau[i, :] = tableau[i, :] - tableau[i, k + 1] * tableau[r + 1, :]\n",
    "            \n",
    "            print(\"\\nPivoted tableau\")\n",
    "            print(tableau)\n",
    "            # Exchanging the indexes\n",
    "            k_relative = 0\n",
    "            for i in range(len(non_basic_indexes)):\n",
    "                if k == non_basic_indexes[i]:\n",
    "                    k_relative = i\n",
    "                    break\n",
    "            print(\"\\n\\033[94m\", non_basic_variables[k_relative], \"enters\\033[0m and \\033[91m\", basic_variables[r], \"leaves\\033[0m the basis\")\n",
    "            aux_vars = basic_indexes[r]\n",
    "            basic_indexes[r] = non_basic_indexes[k_relative]\n",
    "            non_basic_indexes[k_relative] = aux_vars\n",
    "            \n",
    "            # Recursive call\n",
    "            return dual_simplex_tableau(tableau, variables, basic_indexes, non_basic_indexes, slack_indexes, itera + 1)\n",
    "\n",
    "        else:   # Not boundable\n",
    "            \n",
    "            print(\"\\n\\n\\033[1mOptimization process stopped :(\\033[0m\")\n",
    "            print(\"\\nThe Dual Problem is not boundable, thus the primal feasible region is empty\\n\\n\")\n",
    "            \n",
    "            return False, False\n",
    "            "
   ]
  },
  {
   "cell_type": "code",
   "execution_count": 6,
   "id": "3dc49cc6",
   "metadata": {},
   "outputs": [],
   "source": [
    "def construct_tableau(A, b, c, basic_indexes):\n",
    "    m, n_plus_m = np.shape(A)\n",
    "    B = A[:m, basic_indexes]\n",
    "    c_b = c[basic_indexes]\n",
    "    b_ = np.linalg.inv(B) @ b\n",
    "\n",
    "    one_array = np.ones(1, dtype=int)\n",
    "    zero_array_v = np.ravel(np.zeros(m, dtype=int)).reshape(1, m)\n",
    "    ZX = np.ravel((c_b @ np.linalg.inv(B) @ A) - c)\n",
    "    XBX = np.linalg.inv(B) @ A\n",
    "    ZRHS = np.full((1), c_b @ np.ravel(b_))\n",
    "    XBRHS = b_.reshape(1, m)\n",
    "\n",
    "    tableau = np.vstack((np.concatenate((one_array, ZX, ZRHS), axis = 0).reshape(1, n_plus_m + 2),\n",
    "                  np.concatenate((zero_array_v.T, XBX, XBRHS.T), axis = 1)))\n",
    "    \n",
    "    return tableau"
   ]
  },
  {
   "cell_type": "code",
   "execution_count": 7,
   "id": "ef24ecad",
   "metadata": {},
   "outputs": [],
   "source": [
    "import itertools\n",
    "\n",
    "def basic_indexes_dual_feasible_solution(A, b, c, indexes, m):\n",
    "    all_combinations = itertools.combinations(indexes, m)\n",
    "    possible_basic_indexes = list()\n",
    "    for basic_indexes in all_combinations:\n",
    "        try:\n",
    "            basic_indexes = list(basic_indexes)\n",
    "            B = A[:m, basic_indexes]\n",
    "            c_b = c[basic_indexes]\n",
    "            ZX = np.ravel((c_b @ np.linalg.inv(B) @ A) - c)\n",
    "            \n",
    "            dual_feasible = True\n",
    "            for zx in ZX:\n",
    "                if zx > 0:\n",
    "                    dual_feasible = False\n",
    "                    break\n",
    "            if dual_feasible:\n",
    "                possible_basic_indexes.append(basic_indexes)  \n",
    "        except:\n",
    "            pass\n",
    "    \n",
    "    return possible_basic_indexes"
   ]
  },
  {
   "cell_type": "code",
   "execution_count": 8,
   "id": "f4cf24bc",
   "metadata": {},
   "outputs": [],
   "source": [
    "def basic_variables_dual_feasible_solution(possible_basic_indexes, variables):\n",
    "    possible_basic_variables = list()\n",
    "    for psb in possible_basic_indexes:\n",
    "        possible_basic_variables.append([variables[i_psb] for i_psb in psb])\n",
    "    \n",
    "    return possible_basic_variables"
   ]
  },
  {
   "cell_type": "markdown",
   "id": "47c0014e",
   "metadata": {},
   "source": [
    "So, once we have already defined above functions we are able to apply it.\n",
    "\n",
    "#### Example 1:\n",
    "Solve the next linear programming problem:\n",
    "\n",
    "$$min \\hspace{0.5cm} 3x_1 + 4x_2 + 6x_3 + 7x_4 + x_5 + 0x_6 + 0x_7$$\n",
    "$$under \\hspace{0.5cm} 2x_1 - x_2 + x_3 + 6x_4 - 5x_5 - x_6 + 0x_7 = 6$$\n",
    "$$\\hspace{1.4cm} x_1 + x_2 + 2x_3 + x_4 + 2x_5 + 0x_6 - x_7 = 3$$\n",
    "$$\\hspace{1cm}x_1, x_2, x_3, x_4, x_5, x_6, x_7 \\geq 0$$\n",
    "\n",
    "On the other hand, the associated dual problem is defined as\n",
    "\n",
    "$$max \\hspace{0.5cm} 6w_1 + 3w_2$$\n",
    "$$under \\hspace{0.5cm} 2w_1 + w_2 \\leq 3$$\n",
    "$$\\hspace{1.4cm} - w_1 + w_2 \\leq 4$$\n",
    "$$\\hspace{1.4cm} w_1 + 2w_2 \\leq 6$$\n",
    "$$\\hspace{1.4cm} 6w_1 + w_2 \\leq 7$$\n",
    "$$\\hspace{1.4cm} -5w_1 + 2w_2 \\leq 1$$\n",
    "$$\\hspace{1.4cm} -w_1 + 0w_2 \\leq 0$$\n",
    "$$\\hspace{1.4cm} 0w_1 - w_2 \\leq 0$$\n",
    "$$\\hspace{1cm}w_1, w_2 \\hspace{0.5cm}unrestricted$$\n",
    "\n",
    "Then, we get the following elements:\n",
    "\n",
    "\\begin{equation} A = \n",
    "\\left[\n",
    "\\begin{array}{ccccccc}\n",
    "2 & -1 & 1 & 6 & -5 & -1 & 0\\\\\n",
    "1 & 1 & 2 & 1 & 2 & 0 & -1\\\\\n",
    "\\end{array}\n",
    "\\right]\n",
    "\\end{equation}\n",
    "\n",
    "\\begin{equation} b = \n",
    "\\left[\n",
    "\\begin{array}{r}\n",
    "6\\\\\n",
    "3\\\\\n",
    "\\end{array}\n",
    "\\right]\n",
    "\\end{equation}\n",
    "\n",
    "\n",
    "\\begin{equation} c =\n",
    "\\left[\n",
    "\\begin{array}{ccccccc}\n",
    "3 & 4 & 6 & 7 & 1 & 0 & 0\\\\\n",
    "\\end{array}\n",
    "\\right]\n",
    "\\end{equation}"
   ]
  },
  {
   "cell_type": "code",
   "execution_count": 9,
   "id": "13c231bb",
   "metadata": {},
   "outputs": [],
   "source": [
    "A = np.matrix([[2, -1, 1, 6, -5, -1, 0], [1, 1, 2, 1, 2, 0, -1]])\n",
    "b = np.array([6, 3])\n",
    "c = np.array([3, 4, 6, 7, 1, 0, 0])\n",
    "variables = [\"x1\", \"x2\", \"x3\", \"x4\", \"x5\", \"x6\", \"x7\"]"
   ]
  },
  {
   "cell_type": "markdown",
   "id": "c6996768",
   "metadata": {},
   "source": [
    "Besides that, we propose $w = [0, 0]$ as our initial dual feasible solution that will enable us to start the Primal Dual Method."
   ]
  },
  {
   "cell_type": "code",
   "execution_count": 10,
   "id": "af720457",
   "metadata": {},
   "outputs": [],
   "source": [
    "w = np.array([0, 0])"
   ]
  },
  {
   "cell_type": "code",
   "execution_count": 11,
   "id": "199b6fde",
   "metadata": {
    "scrolled": false
   },
   "outputs": [
    {
     "name": "stdout",
     "output_type": "stream",
     "text": [
      "\n",
      "\n",
      "\u001b[1mIteration  1 \u001b[0m\n",
      "\n",
      "Q = [6, 7]\n",
      "\n",
      "\u001b[94mRestricted Primal Problem\u001b[0m\n",
      "\n",
      "Variables RPP\n",
      "['x6', 'x7', 'x8', 'x9']\n",
      "\n",
      "Matrix A RPP\n",
      "[[-1  0  1  0]\n",
      " [ 0 -1  0  1]]\n",
      "\n",
      "Vector c RPP\n",
      "[0 0 1 1]\n",
      "\n",
      "Solution RPP\n",
      "[0. 0. 6. 3.]\n",
      "\n",
      "Performance RPP\n",
      "9.0\n",
      "\n",
      "\u001b[94mDual of Restricted Primal Problem\u001b[0m\n",
      "[1. 1. 1. 1. 0. 0.]\n",
      "\n",
      "v = [1. 1.]\n",
      "\n",
      "Theta = 1.0\n",
      "\n",
      "w_updated = [1. 1.]\n",
      "\n",
      "\n",
      "\u001b[1mIteration  2 \u001b[0m\n",
      "\n",
      "Q = [1, 4]\n",
      "\n",
      "\u001b[94mRestricted Primal Problem\u001b[0m\n",
      "\n",
      "Variables RPP\n",
      "['x1', 'x4', 'x8', 'x9']\n",
      "\n",
      "Matrix A RPP\n",
      "[[2 6 1 0]\n",
      " [1 1 0 1]]\n",
      "\n",
      "Vector c RPP\n",
      "[0 0 1 1]\n",
      "\n",
      "Solution RPP\n",
      "[3. 0. 0. 0.]\n",
      "\n",
      "Performance RPP\n",
      "0.0\n",
      "\n",
      "\u001b[1mOptimality reached\u001b[0m\n",
      "\n",
      "The optimal primal solution is\n",
      "\u001b[92m[ x1, x2, x3, x4, x5, x6, x7 ] = [ 3.0, 0.0, 0.0, 0.0, 0.0, 0.0, 0.0 ]\u001b[0m\n",
      "\n",
      "And the optimal dual solution is\n",
      "\u001b[92m[ w1, w2 ] = [ 1.0, 1.0 ]\u001b[0m\n",
      "\n",
      "\n"
     ]
    },
    {
     "data": {
      "text/plain": [
       "(array([3., 0., 0., 0., 0., 0., 0.]), array([1., 1.]))"
      ]
     },
     "execution_count": 11,
     "metadata": {},
     "output_type": "execute_result"
    }
   ],
   "source": [
    "primal_dual(copy.deepcopy(A), copy.deepcopy(b), copy.deepcopy(c), copy.deepcopy(w), copy.deepcopy(variables))"
   ]
  },
  {
   "cell_type": "markdown",
   "id": "596530cf",
   "metadata": {},
   "source": [
    "#### Exercise 6.43:\n",
    "Solve the next linear programming problem:\n",
    "\n",
    "$$min \\hspace{0.5cm} 9x_1 + 7x_2 + 4x_3 + 2x_4 + 6x_5 + 10x_6$$\n",
    "$$under \\hspace{0.5cm} x_1 + x_2 + x_3 + x_4 + x_5 + x_6 = 13$$\n",
    "$$\\hspace{1.4cm} x_1 + 0x_2 + 0x_3 + x_4 + 0x_5 + 0x_6 = 6$$\n",
    "$$\\hspace{1.4cm} 0x_1 + x_2 + 0x_3 + 0x_4 + x_5 + 0x_6 = 4$$\n",
    "$$\\hspace{1.4cm} 0x_1 + 0x_2 + x_3 + 0x_4 + 0x_5 + x_6 = 3$$\n",
    "$$\\hspace{1cm}x_1, x_2, x_3, x_4, x_5, x_6 \\geq 0$$\n",
    "\n",
    "On the other hand, the associated dual problem is defined as\n",
    "\n",
    "$$max \\hspace{0.5cm} 8w_1 + 5w_2 + 6w_3 + 4w_4 + 3w_5$$\n",
    "$$under \\hspace{0.5cm} w_1 + w_2 \\leq 9$$\n",
    "$$\\hspace{1.4cm} w_1 + w_3 \\leq 7$$\n",
    "$$\\hspace{1.4cm} w_1 + w_4 \\leq 4$$\n",
    "$$\\hspace{1.4cm} w_1 + w_2 \\leq 2$$\n",
    "$$\\hspace{1.4cm} w_1 + w_3 \\leq 6$$\n",
    "$$\\hspace{1.4cm} w_1 + w_4 \\leq 10$$\n",
    "$$\\hspace{1cm}w_1, w_2, w_3, w_4 \\hspace{0.5cm}unrestricted$$\n",
    "\n",
    "Then, we get the following elements:\n",
    "\n",
    "\\begin{equation} A = \n",
    "\\left[\n",
    "\\begin{array}{cccccc}\n",
    "1 & 1 & 1 & 1 & 1 & 1\\\\\n",
    "1 & 0 & 0 & 1 & 0 & 0\\\\\n",
    "0 & 1 & 0 & 0 & 1 & 0\\\\\n",
    "0 & 0 & 1 & 0 & 0 & 1\\\\\n",
    "\\end{array}\n",
    "\\right]\n",
    "\\end{equation}\n",
    "\n",
    "\\begin{equation} b = \n",
    "\\left[\n",
    "\\begin{array}{r}\n",
    "13\\\\\n",
    "6\\\\\n",
    "4\\\\\n",
    "3\\\\\n",
    "\\end{array}\n",
    "\\right]\n",
    "\\end{equation}\n",
    "\n",
    "\n",
    "\\begin{equation} c =\n",
    "\\left[\n",
    "\\begin{array}{ccccccc}\n",
    "9 & 7 & 4 & 2 & 6 & 10\\\\\n",
    "\\end{array}\n",
    "\\right]\n",
    "\\end{equation}"
   ]
  },
  {
   "cell_type": "code",
   "execution_count": 36,
   "id": "806a9b07",
   "metadata": {},
   "outputs": [],
   "source": [
    "A = np.matrix([[1, 1, 1, 1, 1, 1], \n",
    "               [1, 0, 0, 1, 0, 0],\n",
    "               [0, 1, 0, 0, 1, 0], \n",
    "               [0, 0, 1, 0, 0, 1]])\n",
    "b = np.array([13, 6, 4, 3])\n",
    "c = np.array([9, 7, 4, 2, 6, 10])\n",
    "variables = [\"x1\", \"x2\", \"x3\", \"x4\", \"x5\", \"x6\"]"
   ]
  },
  {
   "cell_type": "markdown",
   "id": "8842ba97",
   "metadata": {},
   "source": [
    "Besides that, we propose $w = [0, 1, 1, 5, 0]$ as our initial dual feasible solution that will enable us to start the Primal Dual Method."
   ]
  },
  {
   "cell_type": "code",
   "execution_count": 37,
   "id": "2bf0d766",
   "metadata": {},
   "outputs": [],
   "source": [
    "w = np.array([4, 5, 3, 0])"
   ]
  },
  {
   "cell_type": "code",
   "execution_count": 38,
   "id": "00712202",
   "metadata": {
    "scrolled": false
   },
   "outputs": [
    {
     "name": "stdout",
     "output_type": "stream",
     "text": [
      "\n",
      "\n",
      "\u001b[1mIteration  1 \u001b[0m\n",
      "\n",
      "Q = [1, 2, 3]\n",
      "\n",
      "\u001b[94mRestricted Primal Problem\u001b[0m\n",
      "\n",
      "Variables RPP\n",
      "['x1', 'x2', 'x3', 'x7', 'x8', 'x9', 'x10']\n",
      "\n",
      "Matrix A RPP\n",
      "[[1 1 1 1 0 0 0]\n",
      " [1 0 0 0 1 0 0]\n",
      " [0 1 0 0 0 1 0]\n",
      " [0 0 1 0 0 0 1]]\n",
      "\n",
      "Vector c RPP\n",
      "[0 0 0 1 1 1 1]\n",
      "\n",
      "Solution RPP\n",
      "[6. 4. 3. 0. 0. 0. 0.]\n",
      "\n",
      "Performance RPP\n",
      "0.0\n",
      "\n",
      "\u001b[1mOptimality reached\u001b[0m\n",
      "\n",
      "The optimal primal solution is\n",
      "\u001b[92m[ x1, x2, x3, x4, x5, x6, x7 ] = [ 6.0, 4.0, 3.0, 0.0, 0.0, 0.0, 0.0 ]\u001b[0m\n",
      "\n",
      "And the optimal dual solution is\n",
      "\u001b[92m[ w1, w2, w3, w4 ] = [ 4, 5, 3, 0 ]\u001b[0m\n",
      "\n",
      "\n"
     ]
    },
    {
     "data": {
      "text/plain": [
       "(array([6., 4., 3., 0., 0., 0., 0.]), array([4, 5, 3, 0]))"
      ]
     },
     "execution_count": 38,
     "metadata": {},
     "output_type": "execute_result"
    }
   ],
   "source": [
    "primal_dual(copy.deepcopy(A), copy.deepcopy(b), copy.deepcopy(c), copy.deepcopy(w), copy.deepcopy(variables))"
   ]
  },
  {
   "cell_type": "markdown",
   "id": "bba09dde",
   "metadata": {},
   "source": [
    "#### Exercise 6.44:\n",
    "Solve the next linear programming problem:\n",
    "\n",
    "$$min \\hspace{0.5cm} x_1 + 0x_2 + 2x_3 - x_4$$\n",
    "$$under \\hspace{0.5cm} x_1 + x_2 + x_3 + x_4 \\leq 6$$\n",
    "$$\\hspace{1.4cm} 2x_1 - x_2 + 3x_3 - 3x_4 \\geq 5$$\n",
    "$$\\hspace{1cm}x_1, x_2, x_3, x_4 \\geq 0$$\n",
    "\n",
    "First, we introduce our slack variables $x_5, x_6$ and multiply by -1 the first constraint for mere convenience. So, the primal problem can be rewritten as\n",
    "\n",
    "$$min \\hspace{0.5cm} x_1 + 0x_2 + 2x_3 - x_4 + 0x_5 + 0x_6$$\n",
    "$$under \\hspace{0.5cm} - x_1 - x_2 - x_3 - x_4 - x_5 + 0x_6 = -6$$\n",
    "$$\\hspace{1.4cm} 2x_1 - x_2 + 3x_3 - 3x_4 + 0x_5 - x_6 = 5$$\n",
    "$$\\hspace{1cm}x_1, x_2, x_3, x_4, x_5, x_6 \\geq 0$$\n",
    "\n",
    "And on the other hand, the associated dual problem is defined as\n",
    "\n",
    "$$max \\hspace{0.5cm} - 6w_1 + 5w_2 $$\n",
    "$$under \\hspace{0.5cm} - w_1 + 2w_2 \\leq 1$$\n",
    "$$\\hspace{1.4cm} - w_1 - w_2 \\leq 0$$\n",
    "$$\\hspace{1.4cm} - w_1 + 3w_2 \\leq 2$$\n",
    "$$\\hspace{1.4cm} - w_1 - 3w_2 \\leq -1$$\n",
    "$$\\hspace{1.4cm} - w_1 + 0w_2 \\leq 0$$\n",
    "$$\\hspace{1.4cm} 0w_1 - w_2 \\leq 0$$\n",
    "$$\\hspace{1cm}w_1, w_2 \\hspace{0.5cm}unrestricted$$\n",
    "\n",
    "Then, we get the following elements:\n",
    "\n",
    "\\begin{equation} A = \n",
    "\\left[\n",
    "\\begin{array}{cccccc}\n",
    "-1 & -1 & -1 & -1 & -1 & 0\\\\\n",
    "2 & -1 & 3 & -3 & 0 & -1\\\\\n",
    "\\end{array}\n",
    "\\right]\n",
    "\\end{equation}\n",
    "\n",
    "\\begin{equation} b = \n",
    "\\left[\n",
    "\\begin{array}{r}\n",
    "-6\\\\\n",
    "5\\\\\n",
    "\\end{array}\n",
    "\\right]\n",
    "\\end{equation}\n",
    "\n",
    "\n",
    "\\begin{equation} c =\n",
    "\\left[\n",
    "\\begin{array}{ccccccc}\n",
    "1 & 0 & 2 & -1 & 0 & 0\\\\\n",
    "\\end{array}\n",
    "\\right]\n",
    "\\end{equation}"
   ]
  },
  {
   "cell_type": "code",
   "execution_count": 15,
   "id": "bafec4be",
   "metadata": {},
   "outputs": [],
   "source": [
    "A = np.matrix([[-1, -1, -1, -1, -1, 0],\n",
    "               [2, -1, 3, -3, 0, -1]])\n",
    "b = np.array([-6, 5])\n",
    "c = np.array([1, 0, 2, -1, 0, 0])\n",
    "variables = [\"x1\", \"x2\", \"x3\", \"x4\", \"x5\", \"x6\"]"
   ]
  },
  {
   "cell_type": "markdown",
   "id": "b12ca215",
   "metadata": {},
   "source": [
    "Besides that, we propose $w = [1, 1]$ as our initial dual feasible solution that will enable us to start the Primal Dual Method."
   ]
  },
  {
   "cell_type": "code",
   "execution_count": 16,
   "id": "f77abf4a",
   "metadata": {},
   "outputs": [],
   "source": [
    "w = np.array([0, 0.5])"
   ]
  },
  {
   "cell_type": "code",
   "execution_count": 17,
   "id": "66af2ea6",
   "metadata": {
    "scrolled": false
   },
   "outputs": [
    {
     "name": "stdout",
     "output_type": "stream",
     "text": [
      "\n",
      "\n",
      "\u001b[1mIteration  1 \u001b[0m\n",
      "\n",
      "Q = [1, 5]\n",
      "\n",
      "\u001b[94mRestricted Primal Problem\u001b[0m\n",
      "\n",
      "Variables RPP\n",
      "['x1', 'x5', 'x7', 'x8']\n",
      "\n",
      "Matrix A RPP\n",
      "[[-1 -1  1  0]\n",
      " [ 2  0  0  1]]\n",
      "\n",
      "Vector c RPP\n",
      "[0 0 1 1]\n",
      "\n",
      "Solution RPP\n",
      "[ 2.5  0.  -3.5  0. ]\n",
      "\n",
      "Performance RPP\n",
      "-3.5\n",
      "\n",
      "\u001b[94mDual of Restricted Primal Problem\u001b[0m\n",
      "[0. 0. 0. 0. 1. 1.]\n",
      "\n",
      "v = [0. 0.]\n",
      "\n",
      "\u001b[1mOptimization process stopped :(\u001b[0m\n",
      "\n",
      "The Dual of RPP is unbounded and the primal is infeasible (vA <= 0)\n",
      "\n",
      "\n"
     ]
    },
    {
     "data": {
      "text/plain": [
       "(False, False)"
      ]
     },
     "execution_count": 17,
     "metadata": {},
     "output_type": "execute_result"
    }
   ],
   "source": [
    "primal_dual(copy.deepcopy(A), copy.deepcopy(b), copy.deepcopy(c), copy.deepcopy(w), copy.deepcopy(variables))"
   ]
  },
  {
   "cell_type": "markdown",
   "id": "d1df0686",
   "metadata": {},
   "source": [
    "Using Dual Simplex Method we get..."
   ]
  },
  {
   "cell_type": "code",
   "execution_count": 18,
   "id": "ddfe1773",
   "metadata": {},
   "outputs": [],
   "source": [
    "A = np.matrix([[-1, -1, -1, -1, -1, 0],\n",
    "               [2, -1, 3, -3, 0, -1]])\n",
    "b = np.array([-6, 5])\n",
    "c = np.array([1, 0, 2, -1, 0, 0])\n",
    "variables = [\"x1\", \"x2\", \"x3\", \"x4\", \"x5\", \"x6\"]"
   ]
  },
  {
   "cell_type": "code",
   "execution_count": 19,
   "id": "90a91ac5",
   "metadata": {},
   "outputs": [],
   "source": [
    "basic_indexes = [4, 5]\n",
    "non_basic_indexes = [0, 1, 2, 3]\n",
    "slack_indexes = [4, 5]"
   ]
  },
  {
   "cell_type": "code",
   "execution_count": 20,
   "id": "14a8585a",
   "metadata": {},
   "outputs": [],
   "source": [
    "tableau = construct_tableau(A, b, c, basic_indexes)"
   ]
  },
  {
   "cell_type": "code",
   "execution_count": 21,
   "id": "f45e30e4",
   "metadata": {},
   "outputs": [
    {
     "data": {
      "text/plain": [
       "matrix([[ 1., -1.,  0., -2.,  1.,  0.,  0.,  0.],\n",
       "        [ 0.,  1.,  1.,  1.,  1.,  1.,  0.,  6.],\n",
       "        [ 0., -2.,  1., -3.,  3.,  0.,  1., -5.]])"
      ]
     },
     "execution_count": 21,
     "metadata": {},
     "output_type": "execute_result"
    }
   ],
   "source": [
    "tableau"
   ]
  },
  {
   "cell_type": "code",
   "execution_count": 22,
   "id": "013b6275",
   "metadata": {},
   "outputs": [
    {
     "data": {
      "text/plain": [
       "[['x1', 'x3'], ['x1', 'x5'], ['x4', 'x5'], ['x4', 'x6']]"
      ]
     },
     "execution_count": 22,
     "metadata": {},
     "output_type": "execute_result"
    }
   ],
   "source": [
    "possible_basic_indexes = basic_indexes_dual_feasible_solution(A, b, c, [i for i in range(len(variables))], np.shape(A)[0])\n",
    "possible_basic_variables = basic_variables_dual_feasible_solution(possible_basic_indexes, variables)\n",
    "possible_basic_variables"
   ]
  },
  {
   "cell_type": "code",
   "execution_count": 23,
   "id": "fedd03e5",
   "metadata": {},
   "outputs": [],
   "source": [
    "basic_indexes = [3, 5]\n",
    "non_basic_indexes = [0, 1, 2, 4]\n",
    "slack_indexes = [4, 5]"
   ]
  },
  {
   "cell_type": "code",
   "execution_count": 24,
   "id": "7099bd27",
   "metadata": {},
   "outputs": [],
   "source": [
    "tableau = construct_tableau(A, b, c, basic_indexes)"
   ]
  },
  {
   "cell_type": "code",
   "execution_count": 25,
   "id": "c867634c",
   "metadata": {},
   "outputs": [
    {
     "data": {
      "text/plain": [
       "matrix([[  1.,  -2.,  -1.,  -3.,   0.,  -1.,   0.,  -6.],\n",
       "        [  0.,   1.,   1.,   1.,   1.,   1.,   0.,   6.],\n",
       "        [  0.,  -5.,  -2.,  -6.,   0.,  -3.,   1., -23.]])"
      ]
     },
     "execution_count": 25,
     "metadata": {},
     "output_type": "execute_result"
    }
   ],
   "source": [
    "tableau"
   ]
  },
  {
   "cell_type": "code",
   "execution_count": 26,
   "id": "5cfea080",
   "metadata": {
    "scrolled": false
   },
   "outputs": [
    {
     "name": "stdout",
     "output_type": "stream",
     "text": [
      "\n",
      "\n",
      "\u001b[1mIteration  1 \u001b[0m\n",
      "[\u001b[94m x_B \u001b[0m, \u001b[91m x_N \u001b[0m] = [ \u001b[94mx4, x6\u001b[0m, \u001b[91mx1, x2, x3, x5\u001b[0m ]\n",
      "\n",
      "\n",
      "Entry tableau\n",
      "[[  1.  -2.  -1.  -3.   0.  -1.   0.  -6.]\n",
      " [  0.   1.   1.   1.   1.   1.   0.   6.]\n",
      " [  0.  -5.  -2.  -6.   0.  -3.   1. -23.]]\n",
      "\n",
      "r = 2 -> row no. 2 of x_B part ( x6 )\n",
      "y_r\n",
      "[-5. -2. -6.  0. -3.  1.]\n",
      "\n",
      "k = 5 -> column no. 5 of x part ( x5 )\n",
      "min_quotient\n",
      "0.3333333333333333\n",
      "\n",
      "pivot = -3.0\n",
      "\n",
      "Pivoted tableau\n",
      "[[ 1.     -0.3333 -0.3333 -1.      0.      0.     -0.3333  1.6667]\n",
      " [ 0.     -0.6667  0.3333 -1.      1.      0.      0.3333 -1.6667]\n",
      " [-0.      1.6667  0.6667  2.     -0.      1.     -0.3333  7.6667]]\n",
      "\n",
      "\u001b[94m x5 enters\u001b[0m and \u001b[91m x6 leaves\u001b[0m the basis\n",
      "\n",
      "\n",
      "\u001b[1mIteration  2 \u001b[0m\n",
      "[\u001b[94m x_B \u001b[0m, \u001b[91m x_N \u001b[0m] = [ \u001b[94mx4, x5\u001b[0m, \u001b[91mx1, x2, x3, x6\u001b[0m ]\n",
      "\n",
      "\n",
      "Entry tableau\n",
      "[[ 1.     -0.3333 -0.3333 -1.      0.      0.     -0.3333  1.6667]\n",
      " [ 0.     -0.6667  0.3333 -1.      1.      0.      0.3333 -1.6667]\n",
      " [-0.      1.6667  0.6667  2.     -0.      1.     -0.3333  7.6667]]\n",
      "\n",
      "r = 1 -> row no. 1 of x_B part ( x4 )\n",
      "y_r\n",
      "[-0.6667  0.3333 -1.      1.      0.      0.3333]\n",
      "\n",
      "k = 1 -> column no. 1 of x part ( x1 )\n",
      "min_quotient\n",
      "0.49999999999999983\n",
      "\n",
      "pivot = -0.6666666666666667\n",
      "\n",
      "Pivoted tableau\n",
      "[[ 1.   0.  -0.5 -0.5 -0.5  0.  -0.5  2.5]\n",
      " [-0.   1.  -0.5  1.5 -1.5 -0.  -0.5  2.5]\n",
      " [ 0.   0.   1.5 -0.5  2.5  1.   0.5  3.5]]\n",
      "\n",
      "\u001b[94m x1 enters\u001b[0m and \u001b[91m x4 leaves\u001b[0m the basis\n",
      "\n",
      "\n",
      "\u001b[1mIteration  3 \u001b[0m\n",
      "[\u001b[94m x_B \u001b[0m, \u001b[91m x_N \u001b[0m] = [ \u001b[94mx1, x5\u001b[0m, \u001b[91mx4, x2, x3, x6\u001b[0m ]\n",
      "\n",
      "\n",
      "Entry tableau\n",
      "[[ 1.   0.  -0.5 -0.5 -0.5  0.  -0.5  2.5]\n",
      " [-0.   1.  -0.5  1.5 -1.5 -0.  -0.5  2.5]\n",
      " [ 0.   0.   1.5 -0.5  2.5  1.   0.5  3.5]]\n",
      "\n",
      "\n",
      "\u001b[1mOptimality reached\u001b[0m\n",
      "\n",
      "The optimal primal solution is\n",
      "\u001b[92m[ x1, x5, x4, x2, x3, x6 ] = [ 2.5, 3.5, 0.0, 0.0, 0.0, 0.0 ]\u001b[0m\n",
      "\n",
      "With performance z = 2.5\n",
      "\n",
      "And the optimal dual solution is\n",
      "\u001b[92m[ w1, w2 ] = [ 0.0, 0.5 ]\u001b[0m\n",
      "\n",
      "\n"
     ]
    },
    {
     "data": {
      "text/plain": [
       "(array([2.5, 0. , 0. , 0. , 3.5, 0. ]), array([0. , 0.5]))"
      ]
     },
     "execution_count": 26,
     "metadata": {},
     "output_type": "execute_result"
    }
   ],
   "source": [
    "dual_simplex_tableau(copy.deepcopy(tableau), copy.deepcopy(variables), copy.deepcopy(basic_indexes), copy.deepcopy(non_basic_indexes), copy.deepcopy(slack_indexes))"
   ]
  },
  {
   "cell_type": "markdown",
   "id": "6c022fb2",
   "metadata": {},
   "source": [
    "#### Exercise 6.47:\n",
    "Solve the next linear programming problem:\n",
    "\n",
    "$$max \\hspace{0.5cm} 7x_1 + 2x_2 + x_3 + 4x_4 + 6x_5$$\n",
    "$$under \\hspace{0.5cm} 3x_1 + 5x_2 - 6x_3 + 2x_4 + 4x_5 = 27$$\n",
    "$$\\hspace{1.4cm} x_1 + 2x_2 + 3x_3 - 7x_4 + 6x_5 \\geq 2$$\n",
    "$$\\hspace{1.4cm} 9x_1 - 4x_2 + 2x_3 + 5x_4 - 2x_5 = 16$$\n",
    "$$\\hspace{1cm}x_1, x_2, x_3, x_4, x_5 \\geq 0$$\n",
    "\n",
    "First, we introduce our slack variable $x_6$, then multiply by -1 the objective function in order to turn the maximization problem into a minimization one. So, the primal problem can be rewritten as\n",
    "\n",
    "$$min \\hspace{0.5cm} -7x_1 - 2x_2 - x_3 - 4x_4 - 6x_5$$\n",
    "$$under \\hspace{0.5cm} 3x_1 + 5x_2 - 6x_3 + 2x_4 + 4x_5 + 0x_6= 27$$\n",
    "$$\\hspace{1.4cm} x_1 + 2x_2 + 3x_3 - 7x_4 + 6x_5 - x_6 = 2$$\n",
    "$$\\hspace{1.4cm} 9x_1 - 4x_2 + 2x_3 + 5x_4 - 2x_5 + 0x_6 = 16$$\n",
    "$$\\hspace{1cm}x_1, x_2, x_3, x_4, x_5, x_6 \\geq 0$$\n",
    "\n",
    "And on the other hand, the associated dual problem is defined as\n",
    "\n",
    "$$max \\hspace{0.5cm} 27w_1 + 2w_2 + 16w_3 $$\n",
    "$$under \\hspace{0.5cm} 3w_1 + w_2 + 9w_3 \\leq -7$$\n",
    "$$\\hspace{1.4cm} 5w_1 + 2w_2 - 4w_3 \\leq -2$$\n",
    "$$\\hspace{1.4cm} - 6w_1 + 3w_2 + 2w_3 \\leq -1$$\n",
    "$$\\hspace{1.4cm} 2w_1 - 7w_2 + 5w_3 \\leq -4$$\n",
    "$$\\hspace{1.4cm} 4w_1 + 6w_2 - 2w_3 \\leq -6$$\n",
    "$$\\hspace{1.4cm} 0w_1 - w_2 + 0w_3 \\leq 0$$\n",
    "$$\\hspace{1cm}w_1, w_2, w_3 \\hspace{0.5cm}unrestricted$$\n",
    "\n",
    "First, we have to check if the feasible region for the dual problem exists or not.\n",
    "\n",
    "Fixing w_2 and w_3 as zero we get\n",
    "$$w_1\\leq \\frac{-7}{3} \\land w_1 \\leq \\frac{-2}{5} \\land w_1 \\geq \\frac{1}{6} \\land w_1 \\leq -2 \\land w_1 \\leq \\frac{-3}{2} = \\emptyset$$\n",
    "\n",
    "Thus, the dual feasible region is empty and the primal problem is unbounded or infeasible.\n"
   ]
  },
  {
   "cell_type": "markdown",
   "id": "075f1505",
   "metadata": {},
   "source": [
    "For mere validation, we are going to try to solve the problem by the simplex method in tableau format..."
   ]
  },
  {
   "cell_type": "code",
   "execution_count": 27,
   "id": "d5b61fc2",
   "metadata": {},
   "outputs": [],
   "source": [
    "A = np.matrix([[3, 5, -6, 2, 4, 0],\n",
    "               [1, 2, 3, -7, 6, -1],\n",
    "               [9, -4, 2, 5, -2, 0]])\n",
    "b = np.array([27, 2, 16])\n",
    "c = np.array([-7, -2, -1, -4, -6, 0])\n",
    "variables = [\"x1\", \"x2\", \"x3\", \"x4\", \"x5\", \"x6\"]"
   ]
  },
  {
   "cell_type": "code",
   "execution_count": 28,
   "id": "fbfb7f60",
   "metadata": {},
   "outputs": [],
   "source": [
    "basic_indexes = [3, 4, 5]\n",
    "non_basic_indexes = [0, 1, 2]"
   ]
  },
  {
   "cell_type": "code",
   "execution_count": 29,
   "id": "8e09a985",
   "metadata": {},
   "outputs": [],
   "source": [
    "tableau = construct_tableau(A, b, c, basic_indexes)"
   ]
  },
  {
   "cell_type": "code",
   "execution_count": 30,
   "id": "e126fa37",
   "metadata": {},
   "outputs": [
    {
     "data": {
      "text/plain": [
       "matrix([[  1.    ,   0.75  ,  -5.25  ,  10.1667,   0.    ,   0.    ,\n",
       "           0.    , -45.4167],\n",
       "        [  0.    ,   1.75  ,  -0.25  ,  -0.1667,   1.    ,   0.    ,\n",
       "           0.    ,   4.9167],\n",
       "        [  0.    ,  -0.125 ,   1.375 ,  -1.4167,  -0.    ,   1.    ,\n",
       "           0.    ,   4.2917],\n",
       "        [  0.    , -14.    ,   8.    , -10.3333,  -0.    ,  -0.    ,\n",
       "           1.    , -10.6667]])"
      ]
     },
     "execution_count": 30,
     "metadata": {},
     "output_type": "execute_result"
    }
   ],
   "source": [
    "tableau"
   ]
  },
  {
   "cell_type": "code",
   "execution_count": 31,
   "id": "4ad3fece",
   "metadata": {},
   "outputs": [
    {
     "data": {
      "text/plain": [
       "False"
      ]
     },
     "execution_count": 31,
     "metadata": {},
     "output_type": "execute_result"
    }
   ],
   "source": [
    "simplex_tableau(copy.deepcopy(tableau), copy.deepcopy(variables), copy.deepcopy(basic_indexes), copy.deepcopy(non_basic_indexes))"
   ]
  },
  {
   "cell_type": "code",
   "execution_count": 32,
   "id": "b5325355",
   "metadata": {},
   "outputs": [
    {
     "data": {
      "text/plain": [
       "[]"
      ]
     },
     "execution_count": 32,
     "metadata": {},
     "output_type": "execute_result"
    }
   ],
   "source": [
    "possible_basic_indexes = basic_indexes_dual_feasible_solution(A, b, c, [i for i in range(len(variables))], np.shape(A)[0])\n",
    "possible_basic_variables = basic_variables_dual_feasible_solution(possible_basic_indexes, variables)\n",
    "possible_basic_variables"
   ]
  },
  {
   "cell_type": "code",
   "execution_count": null,
   "id": "d6ebfbe8",
   "metadata": {},
   "outputs": [],
   "source": []
  }
 ],
 "metadata": {
  "kernelspec": {
   "display_name": "Python 3 (ipykernel)",
   "language": "python",
   "name": "python3"
  },
  "language_info": {
   "codemirror_mode": {
    "name": "ipython",
    "version": 3
   },
   "file_extension": ".py",
   "mimetype": "text/x-python",
   "name": "python",
   "nbconvert_exporter": "python",
   "pygments_lexer": "ipython3",
   "version": "3.9.12"
  }
 },
 "nbformat": 4,
 "nbformat_minor": 5
}
