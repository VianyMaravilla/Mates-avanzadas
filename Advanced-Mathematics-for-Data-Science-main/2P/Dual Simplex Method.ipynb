{
 "cells": [
  {
   "cell_type": "code",
   "execution_count": 1,
   "id": "0f7fe0bd",
   "metadata": {},
   "outputs": [
    {
     "data": {
      "text/html": [
       "<style>.container { width:100% !important; }</style>"
      ],
      "text/plain": [
       "<IPython.core.display.HTML object>"
      ]
     },
     "metadata": {},
     "output_type": "display_data"
    }
   ],
   "source": [
    "from IPython.display import display, HTML\n",
    "display(HTML(\"<style>.container { width:100% !important; }</style>\"))"
   ]
  },
  {
   "cell_type": "code",
   "execution_count": 2,
   "id": "6dd8153a",
   "metadata": {},
   "outputs": [],
   "source": [
    "import numpy as np\n",
    "import copy\n",
    "\n",
    "# Settings for printing numpy arrays\n",
    "np.set_printoptions(precision=4, edgeitems=50, suppress=True)\n",
    "np.core.arrayprint._line_width = 250"
   ]
  },
  {
   "cell_type": "markdown",
   "id": "2dcbceb7",
   "metadata": {},
   "source": [
    "# Dual Simplex Method\n",
    "\n",
    "Below is defined a function which comprises the Simplex Method helped by a Dual Problem which uses the table solution approach to solve Linear Programming Problems where we have to minimize or maximize an objective function under some restrictions."
   ]
  },
  {
   "cell_type": "code",
   "execution_count": 3,
   "id": "44e829a3",
   "metadata": {},
   "outputs": [],
   "source": [
    "def dual_simplex_tableau(tableau, variables, basic_indexes, non_basic_indexes, slack_indexes, itera = 1):\n",
    "    \n",
    "    basic_variables = [variables[i] for i in basic_indexes]\n",
    "    non_basic_variables = [variables[i] for i in non_basic_indexes]\n",
    "    \n",
    "    # Printing our initial parameters for this iteration\n",
    "    print(\"\\n\\n\\033[1mIteration \", itera, \"\\033[0m\")\n",
    "    print(\"[\\033[94m x_B \\033[0m, \\033[91m x_N \\033[0m] = [ \\033[94m\"\n",
    "          + ', '.join(basic_variables) + \"\\033[0m, \\033[91m\" + ', '.join(non_basic_variables) + \"\\033[0m ]\\n\")\n",
    "    \n",
    "    # Extracting elements from the tableau of the current iteration\n",
    "    m = np.shape(tableau)[0] - 1\n",
    "    n_plus_m = np.shape(tableau)[1] - 2\n",
    "    ZX = np.ravel(tableau[0, 1:n_plus_m + 1])\n",
    "    XBX = tableau[1:, 1:n_plus_m + 1]\n",
    "    ZRHS = np.array([tableau[0, n_plus_m + 1]])\n",
    "    XBRHS = (tableau[1:, n_plus_m + 1]).reshape(1, m)\n",
    "    b_ = np.concatenate((np.ravel(XBRHS), np.zeros(n_plus_m - m)))\n",
    "    \n",
    "    print(\"\\nEntry tableau\")\n",
    "    print(tableau)\n",
    "    \n",
    "    positive_b = True\n",
    "    for b_i in np.ravel(XBRHS):\n",
    "        if b_i < 0:\n",
    "            positive_b = False\n",
    "            break\n",
    "    \n",
    "    # Validating if we stop or not the optimization\n",
    "    if positive_b:   # We stop\n",
    "        \n",
    "        # Printing the final results\n",
    "        print(\"\\n\\n\\033[1mOptimality reached\\033[0m\")\n",
    "        print(\"\\nThe optimal primal solution is\")\n",
    "        results_primal_ls = [str(round(i, 4)) for i in b_]\n",
    "        print(\"\\033[92m[ \" + ', '.join(basic_variables + non_basic_variables) + \" ] = [ \" + ', '.join(results_primal_ls) + \" ]\\033[0m\")\n",
    "        perf_z = ZRHS[0]\n",
    "        print(\"\\nWith performance z =\", perf_z)\n",
    "        print(\"\\nAnd the optimal dual solution is\")\n",
    "        results_dual_ls = np.ravel(-1 * tableau[0, [i + 1 for i in slack_indexes]]).tolist()\n",
    "        results_dual_ls_f = [str(round(i, 4)) for i in results_dual_ls]\n",
    "        print(\"\\033[92m[ \" + ', '.join(['w' + str(i + 1) for i in range(m)]) + \" ] = [ \" + ', '.join(results_dual_ls_f) + \" ]\\033[0m\\n\\n\")\n",
    "        \n",
    "        indexes_variables = [int(var[1:]) for var in basic_variables + non_basic_variables]\n",
    "        dict_primal_solution = dict(zip(indexes_variables, [b_i for b_i in b_]))\n",
    "        sorted_dict_primal_solution = dict(sorted(dict_primal_solution.items(), key = lambda x:x[0]))\n",
    "        primal_solution = np.array(list(sorted_dict_primal_solution.values()))\n",
    "        \n",
    "        dict_dual_solution = dict(zip([i for i in range(m)], results_dual_ls))\n",
    "        sorted_dict_dual_solution = dict(sorted(dict_dual_solution.items(), key = lambda x:x[0]))\n",
    "        dual_solution = np.array(list(sorted_dict_dual_solution.values()))\n",
    "        \n",
    "        #print(solution)\n",
    "        return primal_solution, dual_solution\n",
    "        \n",
    "    else:   # We continue\n",
    "        \n",
    "        br = min(XBRHS)\n",
    "        r = np.argmin(XBRHS)\n",
    "        \n",
    "        # Calculating and printing the y_ri's\n",
    "        y_r = np.ravel(XBX[r, :])\n",
    "        \n",
    "        print(\"\\nr =\", r + 1, \"-> row no.\", r + 1, \"of x_B part (\", basic_variables[r], \")\")\n",
    "        print(\"y_r\")\n",
    "        print(y_r)\n",
    "        \n",
    "        # Analyzing if the Dual Problem is or not boundable by the condition y_r >= 0\n",
    "        flag = True\n",
    "        aux_counter = 0\n",
    "        for y_i in y_r:\n",
    "            if y_i >= 0:\n",
    "                aux_counter += 1      \n",
    "        if aux_counter == len(y_r):\n",
    "            flag = False\n",
    "\n",
    "        if flag:   # Boundable\n",
    "            \n",
    "            # Calculating and printing x_k by the minimum quotient (current BFS divided by the y_k > 0) with its index r\n",
    "            quot_ls = list()\n",
    "            index_k_ls = list()\n",
    "            for i in range(n_plus_m):\n",
    "                if y_r[i] < 0:\n",
    "                    quot_ls.append(ZX[i] / y_r[i])\n",
    "                    index_k_ls.append(i)\n",
    "            quot_arr = np.array(quot_ls)\n",
    "            index_k_arr = np.array(index_k_ls)\n",
    "            k = index_k_arr[np.argmin(quot_arr)]\n",
    "            min_quot = min(quot_arr)\n",
    "            print(\"\\nk =\", k + 1, \"-> column no.\", k + 1, \"of x part (\", variables[k], \")\")\n",
    "            print(\"min_quotient\")\n",
    "            print(min_quot)\n",
    "            \n",
    "            # Pivoting\n",
    "            pivot = y_r[k]\n",
    "            print(\"\\npivot =\", pivot)\n",
    "            \n",
    "            tableau[r + 1, :] = tableau[r + 1, :] / pivot\n",
    "            for i in range(m + 1):\n",
    "                if i != r + 1:\n",
    "                    tableau[i, :] = tableau[i, :] - tableau[i, k + 1] * tableau[r + 1, :]\n",
    "            \n",
    "            print(\"\\nPivoted tableau\")\n",
    "            print(tableau)\n",
    "            # Exchanging the indexes\n",
    "            k_relative = 0\n",
    "            for i in range(len(non_basic_indexes)):\n",
    "                if k == non_basic_indexes[i]:\n",
    "                    k_relative = i\n",
    "                    break\n",
    "            print(\"\\n\\033[94m\", non_basic_variables[k_relative], \"enters\\033[0m and \\033[91m\", basic_variables[r], \"leaves\\033[0m the basis\")\n",
    "            aux_vars = basic_indexes[r]\n",
    "            basic_indexes[r] = non_basic_indexes[k_relative]\n",
    "            non_basic_indexes[k_relative] = aux_vars\n",
    "            \n",
    "            # Recursive call\n",
    "            return dual_simplex_tableau(tableau, variables, basic_indexes, non_basic_indexes, slack_indexes, itera + 1)\n",
    "\n",
    "        else:   # Not boundable\n",
    "            \n",
    "            print(\"\\n\\n\\033[1mOptimization process stopped :(\\033[0m\")\n",
    "            print(\"\\nThe Dual Problem is not boundable, thus the primal feasible region is empty\\n\\n\")\n",
    "            \n",
    "            return False, False\n",
    "            "
   ]
  },
  {
   "cell_type": "code",
   "execution_count": 4,
   "id": "80a6d250",
   "metadata": {},
   "outputs": [],
   "source": [
    "def construct_tableau(A, b, c, basic_indexes):\n",
    "    m, n_plus_m = np.shape(A)\n",
    "    B = A[:m, basic_indexes]\n",
    "    c_b = c[basic_indexes]\n",
    "    b_ = np.linalg.inv(B) @ b\n",
    "\n",
    "    one_array = np.ones(1, dtype=int)\n",
    "    zero_array_v = np.ravel(np.zeros(m, dtype=int)).reshape(1, m)\n",
    "    ZX = np.ravel((c_b @ np.linalg.inv(B) @ A) - c)\n",
    "    XBX = np.linalg.inv(B) @ A\n",
    "    ZRHS = np.full((1), c_b @ np.ravel(b_))\n",
    "    XBRHS = b_.reshape(1, m)\n",
    "\n",
    "    tableau = np.vstack((np.concatenate((one_array, ZX, ZRHS), axis = 0).reshape(1, n_plus_m + 2),\n",
    "                  np.concatenate((zero_array_v.T, XBX, XBRHS.T), axis = 1)))\n",
    "    \n",
    "    return tableau"
   ]
  },
  {
   "cell_type": "code",
   "execution_count": 5,
   "id": "a84c3650",
   "metadata": {},
   "outputs": [],
   "source": [
    "import itertools\n",
    "\n",
    "def basic_indexes_dual_feasible_solution(A, b, c, indexes, m):\n",
    "    all_combinations = itertools.combinations(indexes, m)\n",
    "    possible_basic_indexes = list()\n",
    "    for basic_indexes in all_combinations:\n",
    "        try:\n",
    "            basic_indexes = list(basic_indexes)\n",
    "            B = A[:m, basic_indexes]\n",
    "            c_b = c[basic_indexes]\n",
    "            ZX = np.ravel((c_b @ np.linalg.inv(B) @ A) - c)\n",
    "            \n",
    "            dual_feasible = True\n",
    "            for zx in ZX:\n",
    "                if zx > 0:\n",
    "                    dual_feasible = False\n",
    "                    break\n",
    "            if dual_feasible:\n",
    "                possible_basic_indexes.append(basic_indexes)  \n",
    "        except:\n",
    "            pass\n",
    "    \n",
    "    return possible_basic_indexes"
   ]
  },
  {
   "cell_type": "code",
   "execution_count": 6,
   "id": "93ff40e2",
   "metadata": {},
   "outputs": [],
   "source": [
    "def basic_variables_dual_feasible_solution(possible_basic_indexes, variables):\n",
    "    possible_basic_variables = list()\n",
    "    for psb in possible_basic_indexes:\n",
    "        possible_basic_variables.append([variables[i_psb] for i_psb in psb])\n",
    "    \n",
    "    return possible_basic_variables"
   ]
  },
  {
   "cell_type": "markdown",
   "id": "57d29b91",
   "metadata": {},
   "source": [
    "The Dual Simplex Method, as well as the Simplex Method implementations previously done, needs to preprocess our initial data in order to adjust it into a a particular tableau with the below entries:\n",
    "\n",
    "|         | $z$ | $x_{B}$ | $x_{N}$                | $RHS$         |\n",
    "|:---:|:---:|:---:|:---:|:---:|\n",
    "| $z$     | $1$ | $0$     | $c_{b}B^{-1}N - c_{N}$ | $c_b \\bar{b}$ |\n",
    "| $X_{B}$ | $0$ | $I$     | $B^{-1}N$              | $\\bar{b}$     |\n",
    "\n",
    "That if we break it down we get the following equivalent tableau\n",
    "\n",
    "|          | $z$      | $x_1$      | $x_2$      | $...$ | $x_n$      | $x_{n+1}$         | $...$ | $x_{n+m}$         | $RHS$         |\n",
    "|:---:|:---:|:---:|:---:|:---:|:---:|:---:|:---:|:---:|:---:|\n",
    "| $z$      | $1$      | $z_1-c_1$  | $z_2-c_2$  | $...$ | $z_n-c_n$  | $z_{n+1}-c_{n+1}$ | $...$ | $z_{n+m}-c_{n+m}$ | $c_b \\bar{b}$ |\n",
    "| $X_{B1}$ | $0$      | $Y_{1, 1}$ | $Y_{1, 2}$ | $...$ | $Y_{1, n}$ | $Y_{1, n+1}$      | $...$ | $Y_{1, n+m}$      | $\\bar{b_1}$        |\n",
    "| $X_{B2}$ | $0$      | $Y_{2, 1}$ | $Y_{2, 2}$ | $...$ | $Y_{2, n}$ | $Y_{2, n+1}$      | $...$ | $Y_{2, n+m}$      | $\\bar{b_2}$          |\n",
    "| $\\vdots$ | $\\vdots$ | $\\vdots$   | $\\vdots$   |       | $\\vdots$   | $\\vdots$          |       | $\\vdots$          | $\\vdots$      |\n",
    "| $X_{Bm}$ | $0$      | $Y_{m, 1}$ | $Y_{m, 2}$ | $...$ | $Y_{m, n}$ | $Y_{m, n+1}$      | $...$ | $Y_{m, n+m}$      | $\\bar{b_m}$          |\n",
    "\n",
    "Taking this into account, the purpose of this method is to make the $\\bar{b_i}$ less negative, and eventually turning them into positive values."
   ]
  },
  {
   "cell_type": "markdown",
   "id": "6c100db5",
   "metadata": {},
   "source": [
    "So, once we have already defined the previous function, we are able to apply it.\n",
    "\n",
    "#### Example 1:\n",
    "Solve the next linear programming problem:\n",
    "\n",
    "$$min \\hspace{0.5cm} 2x_1 + 3x_2 + 4x_3$$\n",
    "$$under \\hspace{0.5cm} x_1 + 2x_2 + x_3 \\geq 3$$\n",
    "$$\\hspace{1.4cm} 2x_1 - x_2 + 3x_3 \\geq 4$$\n",
    "$$\\hspace{1cm}x_1, x_2, x_3 \\geq 0$$\n",
    "\n",
    "First, we introduce our slack variables $x_4, x_5$ and multiply by -1 the restrictions in order to make an identity submatrix. So, the primal problem can be rewritten as\n",
    "$$min \\hspace{0.5cm} 2x_1 + 3x_2 + 4x_3 + 0x_4 + 0x_5$$\n",
    "$$under \\hspace{0.5cm} -x_1 - 2x_2 - x_3 + x_4 + 0x_5 = -3$$\n",
    "$$\\hspace{1.4cm} -2x_1 + x_2 - 3x_3 + 0x_4 + x_5 = -4$$\n",
    "$$\\hspace{1cm}x_1, x_2, x_3, x_4, x_5 \\geq 0$$\n",
    "\n",
    "And on the other hand, the associated dual problem is defined as\n",
    "\n",
    "$$max \\hspace{0.5cm} - 3w_1 - 4w_2$$\n",
    "$$under \\hspace{0.5cm} - w_1 - 2w_2 \\leq 2$$\n",
    "$$\\hspace{1.4cm} - 2w_1 + w_2 \\leq 3$$\n",
    "$$\\hspace{1.4cm} - w_1 - 3w_2 \\leq 4$$\n",
    "$$\\hspace{1.4cm} w_1 + 0w_2 \\leq 0$$\n",
    "$$\\hspace{1.4cm} 0w_1 + w_2 \\leq 0$$\n",
    "$$\\hspace{1cm}w_1, w_2 \\hspace{0.5cm}unrestricted$$\n",
    "\n",
    "Then, initially considering $x_4, x_5$ as the basic variables and $x_1, x_2, x_3$ as the non basic ones, we get the following elements:\n",
    "\\begin{equation} A = [N | B] = \n",
    "\\left[\n",
    "\\begin{array}{ccc | ccc}\n",
    "-1 & -2 & -1 & 1 & 0\\\\\n",
    "-2 & 1 & -3 & 0 & 1\\\\\n",
    "\\end{array}\n",
    "\\right]\n",
    "\\end{equation}\n",
    "\n",
    "\\begin{equation} b = \n",
    "\\left[\n",
    "\\begin{array}{r}\n",
    "-3\\\\\n",
    "-4\\\\\n",
    "\\end{array}\n",
    "\\right]\n",
    "\\end{equation}\n",
    "\n",
    "\n",
    "\\begin{equation} c = [c_{N} | c_{B}] =\n",
    "\\left[\n",
    "\\begin{array}{ccc|ccc}\n",
    "2 & 3 & 4 & 0 & 0\\\\\n",
    "\\end{array}\n",
    "\\right]\n",
    "\\end{equation}"
   ]
  },
  {
   "cell_type": "code",
   "execution_count": 7,
   "id": "13c231bb",
   "metadata": {},
   "outputs": [],
   "source": [
    "A = np.matrix([[-1, -2, -1, 1, 0], [-2, 1, -3, 0, 1]])\n",
    "b = np.array([-3, -4])\n",
    "c = np.array([2, 3, 4, 0, 0])\n",
    "variables = [\"x1\", \"x2\", \"x3\", \"x4\", \"x5\"]"
   ]
  },
  {
   "cell_type": "code",
   "execution_count": 8,
   "id": "12eee5a5",
   "metadata": {},
   "outputs": [],
   "source": [
    "basic_indexes = [3, 4]\n",
    "non_basic_indexes = [0, 1, 2]\n",
    "slack_indexes = [3, 4]"
   ]
  },
  {
   "cell_type": "code",
   "execution_count": 9,
   "id": "70e9db1c",
   "metadata": {},
   "outputs": [],
   "source": [
    "tableau = construct_tableau(A, b, c, basic_indexes)"
   ]
  },
  {
   "cell_type": "code",
   "execution_count": 10,
   "id": "fcd5f788",
   "metadata": {
    "scrolled": true
   },
   "outputs": [
    {
     "data": {
      "text/plain": [
       "matrix([[ 1., -2., -3., -4.,  0.,  0.,  0.],\n",
       "        [ 0., -1., -2., -1.,  1.,  0., -3.],\n",
       "        [ 0., -2.,  1., -3.,  0.,  1., -4.]])"
      ]
     },
     "execution_count": 10,
     "metadata": {},
     "output_type": "execute_result"
    }
   ],
   "source": [
    "tableau"
   ]
  },
  {
   "cell_type": "markdown",
   "id": "b63c3b72",
   "metadata": {},
   "source": [
    "Note that since every $z_j - c_j \\leq 0$ $\\hspace{0.2cm}\\forall j$, we can proceed to execute the simplex dual method."
   ]
  },
  {
   "cell_type": "code",
   "execution_count": 11,
   "id": "199b6fde",
   "metadata": {
    "scrolled": false
   },
   "outputs": [
    {
     "name": "stdout",
     "output_type": "stream",
     "text": [
      "\n",
      "\n",
      "\u001b[1mIteration  1 \u001b[0m\n",
      "[\u001b[94m x_B \u001b[0m, \u001b[91m x_N \u001b[0m] = [ \u001b[94mx4, x5\u001b[0m, \u001b[91mx1, x2, x3\u001b[0m ]\n",
      "\n",
      "\n",
      "Entry tableau\n",
      "[[ 1. -2. -3. -4.  0.  0.  0.]\n",
      " [ 0. -1. -2. -1.  1.  0. -3.]\n",
      " [ 0. -2.  1. -3.  0.  1. -4.]]\n",
      "\n",
      "r = 2 -> row no. 2 of x_B part ( x5 )\n",
      "y_r\n",
      "[-2.  1. -3.  0.  1.]\n",
      "\n",
      "k = 1 -> column no. 1 of x part ( x1 )\n",
      "min_quotient\n",
      "1.0\n",
      "\n",
      "pivot = -2.0\n",
      "\n",
      "Pivoted tableau\n",
      "[[ 1.   0.  -4.  -1.   0.  -1.   4. ]\n",
      " [ 0.   0.  -2.5  0.5  1.  -0.5 -1. ]\n",
      " [-0.   1.  -0.5  1.5 -0.  -0.5  2. ]]\n",
      "\n",
      "\u001b[94m x1 enters\u001b[0m and \u001b[91m x5 leaves\u001b[0m the basis\n",
      "\n",
      "\n",
      "\u001b[1mIteration  2 \u001b[0m\n",
      "[\u001b[94m x_B \u001b[0m, \u001b[91m x_N \u001b[0m] = [ \u001b[94mx4, x1\u001b[0m, \u001b[91mx5, x2, x3\u001b[0m ]\n",
      "\n",
      "\n",
      "Entry tableau\n",
      "[[ 1.   0.  -4.  -1.   0.  -1.   4. ]\n",
      " [ 0.   0.  -2.5  0.5  1.  -0.5 -1. ]\n",
      " [-0.   1.  -0.5  1.5 -0.  -0.5  2. ]]\n",
      "\n",
      "r = 1 -> row no. 1 of x_B part ( x4 )\n",
      "y_r\n",
      "[ 0.  -2.5  0.5  1.  -0.5]\n",
      "\n",
      "k = 2 -> column no. 2 of x part ( x2 )\n",
      "min_quotient\n",
      "1.6\n",
      "\n",
      "pivot = -2.5\n",
      "\n",
      "Pivoted tableau\n",
      "[[ 1.   0.   0.  -1.8 -1.6 -0.2  5.6]\n",
      " [-0.  -0.   1.  -0.2 -0.4  0.2  0.4]\n",
      " [-0.   1.   0.   1.4 -0.2 -0.4  2.2]]\n",
      "\n",
      "\u001b[94m x2 enters\u001b[0m and \u001b[91m x4 leaves\u001b[0m the basis\n",
      "\n",
      "\n",
      "\u001b[1mIteration  3 \u001b[0m\n",
      "[\u001b[94m x_B \u001b[0m, \u001b[91m x_N \u001b[0m] = [ \u001b[94mx2, x1\u001b[0m, \u001b[91mx5, x4, x3\u001b[0m ]\n",
      "\n",
      "\n",
      "Entry tableau\n",
      "[[ 1.   0.   0.  -1.8 -1.6 -0.2  5.6]\n",
      " [-0.  -0.   1.  -0.2 -0.4  0.2  0.4]\n",
      " [-0.   1.   0.   1.4 -0.2 -0.4  2.2]]\n",
      "\n",
      "\n",
      "\u001b[1mOptimality reached\u001b[0m\n",
      "\n",
      "The optimal primal solution is\n",
      "\u001b[92m[ x2, x1, x5, x4, x3 ] = [ 0.4, 2.2, 0.0, 0.0, 0.0 ]\u001b[0m\n",
      "\n",
      "With performance z = 5.6\n",
      "\n",
      "And the optimal dual solution is\n",
      "\u001b[92m[ w1, w2 ] = [ 1.6, 0.2 ]\u001b[0m\n",
      "\n",
      "\n"
     ]
    },
    {
     "data": {
      "text/plain": [
       "(array([2.2, 0.4, 0. , 0. , 0. ]), array([1.6, 0.2]))"
      ]
     },
     "execution_count": 11,
     "metadata": {},
     "output_type": "execute_result"
    }
   ],
   "source": [
    "dual_simplex_tableau(copy.deepcopy(tableau), copy.deepcopy(variables), copy.deepcopy(basic_indexes), copy.deepcopy(non_basic_indexes), copy.deepcopy(slack_indexes))"
   ]
  },
  {
   "cell_type": "markdown",
   "id": "30add132",
   "metadata": {},
   "source": [
    "#### Exercise 6.1:\n",
    "Solve the next linear programming problem:\n",
    "\n",
    "$$max \\hspace{0.5cm} -x_1 + 2x_2$$\n",
    "$$under \\hspace{0.5cm} 3x_1 + 4x_2 \\leq 12$$\n",
    "$$\\hspace{1.4cm} 2x_1 - x_2 \\geq 2$$\n",
    "$$\\hspace{1cm}x_1, x_2 \\geq 0$$\n",
    "\n",
    "First, we introduce our slack variables $x_3, x_4$, then multiply by -1 the objective function in order to turn the maximization problem into a minimization one, and finally multiply by -1 the first constraint for mere convenience. So, the problem can be rewritten as\n",
    "\n",
    "$$min \\hspace{0.5cm} x_1 - 2x_2 + 0x_3 + 0x_4$$\n",
    "$$under \\hspace{0.5cm} -3x_1 - 4x_2 - x_3 + 0x_4 = -12$$\n",
    "$$\\hspace{1.4cm} 2x_1 - x_2 + 0x_3 - x_4 = 2$$\n",
    "$$\\hspace{1cm}x_1, x_2, x_3, x_4 \\geq 0$$\n",
    "\n",
    "And on the other hand, the associated dual problem is defined as\n",
    "\n",
    "$$max \\hspace{0.5cm} - 12w_1 + 2w_2$$\n",
    "$$under \\hspace{0.5cm} - 3w_1 + 2w_2 \\leq 1$$\n",
    "$$\\hspace{1.4cm} - 4w_1 - w_2 \\leq -2$$\n",
    "$$\\hspace{1.4cm} - w_1 + 0w_2 \\leq 0$$\n",
    "$$\\hspace{1.4cm} 0w_1 - w_2 \\leq 0$$\n",
    "$$\\hspace{1cm}w_1, w_2 \\hspace{0.5cm}unrestricted$$\n",
    "\n",
    "Then, initially considering $x_3, x_4$ as the basic variables and $x_1, x_2$ as the non basic ones, we get the following elements:\n",
    "\\begin{equation} A = [N | B] = \n",
    "\\left[\n",
    "\\begin{array}{cc | cc}\n",
    "-3 & -4 & -1 & 0\\\\\n",
    "2 & -1 & 0 & -1\\\\\n",
    "\\end{array}\n",
    "\\right]\n",
    "\\end{equation}\n",
    "\n",
    "\\begin{equation} b = \n",
    "\\left[\n",
    "\\begin{array}{r}\n",
    "-12\\\\\n",
    "2\\\\\n",
    "\\end{array}\n",
    "\\right]\n",
    "\\end{equation}\n",
    "\n",
    "\n",
    "\\begin{equation} c = [c_{N} | c_{B}] =\n",
    "\\left[\n",
    "\\begin{array}{cc|cc}\n",
    "1 & -2 & 0 & 0\\\\\n",
    "\\end{array}\n",
    "\\right]\n",
    "\\end{equation}"
   ]
  },
  {
   "cell_type": "code",
   "execution_count": 12,
   "id": "4bebb09f",
   "metadata": {},
   "outputs": [],
   "source": [
    "A = np.matrix([[-3, -4, -1, 0], [2, -1, 0, -1]])\n",
    "b = np.array([-12, 2])\n",
    "c = np.array([1, -2, 0, 0])\n",
    "variables = [\"x1\", \"x2\", \"x3\", \"x4\"]"
   ]
  },
  {
   "cell_type": "code",
   "execution_count": 13,
   "id": "a456a41e",
   "metadata": {},
   "outputs": [],
   "source": [
    "basic_indexes = [2, 3]\n",
    "non_basic_indexes = [0, 1]\n",
    "slack_indexes = [2, 3]"
   ]
  },
  {
   "cell_type": "code",
   "execution_count": 14,
   "id": "ae7c4987",
   "metadata": {},
   "outputs": [],
   "source": [
    "tableau = construct_tableau(A, b, c, basic_indexes)"
   ]
  },
  {
   "cell_type": "code",
   "execution_count": 15,
   "id": "6de0c5c8",
   "metadata": {},
   "outputs": [
    {
     "data": {
      "text/plain": [
       "matrix([[ 1., -1.,  2.,  0.,  0.,  0.],\n",
       "        [ 0.,  3.,  4.,  1.,  0., 12.],\n",
       "        [ 0., -2.,  1.,  0.,  1., -2.]])"
      ]
     },
     "execution_count": 15,
     "metadata": {},
     "output_type": "execute_result"
    }
   ],
   "source": [
    "tableau"
   ]
  },
  {
   "cell_type": "markdown",
   "id": "dbb967c4",
   "metadata": {},
   "source": [
    "Note that since $z_j - c_j \\leq 0$ condition isn't fulfilled $\\forall j$, we cannot proceed to execute the simplex dual method yet, so we should look for another basis that comply the previous condition."
   ]
  },
  {
   "cell_type": "code",
   "execution_count": 16,
   "id": "60a40e4d",
   "metadata": {},
   "outputs": [
    {
     "data": {
      "text/plain": [
       "[['x1', 'x2'], ['x2', 'x4']]"
      ]
     },
     "execution_count": 16,
     "metadata": {},
     "output_type": "execute_result"
    }
   ],
   "source": [
    "possible_basic_indexes = basic_indexes_dual_feasible_solution(A, b, c, [i for i in range(len(variables))], np.shape(A)[0])\n",
    "possible_basic_variables = basic_variables_dual_feasible_solution(possible_basic_indexes, variables)\n",
    "possible_basic_variables"
   ]
  },
  {
   "cell_type": "markdown",
   "id": "279b3080",
   "metadata": {},
   "source": [
    "Trying with $x_2, x_4$ as the basic variables we get the following changes:\n",
    "\n",
    "\\begin{equation} A = [N | B] = \n",
    "\\left[\n",
    "\\begin{array}{cc | cc}\n",
    "-3 & -1 & -4 & 0\\\\\n",
    "2 & 0 & -1 & -1\\\\\n",
    "\\end{array}\n",
    "\\right]\n",
    "\\end{equation}\n",
    "\n",
    "\\begin{equation} b = \n",
    "\\left[\n",
    "\\begin{array}{r}\n",
    "-12\\\\\n",
    "2\\\\\n",
    "\\end{array}\n",
    "\\right]\n",
    "\\end{equation}\n",
    "\n",
    "\n",
    "\\begin{equation} c = [c_{N} | c_{B}] =\n",
    "\\left[\n",
    "\\begin{array}{cc|cc}\n",
    "1 & 0 & -2 & 0\\\\\n",
    "\\end{array}\n",
    "\\right]\n",
    "\\end{equation}"
   ]
  },
  {
   "cell_type": "code",
   "execution_count": 17,
   "id": "0b7b6dc2",
   "metadata": {},
   "outputs": [],
   "source": [
    "basic_indexes = [1, 3]\n",
    "non_basic_indexes = [0, 2]\n",
    "slack_indexes = [2, 3]"
   ]
  },
  {
   "cell_type": "code",
   "execution_count": 18,
   "id": "cd7ecc59",
   "metadata": {},
   "outputs": [],
   "source": [
    "tableau = construct_tableau(A, b, c, basic_indexes)"
   ]
  },
  {
   "cell_type": "code",
   "execution_count": 19,
   "id": "81f515c6",
   "metadata": {
    "scrolled": true
   },
   "outputs": [
    {
     "data": {
      "text/plain": [
       "matrix([[ 1.  , -2.5 ,  0.  , -0.5 ,  0.  , -6.  ],\n",
       "        [ 0.  ,  0.75,  1.  ,  0.25,  0.  ,  3.  ],\n",
       "        [ 0.  , -2.75,  0.  , -0.25,  1.  , -5.  ]])"
      ]
     },
     "execution_count": 19,
     "metadata": {},
     "output_type": "execute_result"
    }
   ],
   "source": [
    "tableau"
   ]
  },
  {
   "cell_type": "markdown",
   "id": "020ea390",
   "metadata": {},
   "source": [
    "As it can be seen, changing the basis the condition complies, so now we can proceed to execute the dual simplex method."
   ]
  },
  {
   "cell_type": "code",
   "execution_count": 20,
   "id": "90881040",
   "metadata": {
    "scrolled": false
   },
   "outputs": [
    {
     "name": "stdout",
     "output_type": "stream",
     "text": [
      "\n",
      "\n",
      "\u001b[1mIteration  1 \u001b[0m\n",
      "[\u001b[94m x_B \u001b[0m, \u001b[91m x_N \u001b[0m] = [ \u001b[94mx2, x4\u001b[0m, \u001b[91mx1, x3\u001b[0m ]\n",
      "\n",
      "\n",
      "Entry tableau\n",
      "[[ 1.   -2.5   0.   -0.5   0.   -6.  ]\n",
      " [ 0.    0.75  1.    0.25  0.    3.  ]\n",
      " [ 0.   -2.75  0.   -0.25  1.   -5.  ]]\n",
      "\n",
      "r = 2 -> row no. 2 of x_B part ( x4 )\n",
      "y_r\n",
      "[-2.75  0.   -0.25  1.  ]\n",
      "\n",
      "k = 1 -> column no. 1 of x part ( x1 )\n",
      "min_quotient\n",
      "0.9090909090909091\n",
      "\n",
      "pivot = -2.75\n",
      "\n",
      "Pivoted tableau\n",
      "[[ 1.      0.      0.     -0.2727 -0.9091 -1.4545]\n",
      " [ 0.      0.      1.      0.1818  0.2727  1.6364]\n",
      " [-0.      1.     -0.      0.0909 -0.3636  1.8182]]\n",
      "\n",
      "\u001b[94m x1 enters\u001b[0m and \u001b[91m x4 leaves\u001b[0m the basis\n",
      "\n",
      "\n",
      "\u001b[1mIteration  2 \u001b[0m\n",
      "[\u001b[94m x_B \u001b[0m, \u001b[91m x_N \u001b[0m] = [ \u001b[94mx2, x1\u001b[0m, \u001b[91mx4, x3\u001b[0m ]\n",
      "\n",
      "\n",
      "Entry tableau\n",
      "[[ 1.      0.      0.     -0.2727 -0.9091 -1.4545]\n",
      " [ 0.      0.      1.      0.1818  0.2727  1.6364]\n",
      " [-0.      1.     -0.      0.0909 -0.3636  1.8182]]\n",
      "\n",
      "\n",
      "\u001b[1mOptimality reached\u001b[0m\n",
      "\n",
      "The optimal primal solution is\n",
      "\u001b[92m[ x2, x1, x4, x3 ] = [ 1.6364, 1.8182, 0.0, 0.0 ]\u001b[0m\n",
      "\n",
      "With performance z = -1.454545454545455\n",
      "\n",
      "And the optimal dual solution is\n",
      "\u001b[92m[ w1, w2 ] = [ 0.2727, 0.9091 ]\u001b[0m\n",
      "\n",
      "\n"
     ]
    },
    {
     "data": {
      "text/plain": [
       "(array([1.8182, 1.6364, 0.    , 0.    ]), array([0.2727, 0.9091]))"
      ]
     },
     "execution_count": 20,
     "metadata": {},
     "output_type": "execute_result"
    }
   ],
   "source": [
    "dual_simplex_tableau(copy.deepcopy(tableau), copy.deepcopy(variables), copy.deepcopy(basic_indexes), copy.deepcopy(non_basic_indexes), copy.deepcopy(slack_indexes))"
   ]
  },
  {
   "cell_type": "markdown",
   "id": "d3200239",
   "metadata": {},
   "source": [
    "#### Exercise 6.2:\n",
    "Solve the next linear programming problem:\n",
    "\n",
    "$$min \\hspace{0.5cm} 2x_1 + 3x_2 + 5x_3 + 6x_4$$\n",
    "$$under \\hspace{0.5cm} x_1 + 2x_2 + 3x_3 + x_4 \\geq 2$$\n",
    "$$\\hspace{1.4cm} -2x_1 + x_2 - x_3 + 3x_4 \\leq -3$$\n",
    "$$\\hspace{1cm}x_1, x_2, x_3, x_4 \\geq 0$$\n",
    "\n",
    "First, we introduce our slack variables $x_5, x_6$ and then multiply by -1 the first constraint for mere convenience. So, the problem can be rewritten as\n",
    "\n",
    "$$min \\hspace{0.5cm} 2x_1 + 3x_2 + 5x_3 + 6x_4 + 0x_5 + 0x_6$$\n",
    "$$under \\hspace{0.5cm} - x_1 - 2x_2 - 3x_3 - x_4 + x_5 + 0x_6 = -2$$\n",
    "$$\\hspace{1.4cm} -2x_1 + x_2 - x_3 + 3x_4 + 0x_5 + x_6 = -3$$\n",
    "$$\\hspace{1cm}x_1, x_2, x_3, x_4, x_5, x_6 \\geq 0$$\n",
    "\n",
    "And on the other hand, the associated dual problem is defined as\n",
    "\n",
    "$$max \\hspace{0.5cm} - 2w_1 - 3w_2$$\n",
    "$$under \\hspace{0.5cm} - w_1 - 2w_2 \\leq 2$$\n",
    "$$\\hspace{1.4cm} - 2w_1 + w_2 \\leq 3$$\n",
    "$$\\hspace{1.4cm} - 3w_1 - w_2 \\leq 5$$\n",
    "$$\\hspace{1.4cm} - w_1 + 3w_2 \\leq 6$$\n",
    "$$\\hspace{1.4cm} w_1 + 0w_2 \\leq 0$$\n",
    "$$\\hspace{1.4cm} 0w_1 + w_2 \\leq 0$$\n",
    "$$\\hspace{1cm}w_1, w_2 \\hspace{0.5cm}unrestricted$$\n",
    "\n",
    "Then, initially considering $x_5, x_6$ as the basic variables and $x_1, x_2, x_3, x_4$ as the non basic ones, we get the following elements:\n",
    "\\begin{equation} A = [N | B] = \n",
    "\\left[\n",
    "\\begin{array}{cccc | cc}\n",
    "-1 & -2 & -3 & -1 & 1 & 0\\\\\n",
    "-2 & 1 & -1 & 3 & 0 & 1\\\\\n",
    "\\end{array}\n",
    "\\right]\n",
    "\\end{equation}\n",
    "\n",
    "\\begin{equation} b = \n",
    "\\left[\n",
    "\\begin{array}{r}\n",
    "-2\\\\\n",
    "-3\\\\\n",
    "\\end{array}\n",
    "\\right]\n",
    "\\end{equation}\n",
    "\n",
    "\n",
    "\\begin{equation} c = [c_{N} | c_{B}] =\n",
    "\\left[\n",
    "\\begin{array}{cccc | cc}\n",
    "2 & 3 & 5 & 6 & 0 & 0\\\\\n",
    "\\end{array}\n",
    "\\right]\n",
    "\\end{equation}"
   ]
  },
  {
   "cell_type": "code",
   "execution_count": 21,
   "id": "b8399474",
   "metadata": {},
   "outputs": [],
   "source": [
    "A = np.matrix([[-1, -2, -3, -1, 1, 0], [-2, 1, -1, 3, 0, 1]])\n",
    "b = np.array([-2, -3])\n",
    "c = np.array([2, 3, 5, 6, 0, 0])\n",
    "variables = [\"x1\", \"x2\", \"x3\", \"x4\", \"x5\", \"x6\"]"
   ]
  },
  {
   "cell_type": "code",
   "execution_count": 22,
   "id": "f33a1124",
   "metadata": {},
   "outputs": [],
   "source": [
    "basic_indexes = [4, 5]\n",
    "non_basic_indexes = [0, 1, 2, 3]\n",
    "slack_indexes = [4, 5]"
   ]
  },
  {
   "cell_type": "code",
   "execution_count": 23,
   "id": "4fcf43f9",
   "metadata": {},
   "outputs": [],
   "source": [
    "tableau = construct_tableau(A, b, c, basic_indexes)"
   ]
  },
  {
   "cell_type": "code",
   "execution_count": 24,
   "id": "5048da5d",
   "metadata": {},
   "outputs": [
    {
     "data": {
      "text/plain": [
       "matrix([[ 1., -2., -3., -5., -6.,  0.,  0.,  0.],\n",
       "        [ 0., -1., -2., -3., -1.,  1.,  0., -2.],\n",
       "        [ 0., -2.,  1., -1.,  3.,  0.,  1., -3.]])"
      ]
     },
     "execution_count": 24,
     "metadata": {},
     "output_type": "execute_result"
    }
   ],
   "source": [
    "tableau"
   ]
  },
  {
   "cell_type": "markdown",
   "id": "fdf11e66",
   "metadata": {},
   "source": [
    "Note that since every $z_j - c_j \\leq 0$ $\\hspace{0.2cm}\\forall j$, we can proceed to execute the simplex dual method."
   ]
  },
  {
   "cell_type": "code",
   "execution_count": 25,
   "id": "9a82d6c1",
   "metadata": {
    "scrolled": false
   },
   "outputs": [
    {
     "name": "stdout",
     "output_type": "stream",
     "text": [
      "\n",
      "\n",
      "\u001b[1mIteration  1 \u001b[0m\n",
      "[\u001b[94m x_B \u001b[0m, \u001b[91m x_N \u001b[0m] = [ \u001b[94mx5, x6\u001b[0m, \u001b[91mx1, x2, x3, x4\u001b[0m ]\n",
      "\n",
      "\n",
      "Entry tableau\n",
      "[[ 1. -2. -3. -5. -6.  0.  0.  0.]\n",
      " [ 0. -1. -2. -3. -1.  1.  0. -2.]\n",
      " [ 0. -2.  1. -1.  3.  0.  1. -3.]]\n",
      "\n",
      "r = 2 -> row no. 2 of x_B part ( x6 )\n",
      "y_r\n",
      "[-2.  1. -1.  3.  0.  1.]\n",
      "\n",
      "k = 1 -> column no. 1 of x part ( x1 )\n",
      "min_quotient\n",
      "1.0\n",
      "\n",
      "pivot = -2.0\n",
      "\n",
      "Pivoted tableau\n",
      "[[ 1.   0.  -4.  -4.  -9.   0.  -1.   3. ]\n",
      " [ 0.   0.  -2.5 -2.5 -2.5  1.  -0.5 -0.5]\n",
      " [-0.   1.  -0.5  0.5 -1.5 -0.  -0.5  1.5]]\n",
      "\n",
      "\u001b[94m x1 enters\u001b[0m and \u001b[91m x6 leaves\u001b[0m the basis\n",
      "\n",
      "\n",
      "\u001b[1mIteration  2 \u001b[0m\n",
      "[\u001b[94m x_B \u001b[0m, \u001b[91m x_N \u001b[0m] = [ \u001b[94mx5, x1\u001b[0m, \u001b[91mx6, x2, x3, x4\u001b[0m ]\n",
      "\n",
      "\n",
      "Entry tableau\n",
      "[[ 1.   0.  -4.  -4.  -9.   0.  -1.   3. ]\n",
      " [ 0.   0.  -2.5 -2.5 -2.5  1.  -0.5 -0.5]\n",
      " [-0.   1.  -0.5  0.5 -1.5 -0.  -0.5  1.5]]\n",
      "\n",
      "r = 1 -> row no. 1 of x_B part ( x5 )\n",
      "y_r\n",
      "[ 0.  -2.5 -2.5 -2.5  1.  -0.5]\n",
      "\n",
      "k = 2 -> column no. 2 of x part ( x2 )\n",
      "min_quotient\n",
      "1.6\n",
      "\n",
      "pivot = -2.5\n",
      "\n",
      "Pivoted tableau\n",
      "[[ 1.   0.   0.   0.  -5.  -1.6 -0.2  3.8]\n",
      " [-0.  -0.   1.   1.   1.  -0.4  0.2  0.2]\n",
      " [-0.   1.   0.   1.  -1.  -0.2 -0.4  1.6]]\n",
      "\n",
      "\u001b[94m x2 enters\u001b[0m and \u001b[91m x5 leaves\u001b[0m the basis\n",
      "\n",
      "\n",
      "\u001b[1mIteration  3 \u001b[0m\n",
      "[\u001b[94m x_B \u001b[0m, \u001b[91m x_N \u001b[0m] = [ \u001b[94mx2, x1\u001b[0m, \u001b[91mx6, x5, x3, x4\u001b[0m ]\n",
      "\n",
      "\n",
      "Entry tableau\n",
      "[[ 1.   0.   0.   0.  -5.  -1.6 -0.2  3.8]\n",
      " [-0.  -0.   1.   1.   1.  -0.4  0.2  0.2]\n",
      " [-0.   1.   0.   1.  -1.  -0.2 -0.4  1.6]]\n",
      "\n",
      "\n",
      "\u001b[1mOptimality reached\u001b[0m\n",
      "\n",
      "The optimal primal solution is\n",
      "\u001b[92m[ x2, x1, x6, x5, x3, x4 ] = [ 0.2, 1.6, 0.0, 0.0, 0.0, 0.0 ]\u001b[0m\n",
      "\n",
      "With performance z = 3.8\n",
      "\n",
      "And the optimal dual solution is\n",
      "\u001b[92m[ w1, w2 ] = [ 1.6, 0.2 ]\u001b[0m\n",
      "\n",
      "\n"
     ]
    },
    {
     "data": {
      "text/plain": [
       "(array([1.6, 0.2, 0. , 0. , 0. , 0. ]), array([1.6, 0.2]))"
      ]
     },
     "execution_count": 25,
     "metadata": {},
     "output_type": "execute_result"
    }
   ],
   "source": [
    "dual_simplex_tableau(copy.deepcopy(tableau), copy.deepcopy(variables), copy.deepcopy(basic_indexes), copy.deepcopy(non_basic_indexes), copy.deepcopy(slack_indexes))"
   ]
  },
  {
   "cell_type": "markdown",
   "id": "c02e8463",
   "metadata": {},
   "source": [
    "#### Exercise 6.6:\n",
    "Solve the next linear programming problem:\n",
    "\n",
    "$$max \\hspace{0.5cm} 10x_1 + 24x_2 + 20x_3 + 20x_4 + 25x_5$$\n",
    "$$under \\hspace{0.5cm} x_1 + x_2 + 2x_3 + 3x_4 + 5x_5 \\leq 19$$\n",
    "$$\\hspace{1.4cm} 2x_1 + 4x_2 + 3x_3 + 2x_4 + x_5 \\leq 57$$\n",
    "$$\\hspace{1cm}x_1, x_2, x_3, x_4, x_5 \\geq 0$$\n",
    "\n",
    "First, we introduce our slack variables $x_6, x_7$, then multiply by -1 the objective function in order to turn the maximization problem into a minimization one, and finally multiply by -1 the first and the second constraint for mere convenience. So, the problem can be rewritten as\n",
    "\n",
    "$$min \\hspace{0.5cm} - 10x_1 - 24x_2 - 20x_3 - 20x_4 - 25x_5 + 0x_6 + 0x_7$$\n",
    "$$under \\hspace{0.5cm} - x_1 - x_2 - 2x_3 - 3x_4 - 5x_5 - x_6 + 0x_7 = -19$$\n",
    "$$\\hspace{1.4cm} - 2x_1 - 4x_2 - 3x_3 - 2x_4 - x_5 + 0x_6 - x_7 = -57$$\n",
    "$$\\hspace{1cm}x_1, x_2, x_3, x_4, x_5, x_6, x_7 \\geq 0$$\n",
    "\n",
    "And on the other hand, the associated dual problem is defined as\n",
    "\n",
    "$$max \\hspace{0.5cm} - 19w_1 - 57w_2$$\n",
    "$$under \\hspace{0.5cm} - w_1 - 2w_2 \\leq -10$$\n",
    "$$\\hspace{1.4cm} - w_1 - 4w_2 \\leq -24$$\n",
    "$$\\hspace{1.4cm} - 2w_1 - 3w_2 \\leq -20$$\n",
    "$$\\hspace{1.4cm} - 3w_1 - 2w_2 \\leq -20$$\n",
    "$$\\hspace{1.4cm} - 5w_1 - 1w_2 \\leq -25$$\n",
    "$$\\hspace{1.4cm} - w_1 + 0w_2 \\leq 0$$\n",
    "$$\\hspace{1.4cm} 0w_1 - w_2 \\leq 0$$\n",
    "$$\\hspace{1cm}w_1, w_2 \\hspace{0.5cm}unrestricted$$\n",
    "\n",
    "Then, to choose the basic variables by considering that a feasible solution for the dual problem is $w = [w_1, w_2] = [4, 5]$, we have to find such variables that comply $w = c_{B}B^{-1}$, i.e. $wB = c_{B}$.\n",
    "\n",
    "Breaking down the above, we have that our matrix A is defined as\n",
    "\n",
    "\\begin{equation} A =\n",
    "\\left[\n",
    "\\begin{array}{ccccccc}\n",
    "-1 & -1 & -2 & -3 & -5 & -1 & 0\\\\\n",
    "-2 & -4 & -3 & -2 & -1 & 0 & -1\\\\\n",
    "\\end{array}\n",
    "\\right]\n",
    "\\end{equation}\n",
    "\n",
    "So, to find basis B we retake the condition $wB = c_{B}$, which for this case looks like:\n",
    "\n",
    "\\begin{equation} wB =\n",
    "[4,5]\n",
    "\\left[\n",
    "\\begin{array}{cc}\n",
    "a_{1,j_1} & a_{1,j_2}\\\\\n",
    "a_{2,j_1} & a_{2,j_2}\\\\\n",
    "\\end{array}\n",
    "\\right] = \n",
    "\\left[\n",
    "\\begin{array}{cc}\n",
    "c_{j_1} & c_{j_2}\\\\\n",
    "\\end{array}\n",
    "\\right]\n",
    "\\end{equation}\n",
    "\n",
    "where $j_1, j_2$ are indexes of the variables that comply the equation.\n",
    "\n",
    "After trying with different values we get that $j_1 = 2$ and $j_2 = 5$. Thus we are going to consider $x_2, x_5$ as the basic variables and $x_1, x_3, x_4, x_6, x_7$ as the non basic ones. So, we get the following elements:\n",
    "\n",
    "\\begin{equation} A = [N | B] = \n",
    "\\left[\n",
    "\\begin{array}{ccccc | cc}\n",
    "-1 & -2 & -3 & -1 & 0 & -1 & -5\\\\\n",
    "-2 & -3 & -2 & 0 & -1 & -4 & -1\\\\\n",
    "\\end{array}\n",
    "\\right]\n",
    "\\end{equation}\n",
    "\n",
    "\\begin{equation} b = \n",
    "\\left[\n",
    "\\begin{array}{r}\n",
    "-19\\\\\n",
    "-57\\\\\n",
    "\\end{array}\n",
    "\\right]\n",
    "\\end{equation}\n",
    "\n",
    "\n",
    "\\begin{equation} c = [c_{N} | c_{B}] =\n",
    "\\left[\n",
    "\\begin{array}{ccccc | cc}\n",
    "-10 & -20 & -20 & 0 & 0 & -24 & -25\\\\\n",
    "\\end{array}\n",
    "\\right]\n",
    "\\end{equation}"
   ]
  },
  {
   "cell_type": "code",
   "execution_count": 26,
   "id": "a0f692d0",
   "metadata": {},
   "outputs": [],
   "source": [
    "A = np.matrix([[-1, -1, -2, -3, -5, -1, 0], [-2, -4, -3, -2, -1, 0, -1]])\n",
    "b = np.array([-19, -57])\n",
    "c = np.array([-10, -24, -20, -20, -25, 0, 0])\n",
    "variables = [\"x1\", \"x2\", \"x3\", \"x4\", \"x5\", \"x6\", \"x7\"]"
   ]
  },
  {
   "cell_type": "code",
   "execution_count": 27,
   "id": "eef95441",
   "metadata": {},
   "outputs": [],
   "source": [
    "basic_indexes = [1, 4]\n",
    "non_basic_indexes = [0, 2, 3, 5, 6]\n",
    "slack_indexes = [5, 6]"
   ]
  },
  {
   "cell_type": "code",
   "execution_count": 28,
   "id": "4f4f4ef6",
   "metadata": {},
   "outputs": [],
   "source": [
    "tableau = construct_tableau(A, b, c, basic_indexes)"
   ]
  },
  {
   "cell_type": "code",
   "execution_count": 29,
   "id": "a3c87099",
   "metadata": {
    "scrolled": true
   },
   "outputs": [
    {
     "data": {
      "text/plain": [
       "matrix([[   1.    ,   -4.    ,    0.    ,   -3.    ,   -2.    ,\n",
       "            0.    ,   -4.    ,   -5.    , -361.    ],\n",
       "        [   0.    ,    0.4737,    1.    ,    0.6842,    0.3684,\n",
       "            0.    ,   -0.0526,    0.2632,   14.    ],\n",
       "        [   0.    ,    0.1053,    0.    ,    0.2632,    0.5263,\n",
       "            1.    ,    0.2105,   -0.0526,    1.    ]])"
      ]
     },
     "execution_count": 29,
     "metadata": {},
     "output_type": "execute_result"
    }
   ],
   "source": [
    "tableau"
   ]
  },
  {
   "cell_type": "markdown",
   "id": "b90dfdf6",
   "metadata": {},
   "source": [
    "Note that since every $z_j - c_j \\leq 0$ $\\hspace{0.2cm}\\forall j$, we can proceed to execute the simplex dual method."
   ]
  },
  {
   "cell_type": "code",
   "execution_count": 30,
   "id": "5b6fa9ef",
   "metadata": {
    "scrolled": false
   },
   "outputs": [
    {
     "name": "stdout",
     "output_type": "stream",
     "text": [
      "\n",
      "\n",
      "\u001b[1mIteration  1 \u001b[0m\n",
      "[\u001b[94m x_B \u001b[0m, \u001b[91m x_N \u001b[0m] = [ \u001b[94mx2, x5\u001b[0m, \u001b[91mx1, x3, x4, x6, x7\u001b[0m ]\n",
      "\n",
      "\n",
      "Entry tableau\n",
      "[[   1.       -4.        0.       -3.       -2.        0.       -4.\n",
      "    -5.     -361.    ]\n",
      " [   0.        0.4737    1.        0.6842    0.3684    0.       -0.0526\n",
      "     0.2632   14.    ]\n",
      " [   0.        0.1053    0.        0.2632    0.5263    1.        0.2105\n",
      "    -0.0526    1.    ]]\n",
      "\n",
      "\n",
      "\u001b[1mOptimality reached\u001b[0m\n",
      "\n",
      "The optimal primal solution is\n",
      "\u001b[92m[ x2, x5, x1, x3, x4, x6, x7 ] = [ 14.0, 1.0, 0.0, 0.0, 0.0, 0.0, 0.0 ]\u001b[0m\n",
      "\n",
      "With performance z = -361.0\n",
      "\n",
      "And the optimal dual solution is\n",
      "\u001b[92m[ w1, w2 ] = [ 4.0, 5.0 ]\u001b[0m\n",
      "\n",
      "\n"
     ]
    },
    {
     "data": {
      "text/plain": [
       "(array([ 0., 14.,  0.,  0.,  1.,  0.,  0.]), array([4., 5.]))"
      ]
     },
     "execution_count": 30,
     "metadata": {},
     "output_type": "execute_result"
    }
   ],
   "source": [
    "dual_simplex_tableau(copy.deepcopy(tableau), copy.deepcopy(variables), copy.deepcopy(basic_indexes), copy.deepcopy(non_basic_indexes), copy.deepcopy(slack_indexes))"
   ]
  },
  {
   "cell_type": "markdown",
   "id": "00f49f3c",
   "metadata": {},
   "source": [
    "#### Exercise 6.14:\n",
    "Solve the next linear programming problem:\n",
    "\n",
    "$$max \\hspace{0.5cm} 20x_1 + 12x_2$$\n",
    "$$under \\hspace{0.5cm} 1.5x_1 + 0.5x_2 \\leq 100$$\n",
    "$$\\hspace{1.4cm} x_1 + 0.5x_2 \\leq 80$$\n",
    "$$\\hspace{1cm}x_1, x_2 \\geq 0$$\n",
    "\n",
    "First, we introduce our slack variables $x_3, x_4$ and then multiply by -1 the objective function in order to turn the maximization problem into a minimization one, and finally multiply by -1 the first and the second constraint for mere convenience. So, the problem can be rewritten as\n",
    "\n",
    "$$min \\hspace{0.5cm} -20x_1 - 12x_2 + 0x_3 + 0x_4$$\n",
    "$$under \\hspace{0.5cm} - 1.5x_1 - 0.5x_2 - x_3 + 0x_4 = -100$$\n",
    "$$\\hspace{1.4cm} - x_1 - 0.5x_2 + 0x_3 - x_4 = -80$$\n",
    "$$\\hspace{1cm}x_1, x_2, x_3, x_4 \\geq 0$$\n",
    "\n",
    "And on the other hand, the associated dual problem is defined as\n",
    "\n",
    "$$max \\hspace{0.5cm} - 100w_1 - 80w_2$$\n",
    "$$under \\hspace{0.5cm} - 1.5w_1 - w_2 \\leq -20$$\n",
    "$$\\hspace{1.4cm} - 0.5w_1 - 0.5w_2 \\leq -12$$\n",
    "$$\\hspace{1.4cm} - w_1 + 0w_2 \\leq 0$$\n",
    "$$\\hspace{1.4cm} 0w_1 - w_2 \\leq 0$$\n",
    "$$\\hspace{1cm}w_1, w_2 \\hspace{0.5cm}unrestricted$$\n",
    "\n",
    "Then, initially considering $x_3, x_4$ as the basic variables and $x_1, x_2$ as the non basic ones, we get the following elements:\n",
    "\n",
    "\\begin{equation} A = [N | B] = \n",
    "\\left[\n",
    "\\begin{array}{cc | cc}\n",
    "-1.5 & -0.5 & -1 & 0\\\\\n",
    "-1 & -0.5 & 0 & -1\\\\\n",
    "\\end{array}\n",
    "\\right]\n",
    "\\end{equation}\n",
    "\n",
    "\\begin{equation} b = \n",
    "\\left[\n",
    "\\begin{array}{r}\n",
    "-100\\\\\n",
    "-80\\\\\n",
    "\\end{array}\n",
    "\\right]\n",
    "\\end{equation}\n",
    "\n",
    "\n",
    "\\begin{equation} c = [c_{N} | c_{B}] =\n",
    "\\left[\n",
    "\\begin{array}{cc | cc}\n",
    "-20 & -12 & 0 & 0\\\\\n",
    "\\end{array}\n",
    "\\right]\n",
    "\\end{equation}"
   ]
  },
  {
   "cell_type": "code",
   "execution_count": 31,
   "id": "14a1461a",
   "metadata": {},
   "outputs": [],
   "source": [
    "A = np.matrix([[-1.5, -0.5, -1, 0], [-1, -0.5, 0, -1]])\n",
    "b = np.array([-100, -80])\n",
    "c = np.array([-20, -12, 0, 0])\n",
    "variables = [\"x1\", \"x2\", \"x3\", \"x4\"]"
   ]
  },
  {
   "cell_type": "code",
   "execution_count": 32,
   "id": "72230835",
   "metadata": {},
   "outputs": [],
   "source": [
    "basic_indexes = [2, 3]\n",
    "non_basic_indexes = [0, 1]\n",
    "slack_indexes = [2, 3]"
   ]
  },
  {
   "cell_type": "code",
   "execution_count": 33,
   "id": "cabe7299",
   "metadata": {},
   "outputs": [],
   "source": [
    "tableau = construct_tableau(A, b, c, basic_indexes)"
   ]
  },
  {
   "cell_type": "code",
   "execution_count": 34,
   "id": "31641a32",
   "metadata": {
    "scrolled": false
   },
   "outputs": [
    {
     "data": {
      "text/plain": [
       "matrix([[  1. ,  20. ,  12. ,   0. ,   0. ,   0. ],\n",
       "        [  0. ,   1.5,   0.5,   1. ,   0. , 100. ],\n",
       "        [  0. ,   1. ,   0.5,   0. ,   1. ,  80. ]])"
      ]
     },
     "execution_count": 34,
     "metadata": {},
     "output_type": "execute_result"
    }
   ],
   "source": [
    "tableau"
   ]
  },
  {
   "cell_type": "markdown",
   "id": "a262bec5",
   "metadata": {},
   "source": [
    "Note that since $z_j - c_j \\leq 0$ condition isn't fulfilled $\\forall j$, we cannot proceed to execute the simplex dual method yet, so we should look for another basis that comply the previous condition."
   ]
  },
  {
   "cell_type": "code",
   "execution_count": 35,
   "id": "a3f7dd53",
   "metadata": {},
   "outputs": [
    {
     "data": {
      "text/plain": [
       "[['x2', 'x3'], ['x2', 'x4']]"
      ]
     },
     "execution_count": 35,
     "metadata": {},
     "output_type": "execute_result"
    }
   ],
   "source": [
    "possible_basic_indexes = basic_indexes_dual_feasible_solution(A, b, c, [i for i in range(len(variables))], np.shape(A)[0])\n",
    "possible_basic_variables = basic_variables_dual_feasible_solution(possible_basic_indexes, variables)\n",
    "possible_basic_variables"
   ]
  },
  {
   "cell_type": "markdown",
   "id": "a058b447",
   "metadata": {},
   "source": [
    "Trying with $x_2, x_4$ as the basic variables we get the following changes:\n",
    "    \n",
    "\\begin{equation} A = [N | B] = \n",
    "\\left[\n",
    "\\begin{array}{cc | cc}\n",
    "-1.5 & -1 & -0.5 & 0\\\\\n",
    "-1 & 0 & -0.5 & -1\\\\\n",
    "\\end{array}\n",
    "\\right]\n",
    "\\end{equation}\n",
    "\n",
    "\\begin{equation} b = \n",
    "\\left[\n",
    "\\begin{array}{r}\n",
    "-100\\\\\n",
    "-80\\\\\n",
    "\\end{array}\n",
    "\\right]\n",
    "\\end{equation}\n",
    "\n",
    "\n",
    "\\begin{equation} c = [c_{N} | c_{B}] =\n",
    "\\left[\n",
    "\\begin{array}{cc | cc}\n",
    "-20 & 0 & -12 & 0\\\\\n",
    "\\end{array}\n",
    "\\right]\n",
    "\\end{equation}"
   ]
  },
  {
   "cell_type": "code",
   "execution_count": 36,
   "id": "4a61d4c4",
   "metadata": {},
   "outputs": [],
   "source": [
    "basic_indexes = [1, 3]\n",
    "non_basic_indexes = [0, 2]\n",
    "slack_indexes = [2, 3]"
   ]
  },
  {
   "cell_type": "code",
   "execution_count": 37,
   "id": "3ac164fa",
   "metadata": {},
   "outputs": [],
   "source": [
    "tableau = construct_tableau(A, b, c, basic_indexes)"
   ]
  },
  {
   "cell_type": "code",
   "execution_count": 38,
   "id": "6d21b3a4",
   "metadata": {
    "scrolled": true
   },
   "outputs": [
    {
     "data": {
      "text/plain": [
       "matrix([[    1. ,   -16. ,     0. ,   -24. ,     0. , -2400. ],\n",
       "        [    0. ,     3. ,     1. ,     2. ,     0. ,   200. ],\n",
       "        [    0. ,    -0.5,     0. ,    -1. ,     1. ,   -20. ]])"
      ]
     },
     "execution_count": 38,
     "metadata": {},
     "output_type": "execute_result"
    }
   ],
   "source": [
    "tableau"
   ]
  },
  {
   "cell_type": "markdown",
   "id": "64cc4eef",
   "metadata": {},
   "source": [
    "As it can be seen, changing the basis the condition complies, so now we can proceed to execute the dual simplex method."
   ]
  },
  {
   "cell_type": "code",
   "execution_count": 39,
   "id": "1d240188",
   "metadata": {
    "scrolled": false
   },
   "outputs": [
    {
     "name": "stdout",
     "output_type": "stream",
     "text": [
      "\n",
      "\n",
      "\u001b[1mIteration  1 \u001b[0m\n",
      "[\u001b[94m x_B \u001b[0m, \u001b[91m x_N \u001b[0m] = [ \u001b[94mx2, x4\u001b[0m, \u001b[91mx1, x3\u001b[0m ]\n",
      "\n",
      "\n",
      "Entry tableau\n",
      "[[    1.    -16.      0.    -24.      0.  -2400. ]\n",
      " [    0.      3.      1.      2.      0.    200. ]\n",
      " [    0.     -0.5     0.     -1.      1.    -20. ]]\n",
      "\n",
      "r = 2 -> row no. 2 of x_B part ( x4 )\n",
      "y_r\n",
      "[-0.5  0.  -1.   1. ]\n",
      "\n",
      "k = 3 -> column no. 3 of x part ( x3 )\n",
      "min_quotient\n",
      "24.0\n",
      "\n",
      "pivot = -1.0\n",
      "\n",
      "Pivoted tableau\n",
      "[[    1.     -4.      0.      0.    -24.  -1920. ]\n",
      " [    0.      2.      1.      0.      2.    160. ]\n",
      " [   -0.      0.5    -0.      1.     -1.     20. ]]\n",
      "\n",
      "\u001b[94m x3 enters\u001b[0m and \u001b[91m x4 leaves\u001b[0m the basis\n",
      "\n",
      "\n",
      "\u001b[1mIteration  2 \u001b[0m\n",
      "[\u001b[94m x_B \u001b[0m, \u001b[91m x_N \u001b[0m] = [ \u001b[94mx2, x3\u001b[0m, \u001b[91mx1, x4\u001b[0m ]\n",
      "\n",
      "\n",
      "Entry tableau\n",
      "[[    1.     -4.      0.      0.    -24.  -1920. ]\n",
      " [    0.      2.      1.      0.      2.    160. ]\n",
      " [   -0.      0.5    -0.      1.     -1.     20. ]]\n",
      "\n",
      "\n",
      "\u001b[1mOptimality reached\u001b[0m\n",
      "\n",
      "The optimal primal solution is\n",
      "\u001b[92m[ x2, x3, x1, x4 ] = [ 160.0, 20.0, 0.0, 0.0 ]\u001b[0m\n",
      "\n",
      "With performance z = -1920.0\n",
      "\n",
      "And the optimal dual solution is\n",
      "\u001b[92m[ w1, w2 ] = [ 0.0, 24.0 ]\u001b[0m\n",
      "\n",
      "\n"
     ]
    },
    {
     "data": {
      "text/plain": [
       "(array([  0., 160.,  20.,   0.]), array([ 0., 24.]))"
      ]
     },
     "execution_count": 39,
     "metadata": {},
     "output_type": "execute_result"
    }
   ],
   "source": [
    "dual_simplex_tableau(copy.deepcopy(tableau), copy.deepcopy(variables), copy.deepcopy(basic_indexes), copy.deepcopy(non_basic_indexes), copy.deepcopy(slack_indexes))"
   ]
  },
  {
   "cell_type": "markdown",
   "id": "56acb392",
   "metadata": {},
   "source": [
    "#### Exercise 6.27:\n",
    "Solve the next linear programming problem:\n",
    "\n",
    "$$max \\hspace{0.5cm} - 4x_1 - 6 x_2 - 18x_3$$\n",
    "$$under \\hspace{0.5cm} x_1 + 0x_2 + 3x_3 \\geq 3$$\n",
    "$$\\hspace{1.4cm} 0x_1 + x_2 + 2x_3 \\geq 5$$\n",
    "$$\\hspace{1cm}x_1, x_2, x_3 \\geq 0$$\n",
    "\n",
    "First, we introduce our slack variables $x_4, x_5$ and then multiply by -1 the objective function in order to turn the maximization problem into a minimization one, and finally multiply by -1 the first and the second constraint for mere convenience. So, the problem can be rewritten as\n",
    "\n",
    "$$min \\hspace{0.5cm} 4x_1 + 6 x_2 + 18x_3 + 0x_4 + 0x_5$$\n",
    "$$under \\hspace{0.5cm} - x_1 + 0x_2 - 3x_3 + x_4 + 0x_5 = -3$$\n",
    "$$\\hspace{1.4cm} 0x_1 - x_2 - 2x_3 + 0x_4 + x_5 = -5$$\n",
    "$$\\hspace{1cm}x_1, x_2, x_3, x_4, x_5 \\geq 0$$\n",
    "\n",
    "And on the other hand, the associated dual problem is defined as\n",
    "\n",
    "$$max \\hspace{0.5cm} - 3w_1 - 5w_2$$\n",
    "$$under \\hspace{0.5cm} - w_1 + 0w_2 \\leq 4$$\n",
    "$$\\hspace{1.4cm} 0w_1 - w_2 \\leq 6$$\n",
    "$$\\hspace{1.4cm} - 3w_1 - 2w_2 \\leq 18$$\n",
    "$$\\hspace{1.4cm} w_1 + 0w_2 \\leq 0$$\n",
    "$$\\hspace{1.4cm} 0w_1 + w_2 \\leq 0$$\n",
    "$$\\hspace{1cm}w_1, w_2 \\hspace{0.5cm}unrestricted$$\n",
    "\n",
    "Then, initially considering $x_4, x_5$ as the basic variables and $x_1, x_2, x_3$ as the non basic ones, we get the following elements:\n",
    "\n",
    "\\begin{equation} A = [N | B] = \n",
    "\\left[\n",
    "\\begin{array}{ccc | cc}\n",
    "-1 & 0 & -3 & 1 & 0\\\\\n",
    "0 & -1 & -2 & 0 & 1\\\\\n",
    "\\end{array}\n",
    "\\right]\n",
    "\\end{equation}\n",
    "\n",
    "\\begin{equation} b = \n",
    "\\left[\n",
    "\\begin{array}{r}\n",
    "-3\\\\\n",
    "-5\\\\\n",
    "\\end{array}\n",
    "\\right]\n",
    "\\end{equation}\n",
    "\n",
    "\n",
    "\\begin{equation} c = [c_{N} | c_{B}] =\n",
    "\\left[\n",
    "\\begin{array}{ccc | cc}\n",
    "4 & 6 & 18 & 0 & 0\\\\\n",
    "\\end{array}\n",
    "\\right]\n",
    "\\end{equation}"
   ]
  },
  {
   "cell_type": "code",
   "execution_count": 40,
   "id": "454a6e5e",
   "metadata": {},
   "outputs": [],
   "source": [
    "A = np.matrix([[-1, 0, -3, 1, 0], [0, -1, -2, 0, 1]])\n",
    "b = np.array([-3, -5])\n",
    "c = np.array([4, 6, 18, 0, 0])\n",
    "variables = [\"x1\", \"x2\", \"x3\", \"x4\", \"x5\"]"
   ]
  },
  {
   "cell_type": "code",
   "execution_count": 41,
   "id": "f0c0d5b3",
   "metadata": {},
   "outputs": [],
   "source": [
    "basic_indexes = [3, 4]\n",
    "non_basic_indexes = [0, 1, 2]\n",
    "slack_indexes = [3, 4]"
   ]
  },
  {
   "cell_type": "code",
   "execution_count": 42,
   "id": "a5f5c65c",
   "metadata": {},
   "outputs": [],
   "source": [
    "tableau = construct_tableau(A, b, c, basic_indexes)"
   ]
  },
  {
   "cell_type": "code",
   "execution_count": 43,
   "id": "333a8844",
   "metadata": {
    "scrolled": true
   },
   "outputs": [
    {
     "data": {
      "text/plain": [
       "matrix([[  1.,  -4.,  -6., -18.,   0.,   0.,   0.],\n",
       "        [  0.,  -1.,   0.,  -3.,   1.,   0.,  -3.],\n",
       "        [  0.,   0.,  -1.,  -2.,   0.,   1.,  -5.]])"
      ]
     },
     "execution_count": 43,
     "metadata": {},
     "output_type": "execute_result"
    }
   ],
   "source": [
    "tableau"
   ]
  },
  {
   "cell_type": "markdown",
   "id": "e0822a15",
   "metadata": {},
   "source": [
    "Note that since every $z_j - c_j \\leq 0$ $\\hspace{0.2cm}\\forall j$, we can proceed to execute the simplex dual method."
   ]
  },
  {
   "cell_type": "code",
   "execution_count": 44,
   "id": "4be6ed85",
   "metadata": {
    "scrolled": false
   },
   "outputs": [
    {
     "name": "stdout",
     "output_type": "stream",
     "text": [
      "\n",
      "\n",
      "\u001b[1mIteration  1 \u001b[0m\n",
      "[\u001b[94m x_B \u001b[0m, \u001b[91m x_N \u001b[0m] = [ \u001b[94mx4, x5\u001b[0m, \u001b[91mx1, x2, x3\u001b[0m ]\n",
      "\n",
      "\n",
      "Entry tableau\n",
      "[[  1.  -4.  -6. -18.   0.   0.   0.]\n",
      " [  0.  -1.   0.  -3.   1.   0.  -3.]\n",
      " [  0.   0.  -1.  -2.   0.   1.  -5.]]\n",
      "\n",
      "r = 2 -> row no. 2 of x_B part ( x5 )\n",
      "y_r\n",
      "[ 0. -1. -2.  0.  1.]\n",
      "\n",
      "k = 2 -> column no. 2 of x part ( x2 )\n",
      "min_quotient\n",
      "6.0\n",
      "\n",
      "pivot = -1.0\n",
      "\n",
      "Pivoted tableau\n",
      "[[ 1. -4.  0. -6.  0. -6. 30.]\n",
      " [ 0. -1.  0. -3.  1.  0. -3.]\n",
      " [-0. -0.  1.  2. -0. -1.  5.]]\n",
      "\n",
      "\u001b[94m x2 enters\u001b[0m and \u001b[91m x5 leaves\u001b[0m the basis\n",
      "\n",
      "\n",
      "\u001b[1mIteration  2 \u001b[0m\n",
      "[\u001b[94m x_B \u001b[0m, \u001b[91m x_N \u001b[0m] = [ \u001b[94mx4, x2\u001b[0m, \u001b[91mx1, x5, x3\u001b[0m ]\n",
      "\n",
      "\n",
      "Entry tableau\n",
      "[[ 1. -4.  0. -6.  0. -6. 30.]\n",
      " [ 0. -1.  0. -3.  1.  0. -3.]\n",
      " [-0. -0.  1.  2. -0. -1.  5.]]\n",
      "\n",
      "r = 1 -> row no. 1 of x_B part ( x4 )\n",
      "y_r\n",
      "[-1.  0. -3.  1.  0.]\n",
      "\n",
      "k = 3 -> column no. 3 of x part ( x3 )\n",
      "min_quotient\n",
      "2.0\n",
      "\n",
      "pivot = -3.0\n",
      "\n",
      "Pivoted tableau\n",
      "[[ 1.     -2.      0.      0.     -2.     -6.     36.    ]\n",
      " [-0.      0.3333 -0.      1.     -0.3333 -0.      1.    ]\n",
      " [ 0.     -0.6667  1.      0.      0.6667 -1.      3.    ]]\n",
      "\n",
      "\u001b[94m x3 enters\u001b[0m and \u001b[91m x4 leaves\u001b[0m the basis\n",
      "\n",
      "\n",
      "\u001b[1mIteration  3 \u001b[0m\n",
      "[\u001b[94m x_B \u001b[0m, \u001b[91m x_N \u001b[0m] = [ \u001b[94mx3, x2\u001b[0m, \u001b[91mx1, x5, x4\u001b[0m ]\n",
      "\n",
      "\n",
      "Entry tableau\n",
      "[[ 1.     -2.      0.      0.     -2.     -6.     36.    ]\n",
      " [-0.      0.3333 -0.      1.     -0.3333 -0.      1.    ]\n",
      " [ 0.     -0.6667  1.      0.      0.6667 -1.      3.    ]]\n",
      "\n",
      "\n",
      "\u001b[1mOptimality reached\u001b[0m\n",
      "\n",
      "The optimal primal solution is\n",
      "\u001b[92m[ x3, x2, x1, x5, x4 ] = [ 1.0, 3.0, 0.0, 0.0, 0.0 ]\u001b[0m\n",
      "\n",
      "With performance z = 36.0\n",
      "\n",
      "And the optimal dual solution is\n",
      "\u001b[92m[ w1, w2 ] = [ 2.0, 6.0 ]\u001b[0m\n",
      "\n",
      "\n"
     ]
    },
    {
     "data": {
      "text/plain": [
       "(array([0., 3., 1., 0., 0.]), array([2., 6.]))"
      ]
     },
     "execution_count": 44,
     "metadata": {},
     "output_type": "execute_result"
    }
   ],
   "source": [
    "dual_simplex_tableau(copy.deepcopy(tableau), copy.deepcopy(variables), copy.deepcopy(basic_indexes), copy.deepcopy(non_basic_indexes), copy.deepcopy(slack_indexes))"
   ]
  },
  {
   "cell_type": "markdown",
   "id": "986dcb18",
   "metadata": {},
   "source": [
    "#### Exercise 6.29:\n",
    "Solve the next linear programming problem:\n",
    "\n",
    "$$min \\hspace{0.5cm} 2x_1 + 3x_2 + 5x_3 + 6x_4 $$\n",
    "$$under \\hspace{0.5cm} x_1 + 2x_2 + 3x_3 + x_4 \\geq 2$$\n",
    "$$\\hspace{1.4cm} - 2x_1 + x_2 - x_3 + 3x_4 \\leq -3$$\n",
    "$$\\hspace{1cm}x_1, x_2, x_3, x_4 \\geq 0$$\n",
    "\n",
    "First, we introduce our slack variables $x_5, x_6$ and multiply by -1 the first constraint for mere convenience. So, the problem can be rewritten as\n",
    "\n",
    "$$min \\hspace{0.5cm} 2x_1 + 3x_2 + 5x_3 + 6x_4 + 0x_5 + 0x_6$$\n",
    "$$under \\hspace{0.5cm} - x_1  - 2x_2 - 3x_3 - x_4 + x_5 + 0x_6 = -2$$\n",
    "$$\\hspace{1.4cm} - 2x_1 + x_2 - x_3 + 3x_4 + 0x_5 + x_6 = -3$$\n",
    "$$\\hspace{1cm}x_1, x_2, x_3, x_4, x_5, x_6 \\geq 0$$\n",
    "\n",
    "And on the other hand, the associated dual problem is defined as\n",
    "\n",
    "$$max \\hspace{0.5cm} - 2w_1 - 3w_2$$\n",
    "$$under \\hspace{0.5cm} - w_1 - 2w_2 \\leq 2$$\n",
    "$$\\hspace{1.4cm} - 2w_1 + w_2 \\leq 3$$\n",
    "$$\\hspace{1.4cm} - 3w_1 - w_2 \\leq 5$$\n",
    "$$\\hspace{1.4cm} - 4w_1 + 3w_2 \\leq 6$$\n",
    "$$\\hspace{1.4cm} w_1 + 0w_2 \\leq 0$$\n",
    "$$\\hspace{1.4cm} 0w_1 + w_2 \\leq 0$$\n",
    "$$\\hspace{1cm}w_1, w_2 \\hspace{0.5cm}unrestricted$$\n",
    "\n",
    "Then, initially considering $x_5, x_6$ as the basic variables and $x_1, x_2, x_3, x_4$ as the non basic ones, we get the following elements:\n",
    "\n",
    "\\begin{equation} A = [N | B] = \n",
    "\\left[\n",
    "\\begin{array}{cccc | cc}\n",
    "-1 & -2 & -3 & -1 & 1 & 0\\\\\n",
    "-2 & 1 & -1 & 3 & 0 & 1\\\\\n",
    "\\end{array}\n",
    "\\right]\n",
    "\\end{equation}\n",
    "\n",
    "\\begin{equation} b = \n",
    "\\left[\n",
    "\\begin{array}{r}\n",
    "-2\\\\\n",
    "-3\\\\\n",
    "\\end{array}\n",
    "\\right]\n",
    "\\end{equation}\n",
    "\n",
    "\n",
    "\\begin{equation} c = [c_{N} | c_{B}] =\n",
    "\\left[\n",
    "\\begin{array}{cccc | cc}\n",
    "2 & 3 & 5 & 6 & 0 & 0\\\\\n",
    "\\end{array}\n",
    "\\right]\n",
    "\\end{equation}"
   ]
  },
  {
   "cell_type": "code",
   "execution_count": 45,
   "id": "f98c9720",
   "metadata": {},
   "outputs": [],
   "source": [
    "A = np.matrix([[-1, -2, -3, -1, 1, 0], [-2, 1, -1, 3, 0, 1]])\n",
    "b = np.array([-2, -3])\n",
    "c = np.array([2, 3, 5, 6, 0, 0])\n",
    "variables = [\"x1\", \"x2\", \"x3\", \"x4\", \"x5\", \"x6\"]"
   ]
  },
  {
   "cell_type": "code",
   "execution_count": 46,
   "id": "6a4c5776",
   "metadata": {},
   "outputs": [],
   "source": [
    "basic_indexes = [4, 5]\n",
    "non_basic_indexes = [0, 1, 2, 3]\n",
    "slack_indexes = [4, 5]"
   ]
  },
  {
   "cell_type": "code",
   "execution_count": 47,
   "id": "b71da9db",
   "metadata": {},
   "outputs": [],
   "source": [
    "tableau = construct_tableau(A, b, c, basic_indexes)"
   ]
  },
  {
   "cell_type": "code",
   "execution_count": 48,
   "id": "eb25be96",
   "metadata": {
    "scrolled": true
   },
   "outputs": [
    {
     "data": {
      "text/plain": [
       "matrix([[ 1., -2., -3., -5., -6.,  0.,  0.,  0.],\n",
       "        [ 0., -1., -2., -3., -1.,  1.,  0., -2.],\n",
       "        [ 0., -2.,  1., -1.,  3.,  0.,  1., -3.]])"
      ]
     },
     "execution_count": 48,
     "metadata": {},
     "output_type": "execute_result"
    }
   ],
   "source": [
    "tableau"
   ]
  },
  {
   "cell_type": "markdown",
   "id": "7403b721",
   "metadata": {},
   "source": [
    "Note that since every $z_j - c_j \\leq 0$ $\\hspace{0.2cm}\\forall j$, we can proceed to execute the simplex dual method."
   ]
  },
  {
   "cell_type": "code",
   "execution_count": 49,
   "id": "54ac8ae6",
   "metadata": {
    "scrolled": false
   },
   "outputs": [
    {
     "name": "stdout",
     "output_type": "stream",
     "text": [
      "\n",
      "\n",
      "\u001b[1mIteration  1 \u001b[0m\n",
      "[\u001b[94m x_B \u001b[0m, \u001b[91m x_N \u001b[0m] = [ \u001b[94mx5, x6\u001b[0m, \u001b[91mx1, x2, x3, x4\u001b[0m ]\n",
      "\n",
      "\n",
      "Entry tableau\n",
      "[[ 1. -2. -3. -5. -6.  0.  0.  0.]\n",
      " [ 0. -1. -2. -3. -1.  1.  0. -2.]\n",
      " [ 0. -2.  1. -1.  3.  0.  1. -3.]]\n",
      "\n",
      "r = 2 -> row no. 2 of x_B part ( x6 )\n",
      "y_r\n",
      "[-2.  1. -1.  3.  0.  1.]\n",
      "\n",
      "k = 1 -> column no. 1 of x part ( x1 )\n",
      "min_quotient\n",
      "1.0\n",
      "\n",
      "pivot = -2.0\n",
      "\n",
      "Pivoted tableau\n",
      "[[ 1.   0.  -4.  -4.  -9.   0.  -1.   3. ]\n",
      " [ 0.   0.  -2.5 -2.5 -2.5  1.  -0.5 -0.5]\n",
      " [-0.   1.  -0.5  0.5 -1.5 -0.  -0.5  1.5]]\n",
      "\n",
      "\u001b[94m x1 enters\u001b[0m and \u001b[91m x6 leaves\u001b[0m the basis\n",
      "\n",
      "\n",
      "\u001b[1mIteration  2 \u001b[0m\n",
      "[\u001b[94m x_B \u001b[0m, \u001b[91m x_N \u001b[0m] = [ \u001b[94mx5, x1\u001b[0m, \u001b[91mx6, x2, x3, x4\u001b[0m ]\n",
      "\n",
      "\n",
      "Entry tableau\n",
      "[[ 1.   0.  -4.  -4.  -9.   0.  -1.   3. ]\n",
      " [ 0.   0.  -2.5 -2.5 -2.5  1.  -0.5 -0.5]\n",
      " [-0.   1.  -0.5  0.5 -1.5 -0.  -0.5  1.5]]\n",
      "\n",
      "r = 1 -> row no. 1 of x_B part ( x5 )\n",
      "y_r\n",
      "[ 0.  -2.5 -2.5 -2.5  1.  -0.5]\n",
      "\n",
      "k = 2 -> column no. 2 of x part ( x2 )\n",
      "min_quotient\n",
      "1.6\n",
      "\n",
      "pivot = -2.5\n",
      "\n",
      "Pivoted tableau\n",
      "[[ 1.   0.   0.   0.  -5.  -1.6 -0.2  3.8]\n",
      " [-0.  -0.   1.   1.   1.  -0.4  0.2  0.2]\n",
      " [-0.   1.   0.   1.  -1.  -0.2 -0.4  1.6]]\n",
      "\n",
      "\u001b[94m x2 enters\u001b[0m and \u001b[91m x5 leaves\u001b[0m the basis\n",
      "\n",
      "\n",
      "\u001b[1mIteration  3 \u001b[0m\n",
      "[\u001b[94m x_B \u001b[0m, \u001b[91m x_N \u001b[0m] = [ \u001b[94mx2, x1\u001b[0m, \u001b[91mx6, x5, x3, x4\u001b[0m ]\n",
      "\n",
      "\n",
      "Entry tableau\n",
      "[[ 1.   0.   0.   0.  -5.  -1.6 -0.2  3.8]\n",
      " [-0.  -0.   1.   1.   1.  -0.4  0.2  0.2]\n",
      " [-0.   1.   0.   1.  -1.  -0.2 -0.4  1.6]]\n",
      "\n",
      "\n",
      "\u001b[1mOptimality reached\u001b[0m\n",
      "\n",
      "The optimal primal solution is\n",
      "\u001b[92m[ x2, x1, x6, x5, x3, x4 ] = [ 0.2, 1.6, 0.0, 0.0, 0.0, 0.0 ]\u001b[0m\n",
      "\n",
      "With performance z = 3.8\n",
      "\n",
      "And the optimal dual solution is\n",
      "\u001b[92m[ w1, w2 ] = [ 1.6, 0.2 ]\u001b[0m\n",
      "\n",
      "\n"
     ]
    },
    {
     "data": {
      "text/plain": [
       "(array([1.6, 0.2, 0. , 0. , 0. , 0. ]), array([1.6, 0.2]))"
      ]
     },
     "execution_count": 49,
     "metadata": {},
     "output_type": "execute_result"
    }
   ],
   "source": [
    "dual_simplex_tableau(copy.deepcopy(tableau), copy.deepcopy(variables), copy.deepcopy(basic_indexes), copy.deepcopy(non_basic_indexes), copy.deepcopy(slack_indexes))"
   ]
  },
  {
   "cell_type": "markdown",
   "id": "4440ee0c",
   "metadata": {},
   "source": [
    "#### Exercise 6.30:\n",
    "Solve the next linear programming problem:\n",
    "\n",
    "$$min \\hspace{0.5cm} 3x_1 + 5x_2 - x_3 + 2x_4 - 4x_5 $$\n",
    "$$under \\hspace{0.5cm} x_1 + x_2 + x_3 + 3x_4 + x_5 \\leq 6$$\n",
    "$$\\hspace{1.4cm} - x_1 - x_2 + 2x_3 + x_4 - x_5 \\geq 3$$\n",
    "$$\\hspace{1cm}x_1, x_2, x_3, x_4, x_5 \\geq 0$$\n",
    "\n",
    "First, we introduce our slack variables $x_6, x_7$ and multiply by -1 the second constraint for mere convenience. So, the problem can be rewritten as\n",
    "\n",
    "$$min \\hspace{0.5cm} 3x_1 + 5x_2 - x_3 + 2x_4 - 4x_5 + 0x_6 + 0x_7$$\n",
    "$$under \\hspace{0.5cm} x_1 + x_2 + x_3 + 3x_4 + x_5 + x_6 + 0x_7 = 6$$\n",
    "$$\\hspace{1.4cm} x_1 + x_2 - 2x_3 - x_4 + x_5 + 0x_6 + x_7 = -3$$\n",
    "$$\\hspace{1cm}x_1, x_2, x_3, x_4, x_5, x_6, x_7 \\geq 0$$\n",
    "\n",
    "And on the other hand, the associated dual problem is defined as\n",
    "\n",
    "$$max \\hspace{0.5cm} 6w_1 - 3w_2$$\n",
    "$$under \\hspace{0.5cm} w_1 + w_2 \\leq 2$$\n",
    "$$\\hspace{1.4cm} w_1 + w_2 \\leq 3$$\n",
    "$$\\hspace{1.4cm} w_1 - 2w_2 \\leq 5$$\n",
    "$$\\hspace{1.4cm} 3w_1 - w_2 \\leq 6$$\n",
    "$$\\hspace{1.4cm} 1w_1 + w_2 \\leq 0$$\n",
    "$$\\hspace{1.4cm} 1w_1 + 0w_2 \\leq 0$$\n",
    "$$\\hspace{1.4cm} 0w_1 + w_2 \\leq 0$$\n",
    "$$\\hspace{1cm}w_1, w_2 \\hspace{0.5cm}unrestricted$$\n",
    "\n",
    "Then, initially considering $x_6, x_7$ as the basic variables and $x_1, x_2, x_3, x_4$ as the non basic ones, we get the following elements:\n",
    "\n",
    "\\begin{equation} A = [N | B] = \n",
    "\\left[\n",
    "\\begin{array}{ccccc | cc}\n",
    "1 & 1 & 1 & 3 & 1 & 1 & 0\\\\\n",
    "1 & 1 & -2 & -1 & 1 & 0 & 1\\\\\n",
    "\\end{array}\n",
    "\\right]\n",
    "\\end{equation}\n",
    "\n",
    "\\begin{equation} b = \n",
    "\\left[\n",
    "\\begin{array}{r}\n",
    "6\\\\\n",
    "-3\\\\\n",
    "\\end{array}\n",
    "\\right]\n",
    "\\end{equation}\n",
    "\n",
    "\n",
    "\\begin{equation} c = [c_{N} | c_{B}] =\n",
    "\\left[\n",
    "\\begin{array}{ccccc | cc}\n",
    "3 & 5 & -1 & 2 & -4 & 0 & 0\\\\\n",
    "\\end{array}\n",
    "\\right]\n",
    "\\end{equation}"
   ]
  },
  {
   "cell_type": "code",
   "execution_count": 50,
   "id": "e74c67c1",
   "metadata": {},
   "outputs": [],
   "source": [
    "A = np.matrix([[1, 1, 1, 3, 1, 1, 0], [1, 1, -2, -1, 1, 0, 1]])\n",
    "b = np.array([6, -3])\n",
    "c = np.array([3, 5, -1, 2, -4, 0, 0])\n",
    "variables = [\"x1\", \"x2\", \"x3\", \"x4\", \"x5\", \"x6\", \"x7\"]"
   ]
  },
  {
   "cell_type": "code",
   "execution_count": 51,
   "id": "217cc6a5",
   "metadata": {},
   "outputs": [],
   "source": [
    "basic_indexes = [5, 6]\n",
    "non_basic_indexes = [0, 1, 2, 3, 4]\n",
    "slack_indexes = [5, 6]"
   ]
  },
  {
   "cell_type": "code",
   "execution_count": 52,
   "id": "751d6738",
   "metadata": {},
   "outputs": [],
   "source": [
    "tableau = construct_tableau(A, b, c, basic_indexes)"
   ]
  },
  {
   "cell_type": "code",
   "execution_count": 53,
   "id": "2240cfb7",
   "metadata": {
    "scrolled": true
   },
   "outputs": [
    {
     "data": {
      "text/plain": [
       "matrix([[ 1., -3., -5.,  1., -2.,  4.,  0.,  0.,  0.],\n",
       "        [ 0.,  1.,  1.,  1.,  3.,  1.,  1.,  0.,  6.],\n",
       "        [ 0.,  1.,  1., -2., -1.,  1.,  0.,  1., -3.]])"
      ]
     },
     "execution_count": 53,
     "metadata": {},
     "output_type": "execute_result"
    }
   ],
   "source": [
    "tableau"
   ]
  },
  {
   "cell_type": "markdown",
   "id": "eb41ac1c",
   "metadata": {},
   "source": [
    "Note that since $z_j - c_j \\leq 0$ condition isn't fulfilled $\\forall j$, we cannot proceed to execute the simplex dual method yet, so we should look for another basis that comply the previous condition."
   ]
  },
  {
   "cell_type": "code",
   "execution_count": 54,
   "id": "0d09f6f4",
   "metadata": {},
   "outputs": [
    {
     "data": {
      "text/plain": [
       "[['x3', 'x5'], ['x5', 'x7']]"
      ]
     },
     "execution_count": 54,
     "metadata": {},
     "output_type": "execute_result"
    }
   ],
   "source": [
    "possible_basic_indexes = basic_indexes_dual_feasible_solution(A, b, c, [i for i in range(len(variables))], np.shape(A)[0])\n",
    "possible_basic_variables = basic_variables_dual_feasible_solution(possible_basic_indexes, variables)\n",
    "possible_basic_variables"
   ]
  },
  {
   "cell_type": "markdown",
   "id": "2c0bf7b1",
   "metadata": {},
   "source": [
    "Trying with $x_3, x_5$ as the basic variables we get the following changes:\n",
    "\n",
    "\\begin{equation} A = [N | B] = \n",
    "\\left[\n",
    "\\begin{array}{ccccc | cc}\n",
    "1 & 1 & 3 & 1 & 0 & 1 & 1\\\\\n",
    "1 & 1 & -1 & 0 & 1 & -2 & 1\\\\\n",
    "\\end{array}\n",
    "\\right]\n",
    "\\end{equation}\n",
    "\n",
    "\\begin{equation} b = \n",
    "\\left[\n",
    "\\begin{array}{r}\n",
    "6\\\\\n",
    "-3\\\\\n",
    "\\end{array}\n",
    "\\right]\n",
    "\\end{equation}\n",
    "\n",
    "\n",
    "\\begin{equation} c = [c_{N} | c_{B}] =\n",
    "\\left[\n",
    "\\begin{array}{ccccc | cc}\n",
    "3 & 5 & 0 & 2 & 0 & -1 & -4\\\\\n",
    "\\end{array}\n",
    "\\right]\n",
    "\\end{equation}"
   ]
  },
  {
   "cell_type": "code",
   "execution_count": 55,
   "id": "452ed8cc",
   "metadata": {},
   "outputs": [],
   "source": [
    "basic_indexes = [2, 4]\n",
    "non_basic_indexes = [0, 1, 3, 5, 6]\n",
    "slack_indexes = [5, 6]"
   ]
  },
  {
   "cell_type": "code",
   "execution_count": 56,
   "id": "e544d9ef",
   "metadata": {},
   "outputs": [],
   "source": [
    "tableau = construct_tableau(A, b, c, basic_indexes)"
   ]
  },
  {
   "cell_type": "code",
   "execution_count": 57,
   "id": "cc293b26",
   "metadata": {
    "scrolled": true
   },
   "outputs": [
    {
     "data": {
      "text/plain": [
       "matrix([[  1.    ,  -7.    ,  -9.    ,  -0.    , -10.    ,   0.    ,\n",
       "          -3.    ,  -1.    , -15.    ],\n",
       "        [  0.    ,  -0.    ,  -0.    ,   1.    ,   1.3333,  -0.    ,\n",
       "           0.3333,  -0.3333,   3.    ],\n",
       "        [  0.    ,   1.    ,   1.    ,   0.    ,   1.6667,   1.    ,\n",
       "           0.6667,   0.3333,   3.    ]])"
      ]
     },
     "execution_count": 57,
     "metadata": {},
     "output_type": "execute_result"
    }
   ],
   "source": [
    "tableau"
   ]
  },
  {
   "cell_type": "markdown",
   "id": "3a2e95f3",
   "metadata": {},
   "source": [
    "As it can be seen, changing the basis the condition complies, so now we can proceed to execute the dual simplex method."
   ]
  },
  {
   "cell_type": "code",
   "execution_count": 58,
   "id": "e2f7bbf3",
   "metadata": {
    "scrolled": false
   },
   "outputs": [
    {
     "name": "stdout",
     "output_type": "stream",
     "text": [
      "\n",
      "\n",
      "\u001b[1mIteration  1 \u001b[0m\n",
      "[\u001b[94m x_B \u001b[0m, \u001b[91m x_N \u001b[0m] = [ \u001b[94mx3, x5\u001b[0m, \u001b[91mx1, x2, x4, x6, x7\u001b[0m ]\n",
      "\n",
      "\n",
      "Entry tableau\n",
      "[[  1.      -7.      -9.      -0.     -10.       0.      -3.      -1.\n",
      "  -15.    ]\n",
      " [  0.      -0.      -0.       1.       1.3333  -0.       0.3333  -0.3333\n",
      "    3.    ]\n",
      " [  0.       1.       1.       0.       1.6667   1.       0.6667   0.3333\n",
      "    3.    ]]\n",
      "\n",
      "\n",
      "\u001b[1mOptimality reached\u001b[0m\n",
      "\n",
      "The optimal primal solution is\n",
      "\u001b[92m[ x3, x5, x1, x2, x4, x6, x7 ] = [ 3.0, 3.0, 0.0, 0.0, 0.0, 0.0, 0.0 ]\u001b[0m\n",
      "\n",
      "With performance z = -15.0\n",
      "\n",
      "And the optimal dual solution is\n",
      "\u001b[92m[ w1, w2 ] = [ 3.0, 1.0 ]\u001b[0m\n",
      "\n",
      "\n"
     ]
    },
    {
     "data": {
      "text/plain": [
       "(array([0., 0., 3., 0., 3., 0., 0.]), array([3., 1.]))"
      ]
     },
     "execution_count": 58,
     "metadata": {},
     "output_type": "execute_result"
    }
   ],
   "source": [
    "dual_simplex_tableau(copy.deepcopy(tableau), copy.deepcopy(variables), copy.deepcopy(basic_indexes), copy.deepcopy(non_basic_indexes), copy.deepcopy(slack_indexes))"
   ]
  },
  {
   "cell_type": "markdown",
   "id": "97a2ec13",
   "metadata": {},
   "source": [
    "#### Exercise 6.49:\n",
    "Solve the next linear programming problem:\n",
    "\n",
    "$$max \\hspace{0.5cm} 2x_1 + x_2 - x_3$$\n",
    "$$under \\hspace{0.5cm} x_1 + 2x_2 + x_3 \\leq 8$$\n",
    "$$\\hspace{1.4cm} - x_1 + x_2 - 2x_3 \\leq 4$$\n",
    "$$\\hspace{1cm}x_1, x_2, x_3 \\geq 0$$\n",
    "\n",
    "First, we introduce our slack variables $x_4, x_5$ and then multiply by -1 the objective function in order to turn the maximization problem into a minimization one, and finally multiply by -1 the first and the second constraint for mere convenience. So, the problem can be rewritten as\n",
    "\n",
    "$$min \\hspace{0.5cm} - 2x_1 - x_2 + x_3 + 0x_4 + 0x_5 $$\n",
    "$$under \\hspace{0.5cm} - x_1 - 2x_2 - x_3 - x_4 + 0x_5 = -8$$\n",
    "$$\\hspace{1.4cm} x_1 - x_2 + 2x_3 + 0x_4 - x_5 = -4$$\n",
    "$$\\hspace{1cm}x_1, x_2, x_3 \\geq 0$$\n",
    "\n",
    "And on the other hand, the associated dual problem is defined as\n",
    "\n",
    "$$max \\hspace{0.5cm} -8w_1 - 4w_2$$\n",
    "$$under \\hspace{0.5cm} - w_1 + w_2 \\leq -2$$\n",
    "$$\\hspace{1.4cm} - 2w_1 - w_2 \\leq -1$$\n",
    "$$\\hspace{1.4cm} - w_1 + 2w_2 \\leq 1$$\n",
    "$$\\hspace{1.4cm} - w_1 + 0w_2 \\leq 0$$\n",
    "$$\\hspace{1.4cm} 0w_1 - w_2 \\leq 0$$\n",
    "$$\\hspace{1cm}w_1, w_2 \\hspace{0.5cm}unrestricted$$\n",
    "\n",
    "Then, initially considering $x_4, x_5$ as the basic variables and $x_1, x_2, x_3$ as the non basic ones, we get the following elements:\n",
    "\n",
    "\\begin{equation} A = [N | B] = \n",
    "\\left[\n",
    "\\begin{array}{ccc | cc}\n",
    "-1 & -2 & -1 & -1 & 0\\\\\n",
    "1 & -1 & 2 & 0 & -1\\\\\n",
    "\\end{array}\n",
    "\\right]\n",
    "\\end{equation}\n",
    "\n",
    "\\begin{equation} b = \n",
    "\\left[\n",
    "\\begin{array}{r}\n",
    "-8\\\\\n",
    "-4\\\\\n",
    "\\end{array}\n",
    "\\right]\n",
    "\\end{equation}\n",
    "\n",
    "\n",
    "\\begin{equation} c = [c_{N} | c_{B}] =\n",
    "\\left[\n",
    "\\begin{array}{ccc | cc}\n",
    "-2 & -1 & 1 & 0 & 0\\\\\n",
    "\\end{array}\n",
    "\\right]\n",
    "\\end{equation}"
   ]
  },
  {
   "cell_type": "code",
   "execution_count": 59,
   "id": "cd9990ac",
   "metadata": {},
   "outputs": [],
   "source": [
    "A = np.matrix([[-1, -2, -1, -1, 0], [1, -1, 2, 0, -1]])\n",
    "b = np.array([-8, -4])\n",
    "c = np.array([-2, -1, 1, 0, 0])\n",
    "variables = [\"x1\", \"x2\", \"x3\", \"x4\", \"x5\"]"
   ]
  },
  {
   "cell_type": "code",
   "execution_count": 60,
   "id": "ce1aa453",
   "metadata": {},
   "outputs": [],
   "source": [
    "basic_indexes = [3, 4]\n",
    "non_basic_indexes = [0, 1, 2]\n",
    "slack_indexes = [3, 4]"
   ]
  },
  {
   "cell_type": "code",
   "execution_count": 61,
   "id": "e78b8fa8",
   "metadata": {},
   "outputs": [],
   "source": [
    "tableau = construct_tableau(A, b, c, basic_indexes)"
   ]
  },
  {
   "cell_type": "code",
   "execution_count": 62,
   "id": "f577d64d",
   "metadata": {
    "scrolled": true
   },
   "outputs": [
    {
     "data": {
      "text/plain": [
       "matrix([[ 1.,  2.,  1., -1.,  0.,  0.,  0.],\n",
       "        [ 0.,  1.,  2.,  1.,  1.,  0.,  8.],\n",
       "        [ 0., -1.,  1., -2.,  0.,  1.,  4.]])"
      ]
     },
     "execution_count": 62,
     "metadata": {},
     "output_type": "execute_result"
    }
   ],
   "source": [
    "tableau"
   ]
  },
  {
   "cell_type": "markdown",
   "id": "52f3836d",
   "metadata": {},
   "source": [
    "Note that since $z_j - c_j \\leq 0$ condition isn't fulfilled $\\forall j$, we cannot proceed to execute the simplex dual method yet, so we should look for another basis that comply the previous condition."
   ]
  },
  {
   "cell_type": "code",
   "execution_count": 63,
   "id": "66238c43",
   "metadata": {},
   "outputs": [
    {
     "data": {
      "text/plain": [
       "[['x1', 'x3'], ['x1', 'x5']]"
      ]
     },
     "execution_count": 63,
     "metadata": {},
     "output_type": "execute_result"
    }
   ],
   "source": [
    "possible_basic_indexes = basic_indexes_dual_feasible_solution(A, b, c, [i for i in range(len(variables))], np.shape(A)[0])\n",
    "possible_basic_variables = basic_variables_dual_feasible_solution(possible_basic_indexes, variables)\n",
    "possible_basic_variables"
   ]
  },
  {
   "cell_type": "markdown",
   "id": "95a05604",
   "metadata": {},
   "source": [
    "Trying with $x_1, x_3$ as the basic variables we get the following changes:\n",
    "\n",
    "\\begin{equation} A = [N | B] = \n",
    "\\left[\n",
    "\\begin{array}{ccc | cc}\n",
    "-2 & -1 & 0 & -1 & -1\\\\\n",
    "-1 & 0 & -1 & 1 & 2\\\\\n",
    "\\end{array}\n",
    "\\right]\n",
    "\\end{equation}\n",
    "\n",
    "\\begin{equation} b = \n",
    "\\left[\n",
    "\\begin{array}{r}\n",
    "-8\\\\\n",
    "-4\\\\\n",
    "\\end{array}\n",
    "\\right]\n",
    "\\end{equation}\n",
    "\n",
    "\n",
    "\\begin{equation} c = [c_{N} | c_{B}] =\n",
    "\\left[\n",
    "\\begin{array}{ccc | cc}\n",
    "-1 & 0 & 0 & -2 & 1\\\\\n",
    "\\end{array}\n",
    "\\right]\n",
    "\\end{equation}"
   ]
  },
  {
   "cell_type": "code",
   "execution_count": 64,
   "id": "6217c554",
   "metadata": {},
   "outputs": [],
   "source": [
    "basic_indexes = [0, 2]\n",
    "non_basic_indexes = [1, 3, 4]\n",
    "slack_indexes = [3, 4]"
   ]
  },
  {
   "cell_type": "code",
   "execution_count": 65,
   "id": "397342b4",
   "metadata": {},
   "outputs": [],
   "source": [
    "tableau = construct_tableau(A, b, c, basic_indexes)"
   ]
  },
  {
   "cell_type": "code",
   "execution_count": 66,
   "id": "7892c92f",
   "metadata": {
    "scrolled": true
   },
   "outputs": [
    {
     "data": {
      "text/plain": [
       "matrix([[  1.,   0., -12.,   0.,  -5.,  -3., -52.],\n",
       "        [  0.,   1.,   5.,   0.,   2.,   1.,  20.],\n",
       "        [  0.,   0.,  -3.,   1.,  -1.,  -1., -12.]])"
      ]
     },
     "execution_count": 66,
     "metadata": {},
     "output_type": "execute_result"
    }
   ],
   "source": [
    "tableau"
   ]
  },
  {
   "cell_type": "markdown",
   "id": "b7102194",
   "metadata": {},
   "source": [
    "As it can be seen, changing the basis the condition complies, so now we can proceed to execute the dual simplex method."
   ]
  },
  {
   "cell_type": "code",
   "execution_count": 67,
   "id": "f7aa96ca",
   "metadata": {
    "scrolled": true
   },
   "outputs": [
    {
     "name": "stdout",
     "output_type": "stream",
     "text": [
      "\n",
      "\n",
      "\u001b[1mIteration  1 \u001b[0m\n",
      "[\u001b[94m x_B \u001b[0m, \u001b[91m x_N \u001b[0m] = [ \u001b[94mx1, x3\u001b[0m, \u001b[91mx2, x4, x5\u001b[0m ]\n",
      "\n",
      "\n",
      "Entry tableau\n",
      "[[  1.   0. -12.   0.  -5.  -3. -52.]\n",
      " [  0.   1.   5.   0.   2.   1.  20.]\n",
      " [  0.   0.  -3.   1.  -1.  -1. -12.]]\n",
      "\n",
      "r = 2 -> row no. 2 of x_B part ( x3 )\n",
      "y_r\n",
      "[ 0. -3.  1. -1. -1.]\n",
      "\n",
      "k = 5 -> column no. 5 of x part ( x5 )\n",
      "min_quotient\n",
      "3.0\n",
      "\n",
      "pivot = -1.0\n",
      "\n",
      "Pivoted tableau\n",
      "[[  1.   0.  -3.  -3.  -2.   0. -16.]\n",
      " [  0.   1.   2.   1.   1.   0.   8.]\n",
      " [ -0.  -0.   3.  -1.   1.   1.  12.]]\n",
      "\n",
      "\u001b[94m x5 enters\u001b[0m and \u001b[91m x3 leaves\u001b[0m the basis\n",
      "\n",
      "\n",
      "\u001b[1mIteration  2 \u001b[0m\n",
      "[\u001b[94m x_B \u001b[0m, \u001b[91m x_N \u001b[0m] = [ \u001b[94mx1, x5\u001b[0m, \u001b[91mx2, x4, x3\u001b[0m ]\n",
      "\n",
      "\n",
      "Entry tableau\n",
      "[[  1.   0.  -3.  -3.  -2.   0. -16.]\n",
      " [  0.   1.   2.   1.   1.   0.   8.]\n",
      " [ -0.  -0.   3.  -1.   1.   1.  12.]]\n",
      "\n",
      "\n",
      "\u001b[1mOptimality reached\u001b[0m\n",
      "\n",
      "The optimal primal solution is\n",
      "\u001b[92m[ x1, x5, x2, x4, x3 ] = [ 8.0, 12.0, 0.0, 0.0, 0.0 ]\u001b[0m\n",
      "\n",
      "With performance z = -16.0\n",
      "\n",
      "And the optimal dual solution is\n",
      "\u001b[92m[ w1, w2 ] = [ 2.0, 0.0 ]\u001b[0m\n",
      "\n",
      "\n"
     ]
    },
    {
     "data": {
      "text/plain": [
       "(array([ 8.,  0.,  0.,  0., 12.]), array([2., 0.]))"
      ]
     },
     "execution_count": 67,
     "metadata": {},
     "output_type": "execute_result"
    }
   ],
   "source": [
    "dual_simplex_tableau(copy.deepcopy(tableau), copy.deepcopy(variables), copy.deepcopy(basic_indexes), copy.deepcopy(non_basic_indexes), copy.deepcopy(slack_indexes))"
   ]
  },
  {
   "cell_type": "markdown",
   "id": "c1b51298",
   "metadata": {},
   "source": [
    "#### Exercise 6.52:\n",
    "Solve the next linear programming problem:\n",
    "\n",
    "$$max \\hspace{0.5cm} 60x_1 + 100x_2 + 80x_3$$\n",
    "$$under \\hspace{0.5cm} 6x_1 + 8x_2 + 10x_3 \\leq 5000$$\n",
    "$$\\hspace{1.4cm} 100x_1 + 150x_2 + 200x_3 \\leq 60000$$\n",
    "$$\\hspace{1.4cm} x_1 + x_2 + x_3 \\leq 500$$\n",
    "$$\\hspace{1cm}x_1, x_2, x_3 \\geq 0$$\n",
    "\n",
    "First, we introduce our slack variables $x_4, x_5$ and then multiply by -1 the objective function in order to turn the maximization problem into a minimization one, and finally multiply by -1 the first and the second constraint for mere convenience. So, the problem can be rewritten as\n",
    "\n",
    "$$min \\hspace{0.5cm} -60x_1 - 100x_2 - 80x_3 + 0x_4 + 0x_5 + 0x_6$$\n",
    "$$under \\hspace{0.5cm} -6x_1 - 8x_2 - 10x_3 - x_4 + 0x_5 + 0x_6 = -5000$$\n",
    "$$\\hspace{1.4cm} - 100x_1 - 150x_2 - 200x_3 + 0x_4 - x_5 + 0x_6  = -60000$$\n",
    "$$\\hspace{1.4cm} - x_1 - x_2 - x_3 + 0x_4 + 0x_5 - x_6  = -500$$\n",
    "$$\\hspace{1cm}x_1, x_2, x_3, x_4, x_5, x_6 \\geq 0$$\n",
    "\n",
    "And on the other hand, the associated dual problem is defined as\n",
    "\n",
    "$$max \\hspace{0.5cm} -5000w_1 - 60000w_2 - 500w_3$$\n",
    "$$under \\hspace{0.5cm} - 6w_1 - 100w_2 - w_3 \\leq -60$$\n",
    "$$\\hspace{1.4cm} - 8w_1 - 150w_2 - w_3 \\leq -100$$\n",
    "$$\\hspace{1.4cm} - 10w_1 - 200w_2 - w_3 \\leq -80$$\n",
    "$$\\hspace{1.4cm} - w_1 + 0w_2 + 0w_3 \\leq 0$$\n",
    "$$\\hspace{1.4cm} 0w_1 - w_2 + 0w_3 \\leq 0$$\n",
    "$$\\hspace{1.4cm} 0w_1 + 0w_2 - w_3 \\leq 0$$\n",
    "$$\\hspace{1cm}w_1, w_2, w_3 \\hspace{0.5cm}unrestricted$$\n",
    "\n",
    "Then, initially considering $x_4, x_5, x_6$ as the basic variables and $x_1, x_2, x_3$ as the non basic ones, we get the following elements:\n",
    "\n",
    "\\begin{equation} A = [N | B] = \n",
    "\\left[\n",
    "\\begin{array}{ccc | ccc}\n",
    "-6 & -8 & -10 & -1 & 0 & 0\\\\\n",
    "-100 & -150 & -200 & 0 & -1 & 0\\\\\n",
    "-1 & -1 & -1 & 0 & 0 & -1\\\\\n",
    "\\end{array}\n",
    "\\right]\n",
    "\\end{equation}\n",
    "\n",
    "\\begin{equation} b = \n",
    "\\left[\n",
    "\\begin{array}{r}\n",
    "-5000\\\\\n",
    "-60000\\\\\n",
    "-500\\\\\n",
    "\\end{array}\n",
    "\\right]\n",
    "\\end{equation}\n",
    "\n",
    "\n",
    "\\begin{equation} c = [c_{N} | c_{B}] =\n",
    "\\left[\n",
    "\\begin{array}{ccc | cc}\n",
    "-60 & -100 & -80 & 0 & 0 & 0\\\\\n",
    "\\end{array}\n",
    "\\right]\n",
    "\\end{equation}"
   ]
  },
  {
   "cell_type": "markdown",
   "id": "efb2cf4d",
   "metadata": {},
   "source": [
    "#### Subsection a"
   ]
  },
  {
   "cell_type": "code",
   "execution_count": 68,
   "id": "2abe8b14",
   "metadata": {},
   "outputs": [],
   "source": [
    "A = np.matrix([[-6, -8, -10, -1, 0, 0], [-100, -150, -120, 0, -1, 0], [-1, -1, -1, 0, 0, -1]])\n",
    "b = np.array([-5000, -60000, -500])\n",
    "c = np.array([-60, -100, -80, 0, 0, 0])\n",
    "variables = [\"x1\", \"x2\", \"x3\", \"x4\", \"x5\", \"x6\"]"
   ]
  },
  {
   "cell_type": "code",
   "execution_count": 69,
   "id": "0dff0bc8",
   "metadata": {},
   "outputs": [],
   "source": [
    "basic_indexes = [3, 4, 5]\n",
    "non_basic_indexes = [0, 1, 2]\n",
    "slack_indexes = [3, 4, 5]"
   ]
  },
  {
   "cell_type": "code",
   "execution_count": 70,
   "id": "70dbd02e",
   "metadata": {},
   "outputs": [],
   "source": [
    "tableau = construct_tableau(A, b, c, basic_indexes)"
   ]
  },
  {
   "cell_type": "code",
   "execution_count": 71,
   "id": "f762f20e",
   "metadata": {
    "scrolled": true
   },
   "outputs": [
    {
     "data": {
      "text/plain": [
       "matrix([[    1.,    60.,   100.,    80.,     0.,     0.,     0.,     0.],\n",
       "        [    0.,     6.,     8.,    10.,     1.,     0.,     0.,  5000.],\n",
       "        [    0.,   100.,   150.,   120.,     0.,     1.,     0., 60000.],\n",
       "        [    0.,     1.,     1.,     1.,     0.,     0.,     1.,   500.]])"
      ]
     },
     "execution_count": 71,
     "metadata": {},
     "output_type": "execute_result"
    }
   ],
   "source": [
    "tableau"
   ]
  },
  {
   "cell_type": "markdown",
   "id": "be679228",
   "metadata": {},
   "source": [
    "Note that since $z_j - c_j \\leq 0$ condition isn't fulfilled $\\forall j$, we cannot proceed to execute the simplex dual method yet, so we should look for another basis that comply the previous condition."
   ]
  },
  {
   "cell_type": "code",
   "execution_count": 72,
   "id": "0e9b005e",
   "metadata": {},
   "outputs": [
    {
     "data": {
      "text/plain": [
       "[['x2', 'x4', 'x5'],\n",
       " ['x2', 'x4', 'x6'],\n",
       " ['x2', 'x5', 'x6'],\n",
       " ['x3', 'x4', 'x6']]"
      ]
     },
     "execution_count": 72,
     "metadata": {},
     "output_type": "execute_result"
    }
   ],
   "source": [
    "possible_basic_indexes = basic_indexes_dual_feasible_solution(A, b, c, [i for i in range(len(variables))], np.shape(A)[0])\n",
    "possible_basic_variables = basic_variables_dual_feasible_solution(possible_basic_indexes, variables)\n",
    "possible_basic_variables"
   ]
  },
  {
   "cell_type": "markdown",
   "id": "e2ad7d98",
   "metadata": {},
   "source": [
    "Trying with $x_2, x_4, x_5$ as the basic variables we get the following changes:\n",
    "\n",
    "\\begin{equation} A = [N | B] = \n",
    "\\left[\n",
    "\\begin{array}{ccc | ccc}\n",
    "-6 & -10 & 0 & -8 & -1 & 0\\\\\n",
    "-100 & -120 & 0& -150 & 0 & -1\\\\\n",
    "-1 & -1 & -1 & -1 & 0 & 0\\\\\n",
    "\\end{array}\n",
    "\\right]\n",
    "\\end{equation}\n",
    "\n",
    "\\begin{equation} b = \n",
    "\\left[\n",
    "\\begin{array}{r}\n",
    "-5000\\\\\n",
    "-60000\\\\\n",
    "-500\\\\\n",
    "\\end{array}\n",
    "\\right]\n",
    "\\end{equation}\n",
    "\n",
    "\n",
    "\\begin{equation} c = [c_{N} | c_{B}] =\n",
    "\\left[\n",
    "\\begin{array}{ccc | cc}\n",
    "-60 & -80 & 0 & -100 & 0 & 0\\\\\n",
    "\\end{array}\n",
    "\\right]\n",
    "\\end{equation}"
   ]
  },
  {
   "cell_type": "code",
   "execution_count": 73,
   "id": "f65f3a14",
   "metadata": {},
   "outputs": [],
   "source": [
    "basic_indexes = [1, 3, 4]\n",
    "non_basic_indexes = [0, 2, 5]\n",
    "slack_indexes = [3, 4, 5]"
   ]
  },
  {
   "cell_type": "code",
   "execution_count": 74,
   "id": "b296dd2d",
   "metadata": {},
   "outputs": [],
   "source": [
    "tableau = construct_tableau(A, b, c, basic_indexes)"
   ]
  },
  {
   "cell_type": "code",
   "execution_count": 75,
   "id": "6af29321",
   "metadata": {
    "scrolled": true
   },
   "outputs": [
    {
     "data": {
      "text/plain": [
       "matrix([[     1.,    -40.,      0.,    -20.,      0.,      0.,   -100.,\n",
       "         -50000.],\n",
       "        [     0.,      1.,      1.,      1.,      0.,      0.,      1.,\n",
       "            500.],\n",
       "        [     0.,     -2.,      0.,      2.,      1.,      0.,     -8.,\n",
       "           1000.],\n",
       "        [     0.,    -50.,      0.,    -30.,      0.,      1.,   -150.,\n",
       "         -15000.]])"
      ]
     },
     "execution_count": 75,
     "metadata": {},
     "output_type": "execute_result"
    }
   ],
   "source": [
    "tableau"
   ]
  },
  {
   "cell_type": "markdown",
   "id": "ee075e28",
   "metadata": {},
   "source": [
    "As it can be seen, changing the basis the condition complies, so now we can proceed to execute the dual simplex method."
   ]
  },
  {
   "cell_type": "code",
   "execution_count": 76,
   "id": "cc99c11b",
   "metadata": {
    "scrolled": true
   },
   "outputs": [
    {
     "name": "stdout",
     "output_type": "stream",
     "text": [
      "\n",
      "\n",
      "\u001b[1mIteration  1 \u001b[0m\n",
      "[\u001b[94m x_B \u001b[0m, \u001b[91m x_N \u001b[0m] = [ \u001b[94mx2, x4, x5\u001b[0m, \u001b[91mx1, x3, x6\u001b[0m ]\n",
      "\n",
      "\n",
      "Entry tableau\n",
      "[[     1.    -40.      0.    -20.      0.      0.   -100. -50000.]\n",
      " [     0.      1.      1.      1.      0.      0.      1.    500.]\n",
      " [     0.     -2.      0.      2.      1.      0.     -8.   1000.]\n",
      " [     0.    -50.      0.    -30.      0.      1.   -150. -15000.]]\n",
      "\n",
      "r = 3 -> row no. 3 of x_B part ( x5 )\n",
      "y_r\n",
      "[ -50.    0.  -30.    0.    1. -150.]\n",
      "\n",
      "k = 3 -> column no. 3 of x part ( x3 )\n",
      "min_quotient\n",
      "0.6666666666666666\n",
      "\n",
      "pivot = -30.0\n",
      "\n",
      "Pivoted tableau\n",
      "[[     1.         -6.6667      0.          0.          0.         -0.6667\n",
      "       0.     -40000.    ]\n",
      " [     0.         -0.6667      1.          0.          0.          0.0333\n",
      "      -4.          0.    ]\n",
      " [     0.         -5.3333      0.          0.          1.          0.0667\n",
      "     -18.          0.    ]\n",
      " [    -0.          1.6667     -0.          1.         -0.         -0.0333\n",
      "       5.        500.    ]]\n",
      "\n",
      "\u001b[94m x3 enters\u001b[0m and \u001b[91m x5 leaves\u001b[0m the basis\n",
      "\n",
      "\n",
      "\u001b[1mIteration  2 \u001b[0m\n",
      "[\u001b[94m x_B \u001b[0m, \u001b[91m x_N \u001b[0m] = [ \u001b[94mx2, x4, x3\u001b[0m, \u001b[91mx1, x5, x6\u001b[0m ]\n",
      "\n",
      "\n",
      "Entry tableau\n",
      "[[     1.         -6.6667      0.          0.          0.         -0.6667\n",
      "       0.     -40000.    ]\n",
      " [     0.         -0.6667      1.          0.          0.          0.0333\n",
      "      -4.          0.    ]\n",
      " [     0.         -5.3333      0.          0.          1.          0.0667\n",
      "     -18.          0.    ]\n",
      " [    -0.          1.6667     -0.          1.         -0.         -0.0333\n",
      "       5.        500.    ]]\n",
      "\n",
      "\n",
      "\u001b[1mOptimality reached\u001b[0m\n",
      "\n",
      "The optimal primal solution is\n",
      "\u001b[92m[ x2, x4, x3, x1, x5, x6 ] = [ 0.0, 0.0, 500.0, 0.0, 0.0, 0.0 ]\u001b[0m\n",
      "\n",
      "With performance z = -40000.0\n",
      "\n",
      "And the optimal dual solution is\n",
      "\u001b[92m[ w1, w2, w3 ] = [ 0.0, 0.6667, 0.0 ]\u001b[0m\n",
      "\n",
      "\n"
     ]
    },
    {
     "data": {
      "text/plain": [
       "(array([  0.,   0., 500.,   0.,   0.,   0.]), array([0.    , 0.6667, 0.    ]))"
      ]
     },
     "execution_count": 76,
     "metadata": {},
     "output_type": "execute_result"
    }
   ],
   "source": [
    "dual_simplex_tableau(copy.deepcopy(tableau), copy.deepcopy(variables), copy.deepcopy(basic_indexes), copy.deepcopy(non_basic_indexes), copy.deepcopy(slack_indexes))"
   ]
  },
  {
   "cell_type": "markdown",
   "id": "a263f671",
   "metadata": {},
   "source": [
    "#### Subsection b"
   ]
  },
  {
   "cell_type": "code",
   "execution_count": 77,
   "id": "2232f81a",
   "metadata": {},
   "outputs": [],
   "source": [
    "A = np.matrix([[-3, -4, -5, -1, 0, 0], [-172, -246, -240, 0, -1, 0], [-1, -1, -1, 0, 0, -1]])\n",
    "b = np.array([-5000, -60000, -500])\n",
    "c = np.array([-120, -200, -160, 0, 0, 0])\n",
    "variables = [\"x1\", \"x2\", \"x3\", \"x4\", \"x5\", \"x6\"]"
   ]
  },
  {
   "cell_type": "code",
   "execution_count": 78,
   "id": "312110e5",
   "metadata": {},
   "outputs": [],
   "source": [
    "basic_indexes = [3, 4, 5]\n",
    "non_basic_indexes = [0, 1, 2]\n",
    "slack_indexes = [3, 4, 5]"
   ]
  },
  {
   "cell_type": "code",
   "execution_count": 79,
   "id": "489d661a",
   "metadata": {},
   "outputs": [],
   "source": [
    "tableau = construct_tableau(A, b, c, basic_indexes)"
   ]
  },
  {
   "cell_type": "code",
   "execution_count": 80,
   "id": "0ea5ce3b",
   "metadata": {
    "scrolled": true
   },
   "outputs": [
    {
     "data": {
      "text/plain": [
       "matrix([[    1.,   120.,   200.,   160.,     0.,     0.,     0.,     0.],\n",
       "        [    0.,     3.,     4.,     5.,     1.,     0.,     0.,  5000.],\n",
       "        [    0.,   172.,   246.,   240.,     0.,     1.,     0., 60000.],\n",
       "        [    0.,     1.,     1.,     1.,     0.,     0.,     1.,   500.]])"
      ]
     },
     "execution_count": 80,
     "metadata": {},
     "output_type": "execute_result"
    }
   ],
   "source": [
    "tableau"
   ]
  },
  {
   "cell_type": "markdown",
   "id": "94b171f3",
   "metadata": {},
   "source": [
    "Note that since $z_j - c_j \\leq 0$ condition isn't fulfilled $\\forall j$, we cannot proceed to execute the simplex dual method yet, so we should look for another basis that comply the previous condition."
   ]
  },
  {
   "cell_type": "code",
   "execution_count": 81,
   "id": "e16b057a",
   "metadata": {},
   "outputs": [
    {
     "data": {
      "text/plain": [
       "[['x2', 'x4', 'x6']]"
      ]
     },
     "execution_count": 81,
     "metadata": {},
     "output_type": "execute_result"
    }
   ],
   "source": [
    "possible_basic_indexes = basic_indexes_dual_feasible_solution(A, b, c, [i for i in range(len(variables))], np.shape(A)[0])\n",
    "possible_basic_variables = basic_variables_dual_feasible_solution(possible_basic_indexes, variables)\n",
    "possible_basic_variables"
   ]
  },
  {
   "cell_type": "code",
   "execution_count": 82,
   "id": "65a90eb5",
   "metadata": {},
   "outputs": [],
   "source": [
    "basic_indexes = [1, 3, 5]\n",
    "non_basic_indexes = [0, 2, 4]\n",
    "slack_indexes = [3, 4, 5]"
   ]
  },
  {
   "cell_type": "code",
   "execution_count": 83,
   "id": "46a1e554",
   "metadata": {},
   "outputs": [],
   "source": [
    "tableau = construct_tableau(A, b, c, basic_indexes)"
   ]
  },
  {
   "cell_type": "code",
   "execution_count": 84,
   "id": "08875afd",
   "metadata": {
    "scrolled": true
   },
   "outputs": [
    {
     "data": {
      "text/plain": [
       "matrix([[     1.    ,    -19.8374,     -0.    ,    -35.122 ,      0.    ,\n",
       "             -0.813 ,      0.    , -48780.4878],\n",
       "        [     0.    ,      0.6992,      1.    ,      0.9756,      0.    ,\n",
       "              0.0041,      0.    ,    243.9024],\n",
       "        [     0.    ,      0.2033,     -0.    ,      1.0976,      1.    ,\n",
       "             -0.0163,      0.    ,   4024.3902],\n",
       "        [     0.    ,      0.3008,      0.    ,      0.0244,      0.    ,\n",
       "             -0.0041,      1.    ,    256.0976]])"
      ]
     },
     "execution_count": 84,
     "metadata": {},
     "output_type": "execute_result"
    }
   ],
   "source": [
    "tableau"
   ]
  },
  {
   "cell_type": "markdown",
   "id": "520f5ecc",
   "metadata": {},
   "source": [
    "As it can be seen, changing the basis the condition complies, so now we can proceed to execute the dual simplex method."
   ]
  },
  {
   "cell_type": "code",
   "execution_count": 85,
   "id": "34838bc4",
   "metadata": {
    "scrolled": true
   },
   "outputs": [
    {
     "name": "stdout",
     "output_type": "stream",
     "text": [
      "\n",
      "\n",
      "\u001b[1mIteration  1 \u001b[0m\n",
      "[\u001b[94m x_B \u001b[0m, \u001b[91m x_N \u001b[0m] = [ \u001b[94mx2, x4, x6\u001b[0m, \u001b[91mx1, x3, x5\u001b[0m ]\n",
      "\n",
      "\n",
      "Entry tableau\n",
      "[[     1.        -19.8374     -0.        -35.122       0.         -0.813\n",
      "       0.     -48780.4878]\n",
      " [     0.          0.6992      1.          0.9756      0.          0.0041\n",
      "       0.        243.9024]\n",
      " [     0.          0.2033     -0.          1.0976      1.         -0.0163\n",
      "       0.       4024.3902]\n",
      " [     0.          0.3008      0.          0.0244      0.         -0.0041\n",
      "       1.        256.0976]]\n",
      "\n",
      "\n",
      "\u001b[1mOptimality reached\u001b[0m\n",
      "\n",
      "The optimal primal solution is\n",
      "\u001b[92m[ x2, x4, x6, x1, x3, x5 ] = [ 243.9024, 4024.3902, 256.0976, 0.0, 0.0, 0.0 ]\u001b[0m\n",
      "\n",
      "With performance z = -48780.48780487805\n",
      "\n",
      "And the optimal dual solution is\n",
      "\u001b[92m[ w1, w2, w3 ] = [ 0.0, 0.813, 0.0 ]\u001b[0m\n",
      "\n",
      "\n"
     ]
    },
    {
     "data": {
      "text/plain": [
       "(array([   0.    ,  243.9024,    0.    , 4024.3902,    0.    ,  256.0976]),\n",
       " array([0.   , 0.813, 0.   ]))"
      ]
     },
     "execution_count": 85,
     "metadata": {},
     "output_type": "execute_result"
    }
   ],
   "source": [
    "dual_simplex_tableau(copy.deepcopy(tableau), copy.deepcopy(variables), copy.deepcopy(basic_indexes), copy.deepcopy(non_basic_indexes), copy.deepcopy(slack_indexes))"
   ]
  },
  {
   "cell_type": "markdown",
   "id": "3a033be2",
   "metadata": {},
   "source": [
    "#### Subsection c"
   ]
  },
  {
   "cell_type": "code",
   "execution_count": 86,
   "id": "535b4ea1",
   "metadata": {},
   "outputs": [],
   "source": [
    "A = np.matrix([[-6, -8, -10, -1, 0, 0, 0], [-100, -150, -120, 0, -1, 0, 0], [-1, -1, -1, 0, 0, -1, 0], [1, 0, 0, 0, 0, 0, -1]])\n",
    "b = np.array([-5000, -60000, -500, 100])\n",
    "c = np.array([-60, -100, -80, 0, 0, 0, 0])\n",
    "variables = [\"x1\", \"x2\", \"x3\", \"x4\", \"x5\", \"x6\", \"x7\"]"
   ]
  },
  {
   "cell_type": "code",
   "execution_count": 87,
   "id": "40f87d7a",
   "metadata": {},
   "outputs": [],
   "source": [
    "basic_indexes = [1, 2, 3, 6]\n",
    "non_basic_indexes = [0, 4, 5]\n",
    "slack_indexes = [3, 4, 5, 6]"
   ]
  },
  {
   "cell_type": "code",
   "execution_count": 88,
   "id": "3ea847f4",
   "metadata": {},
   "outputs": [],
   "source": [
    "tableau = construct_tableau(A, b, c, basic_indexes)"
   ]
  },
  {
   "cell_type": "code",
   "execution_count": 89,
   "id": "6e5e3a49",
   "metadata": {
    "scrolled": true
   },
   "outputs": [
    {
     "data": {
      "text/plain": [
       "matrix([[     1.    ,     -6.6667,      0.    ,      0.    ,      0.    ,\n",
       "             -0.6667,      0.    ,      0.    , -40000.    ],\n",
       "        [     0.    ,     -0.6667,      1.    ,     -0.    ,      0.    ,\n",
       "              0.0333,     -4.    ,      0.    ,     -0.    ],\n",
       "        [     0.    ,      1.6667,      0.    ,      1.    ,      0.    ,\n",
       "             -0.0333,      5.    ,      0.    ,    500.    ],\n",
       "        [     0.    ,     -5.3333,      0.    ,      0.    ,      1.    ,\n",
       "              0.0667,    -18.    ,      0.    ,      0.    ],\n",
       "        [     0.    ,     -1.    ,      0.    ,      0.    ,      0.    ,\n",
       "              0.    ,      0.    ,      1.    ,   -100.    ]])"
      ]
     },
     "execution_count": 89,
     "metadata": {},
     "output_type": "execute_result"
    }
   ],
   "source": [
    "tableau"
   ]
  },
  {
   "cell_type": "code",
   "execution_count": 90,
   "id": "7b7a5bb4",
   "metadata": {},
   "outputs": [
    {
     "name": "stdout",
     "output_type": "stream",
     "text": [
      "\n",
      "\n",
      "\u001b[1mIteration  1 \u001b[0m\n",
      "[\u001b[94m x_B \u001b[0m, \u001b[91m x_N \u001b[0m] = [ \u001b[94mx2, x3, x4, x7\u001b[0m, \u001b[91mx1, x5, x6\u001b[0m ]\n",
      "\n",
      "\n",
      "Entry tableau\n",
      "[[     1.         -6.6667      0.          0.          0.         -0.6667\n",
      "       0.          0.     -40000.    ]\n",
      " [     0.         -0.6667      1.         -0.          0.          0.0333\n",
      "      -4.          0.         -0.    ]\n",
      " [     0.          1.6667      0.          1.          0.         -0.0333\n",
      "       5.          0.        500.    ]\n",
      " [     0.         -5.3333      0.          0.          1.          0.0667\n",
      "     -18.          0.          0.    ]\n",
      " [     0.         -1.          0.          0.          0.          0.\n",
      "       0.          1.       -100.    ]]\n",
      "\n",
      "r = 4 -> row no. 4 of x_B part ( x7 )\n",
      "y_r\n",
      "[-1.  0.  0.  0.  0.  0.  1.]\n",
      "\n",
      "k = 1 -> column no. 1 of x part ( x1 )\n",
      "min_quotient\n",
      "6.666666666666643\n",
      "\n",
      "pivot = -1.0\n",
      "\n",
      "Pivoted tableau\n",
      "[[     1.          0.          0.          0.          0.         -0.6667\n",
      "       0.         -6.6667 -39333.3333]\n",
      " [     0.          0.          1.         -0.          0.          0.0333\n",
      "      -4.         -0.6667     66.6667]\n",
      " [     0.          0.          0.          1.          0.         -0.0333\n",
      "       5.          1.6667    333.3333]\n",
      " [     0.          0.          0.          0.          1.          0.0667\n",
      "     -18.         -5.3333    533.3333]\n",
      " [    -0.          1.         -0.         -0.         -0.         -0.\n",
      "      -0.         -1.        100.    ]]\n",
      "\n",
      "\u001b[94m x1 enters\u001b[0m and \u001b[91m x7 leaves\u001b[0m the basis\n",
      "\n",
      "\n",
      "\u001b[1mIteration  2 \u001b[0m\n",
      "[\u001b[94m x_B \u001b[0m, \u001b[91m x_N \u001b[0m] = [ \u001b[94mx2, x3, x4, x1\u001b[0m, \u001b[91mx7, x5, x6\u001b[0m ]\n",
      "\n",
      "\n",
      "Entry tableau\n",
      "[[     1.          0.          0.          0.          0.         -0.6667\n",
      "       0.         -6.6667 -39333.3333]\n",
      " [     0.          0.          1.         -0.          0.          0.0333\n",
      "      -4.         -0.6667     66.6667]\n",
      " [     0.          0.          0.          1.          0.         -0.0333\n",
      "       5.          1.6667    333.3333]\n",
      " [     0.          0.          0.          0.          1.          0.0667\n",
      "     -18.         -5.3333    533.3333]\n",
      " [    -0.          1.         -0.         -0.         -0.         -0.\n",
      "      -0.         -1.        100.    ]]\n",
      "\n",
      "\n",
      "\u001b[1mOptimality reached\u001b[0m\n",
      "\n",
      "The optimal primal solution is\n",
      "\u001b[92m[ x2, x3, x4, x1, x7, x5, x6 ] = [ 66.6667, 333.3333, 533.3333, 100.0, 0.0, 0.0, 0.0 ]\u001b[0m\n",
      "\n",
      "With performance z = -39333.33333333333\n",
      "\n",
      "And the optimal dual solution is\n",
      "\u001b[92m[ w1, w2, w3, w4 ] = [ 0.0, 0.6667, -0.0, 6.6667 ]\u001b[0m\n",
      "\n",
      "\n"
     ]
    },
    {
     "data": {
      "text/plain": [
       "(array([100.    ,  66.6667, 333.3333, 533.3333,   0.    ,   0.    ,\n",
       "          0.    ]),\n",
       " array([ 0.    ,  0.6667, -0.    ,  6.6667]))"
      ]
     },
     "execution_count": 90,
     "metadata": {},
     "output_type": "execute_result"
    }
   ],
   "source": [
    "dual_simplex_tableau(copy.deepcopy(tableau), copy.deepcopy(variables), copy.deepcopy(basic_indexes), copy.deepcopy(non_basic_indexes), copy.deepcopy(slack_indexes))"
   ]
  },
  {
   "cell_type": "code",
   "execution_count": null,
   "id": "ed2869a5",
   "metadata": {},
   "outputs": [],
   "source": []
  },
  {
   "cell_type": "code",
   "execution_count": null,
   "id": "63e0d735",
   "metadata": {},
   "outputs": [],
   "source": []
  }
 ],
 "metadata": {
  "kernelspec": {
   "display_name": "Python 3 (ipykernel)",
   "language": "python",
   "name": "python3"
  },
  "language_info": {
   "codemirror_mode": {
    "name": "ipython",
    "version": 3
   },
   "file_extension": ".py",
   "mimetype": "text/x-python",
   "name": "python",
   "nbconvert_exporter": "python",
   "pygments_lexer": "ipython3",
   "version": "3.9.12"
  }
 },
 "nbformat": 4,
 "nbformat_minor": 5
}
