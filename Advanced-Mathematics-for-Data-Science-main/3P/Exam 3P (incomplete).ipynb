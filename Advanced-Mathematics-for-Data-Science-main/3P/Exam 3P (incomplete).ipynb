{
 "cells": [
  {
   "cell_type": "code",
   "execution_count": 1,
   "id": "897797b9",
   "metadata": {},
   "outputs": [
    {
     "data": {
      "text/html": [
       "<style>.container { width:100% !important; }</style>"
      ],
      "text/plain": [
       "<IPython.core.display.HTML object>"
      ]
     },
     "metadata": {},
     "output_type": "display_data"
    }
   ],
   "source": [
    "from IPython.display import display, HTML\n",
    "display(HTML(\"<style>.container { width:100% !important; }</style>\"))"
   ]
  },
  {
   "cell_type": "code",
   "execution_count": 2,
   "id": "12ca9f5c",
   "metadata": {},
   "outputs": [],
   "source": [
    "import numpy as np\n",
    "import copy\n",
    "from tabulate import tabulate\n",
    "\n",
    "# Settings for printing numpy arrays\n",
    "np.set_printoptions(precision=4, edgeitems=50, suppress=True)\n",
    "np.core.arrayprint._line_width = 250"
   ]
  },
  {
   "cell_type": "markdown",
   "id": "f9fee5e7",
   "metadata": {},
   "source": [
    "# Third Partial Exam\n",
    "\n",
    "**Ojeda Contreras Braulio Melquisedec**\n",
    "\n",
    "**January 13th, 2022**"
   ]
  },
  {
   "cell_type": "markdown",
   "id": "c10499c5",
   "metadata": {},
   "source": [
    "## Exercise 1"
   ]
  },
  {
   "cell_type": "markdown",
   "id": "0e76ad49",
   "metadata": {},
   "source": [
    "$$Minimize \\hspace{0.5cm} \\lambda^2 + 2\\lambda$$\n",
    "$$subject\\hspace{0.1cm}to \\hspace{0.5cm} -3 \\leq \\lambda \\leq 6$$\n",
    "\n",
    "Construct 6 iterations of the bisection method, and show all the resultant parameters of each iteration."
   ]
  },
  {
   "cell_type": "code",
   "execution_count": 3,
   "id": "be8e86eb",
   "metadata": {},
   "outputs": [],
   "source": [
    "a_1 = -3\n",
    "b_1 = 6\n",
    "l = 0.2"
   ]
  },
  {
   "cell_type": "code",
   "execution_count": 4,
   "id": "c1339a8a",
   "metadata": {},
   "outputs": [],
   "source": [
    "flag_n = True\n",
    "n = 1\n",
    "while flag_n:\n",
    "    if (1 / 2) ** n <= l / (b_1 - a_1):\n",
    "        flag_n = False\n",
    "    else:\n",
    "        n += 1"
   ]
  },
  {
   "cell_type": "code",
   "execution_count": 5,
   "id": "56e12eb0",
   "metadata": {},
   "outputs": [],
   "source": [
    "f_d = '2*x + 2'"
   ]
  },
  {
   "cell_type": "code",
   "execution_count": 6,
   "id": "acececea",
   "metadata": {},
   "outputs": [],
   "source": [
    "def bisection_search_method(a_1, b_1, f_d, n):\n",
    "    k = 1\n",
    "    a_i = [a_1]\n",
    "    b_i = [b_1]\n",
    "    lambdas = list()\n",
    "    evals_f_d = list()\n",
    "    flag = True\n",
    "    f_d = f_d.replace('x', 'lambda_k')\n",
    "    \n",
    "    \n",
    "    while (flag):\n",
    "        \n",
    "        lambda_k = (1 / 2) * (a_i[k - 1] + b_i[k - 1])\n",
    "        lambdas.append(lambda_k)\n",
    "        \n",
    "        eval_f_d = eval(f_d)\n",
    "        evals_f_d.append(eval_f_d)\n",
    "        \n",
    "        if eval_f_d == 0:\n",
    "            print('\\nlambda_' + str(k) + ' = ' + str(lambda_k) + ' is optimal')\n",
    "            flag = False\n",
    "        elif eval_f_d > 0:\n",
    "            a_i.append(a_i[k - 1])\n",
    "            b_i.append(lambda_k)\n",
    "        else:\n",
    "            a_i.append(lambda_k)\n",
    "            b_i.append(b_i[k - 1])\n",
    "\n",
    "        if k == n:\n",
    "            print('\\nThe minimum lies in the interval [' + str(a_i[-1]) + ', ' + str(b_i[-1]) + ']\\n')\n",
    "            flag = False\n",
    "            lambdas.append(None)\n",
    "            evals_f_d.append(None)\n",
    "        else:\n",
    "            k += 1\n",
    "    \n",
    "    results = [[i + 1, a_i[i], b_i[i], lambdas[i], evals_f_d[i]] for i in range(len(a_i))]\n",
    "    print(tabulate(results, headers = ['Iteration k', 'a_k', 'b_k', 'lambda_k', 'theta_d(lambda_k)'],\n",
    "                   tablefmt = 'fancy_grid', numalign = 'center'))\n",
    "    \n",
    "    return results"
   ]
  },
  {
   "cell_type": "code",
   "execution_count": 7,
   "id": "40ba6e74",
   "metadata": {},
   "outputs": [
    {
     "name": "stdout",
     "output_type": "stream",
     "text": [
      "\n",
      "The minimum lies in the interval [-1.03125, -0.890625]\n",
      "\n",
      "╒═══════════════╤══════════╤═══════════╤════════════╤═════════════════════╕\n",
      "│  Iteration k  │   a_k    │    b_k    │  lambda_k  │  theta_d(lambda_k)  │\n",
      "╞═══════════════╪══════════╪═══════════╪════════════╪═════════════════════╡\n",
      "│       1       │    -3    │     6     │    1.5     │          5          │\n",
      "├───────────────┼──────────┼───────────┼────────────┼─────────────────────┤\n",
      "│       2       │    -3    │    1.5    │   -0.75    │         0.5         │\n",
      "├───────────────┼──────────┼───────────┼────────────┼─────────────────────┤\n",
      "│       3       │    -3    │   -0.75   │   -1.875   │        -1.75        │\n",
      "├───────────────┼──────────┼───────────┼────────────┼─────────────────────┤\n",
      "│       4       │  -1.875  │   -0.75   │  -1.3125   │       -0.625        │\n",
      "├───────────────┼──────────┼───────────┼────────────┼─────────────────────┤\n",
      "│       5       │ -1.3125  │   -0.75   │  -1.03125  │       -0.0625       │\n",
      "├───────────────┼──────────┼───────────┼────────────┼─────────────────────┤\n",
      "│       6       │ -1.03125 │   -0.75   │ -0.890625  │       0.21875       │\n",
      "├───────────────┼──────────┼───────────┼────────────┼─────────────────────┤\n",
      "│       7       │ -1.03125 │ -0.890625 │            │                     │\n",
      "╘═══════════════╧══════════╧═══════════╧════════════╧═════════════════════╛\n"
     ]
    }
   ],
   "source": [
    "results = bisection_search_method(a_1, b_1, f_d, n)"
   ]
  },
  {
   "cell_type": "markdown",
   "id": "e724bbb1",
   "metadata": {},
   "source": [
    "## Exercise 2"
   ]
  },
  {
   "cell_type": "markdown",
   "id": "729968c5",
   "metadata": {},
   "source": [
    "Consider the following problem\n",
    "\n",
    "$$Minimize \\hspace{0.5cm}(x_1 - 2)^4 + (x_1 - 2x_2)^2$$\n",
    "\n",
    "Construct the first 15 iterations of the Steepest Descent Method, applied to the previous problem, considering as starting point the point $(0, 3)$. Present the calculated parameters in each iteration."
   ]
  },
  {
   "cell_type": "code",
   "execution_count": 8,
   "id": "97270b18",
   "metadata": {},
   "outputs": [],
   "source": [
    "import scipy.optimize as optimize"
   ]
  },
  {
   "cell_type": "code",
   "execution_count": 9,
   "id": "14865b65",
   "metadata": {},
   "outputs": [],
   "source": [
    "f = \"(x1 - 2) ** 4 + (x1 - 2 * x2) ** 2\""
   ]
  },
  {
   "cell_type": "code",
   "execution_count": 10,
   "id": "a04825e4",
   "metadata": {},
   "outputs": [],
   "source": [
    "grad_f = [\"4 * (x1 - 2) ** 3 + 2 * (x1 - 2 * x2)\", \"2 * (x1 - 2 * x2) * (-2)\"]"
   ]
  },
  {
   "cell_type": "code",
   "execution_count": 11,
   "id": "85f37186",
   "metadata": {},
   "outputs": [],
   "source": [
    "variables = ['x1', 'x2']"
   ]
  },
  {
   "cell_type": "code",
   "execution_count": 12,
   "id": "cdd3cb0f",
   "metadata": {},
   "outputs": [],
   "source": [
    "starting_point = [0, 3]"
   ]
  },
  {
   "cell_type": "code",
   "execution_count": 13,
   "id": "d8f78c37",
   "metadata": {},
   "outputs": [],
   "source": [
    "itera = 15\n",
    "epsilon = 10^(-10)"
   ]
  },
  {
   "cell_type": "code",
   "execution_count": 14,
   "id": "0fa59123",
   "metadata": {},
   "outputs": [],
   "source": [
    "def steepest_des_method(f, grad_f, variables, starting_point, itera, epsilon):\n",
    "    x = list()\n",
    "    f_x = list()\n",
    "    grad_f_x = list()\n",
    "    norm_grad_f_x = list()\n",
    "    d = list()\n",
    "    lambdas = list()\n",
    "    x_next = list()\n",
    "    \n",
    "    x_k = starting_point\n",
    "    \n",
    "    auxf = f\n",
    "    for i in range(len(variables)):\n",
    "        f = f.replace(variables[i], 'x_k[{}]'.format(i))\n",
    "        \n",
    "    for i in range(len(grad_f)):\n",
    "        for j in range(len(variables)):\n",
    "            grad_f[i] = grad_f[i].replace(variables[j], 'x_k[{}]'.format(j))\n",
    "    \n",
    "    for k in range(1, itera + 1):\n",
    "        x.append(x_k)\n",
    "        \n",
    "        f_x_k = round(eval(f), 4)\n",
    "        f_x.append(f_x_k)\n",
    "        \n",
    "        grad_f_x_k = list()\n",
    "        for i in range(len(grad_f)):\n",
    "            grad_f_x_k.append(round(eval(grad_f[i]), 4))\n",
    "        grad_f_x.append(grad_f_x_k)\n",
    "        \n",
    "        norm_grad_f_x_k = round(np.linalg.norm(np.array(grad_f_x_k)), 4)\n",
    "        norm_grad_f_x.append(norm_grad_f_x_k)\n",
    "        \n",
    "        if norm_grad_f_x_k < epsilon:\n",
    "            d.append(None)\n",
    "            lambdas.append(None)\n",
    "            x_next.append(None)\n",
    "            break\n",
    "        \n",
    "        else:\n",
    "            d_k = [-elem for elem in grad_f_x_k]\n",
    "            d.append(d_k)\n",
    "\n",
    "            auxf_min = auxf\n",
    "            for i in range(len(variables)):\n",
    "                auxf_min = auxf_min.replace(variables[i], '({} + {} * l)'.format(x_k[i], d_k[i]))\n",
    "            \n",
    "            fun = lambda l: eval(auxf_min)\n",
    "            initial_guess = find_init_guess_minimize_auxf(auxf_min, x, d)\n",
    "            lambda_k = round(optimize.minimize(fun, initial_guess).x[0], 4)\n",
    "            lambdas.append(lambda_k)\n",
    "\n",
    "            x_k_next = list()\n",
    "            for i in range(len(variables)):\n",
    "                x_k_next.append(round(x_k[i] + lambda_k * d_k[i], 4))\n",
    "                #x_k_next.append(round(x_k[i] + lambda_k * d_k[i], 2))\n",
    "            x_next.append(x_k_next)\n",
    "\n",
    "            x_k = x_k_next\n",
    "    \n",
    "    results = [[i + 1, x[i], f_x[i], grad_f_x[i], norm_grad_f_x[i], d[i], lambdas[i], x_next[i]] for i in range(len(x))]\n",
    "    print(tabulate(results, headers = ['Iteration k', 'x_k', 'f(x_k)', 'grad_f(x_k)', '||grad_f(x_k)||', 'd_k', 'lambda_k', 'x_k+1'],\n",
    "                   tablefmt = 'fancy_grid', numalign = 'center'))\n",
    "    \n",
    "    return results"
   ]
  },
  {
   "cell_type": "code",
   "execution_count": 15,
   "id": "6622de9c",
   "metadata": {},
   "outputs": [],
   "source": [
    "def find_init_guess_minimize_auxf(auxf, x, d):\n",
    "    lim_inf = -1\n",
    "    lim_sup = 1000\n",
    "    l = lim_inf\n",
    "    auxf_evals = [eval(auxf)]\n",
    "    possible_mins = list()\n",
    "    behavior = list()\n",
    "    \n",
    "    j = 1\n",
    "    for i in np.arange(lim_inf + 1, lim_sup + 1, 0.1):\n",
    "        l = i\n",
    "        auxf_evals.append(eval(auxf))\n",
    "        if auxf_evals[j] < auxf_evals[j - 1]: # Decreasing\n",
    "            behavior.append(-1)\n",
    "        else: # Increasing\n",
    "            behavior.append(1)\n",
    "        \n",
    "        if j > 2 and behavior[j - 1] != behavior[j - 2]:\n",
    "            possible_mins.append(l)\n",
    "        \n",
    "        j += 1\n",
    "    \n",
    "    possible_mins = np.array(possible_mins)\n",
    "    pos_min = np.argmin(possible_mins)  \n",
    "    \n",
    "    return possible_mins[pos_min]"
   ]
  },
  {
   "cell_type": "code",
   "execution_count": 16,
   "id": "21fc1e7c",
   "metadata": {},
   "outputs": [
    {
     "name": "stdout",
     "output_type": "stream",
     "text": [
      "╒═══════════════╤══════════════════╤══════════╤═══════════════════╤═══════════════════╤════════════════════╤════════════╤══════════════════╕\n",
      "│  Iteration k  │ x_k              │  f(x_k)  │ grad_f(x_k)       │  ||grad_f(x_k)||  │ d_k                │  lambda_k  │ x_k+1            │\n",
      "╞═══════════════╪══════════════════╪══════════╪═══════════════════╪═══════════════════╪════════════════════╪════════════╪══════════════════╡\n",
      "│       1       │ [0, 3]           │    52    │ [-44, 24]         │      50.1199      │ [44, -24]          │   0.0615   │ [2.706, 1.524]   │\n",
      "├───────────────┼──────────────────┼──────────┼───────────────────┼───────────────────┼────────────────────┼────────────┼──────────────────┤\n",
      "│       2       │ [2.706, 1.524]   │  0.3654  │ [0.7236, 1.368]   │      1.5476       │ [-0.7236, -1.368]  │   0.2268   │ [2.5419, 1.2137] │\n",
      "├───────────────┼──────────────────┼──────────┼───────────────────┼───────────────────┼────────────────────┼────────────┼──────────────────┤\n",
      "│       3       │ [2.5419, 1.2137] │  0.0993  │ [0.8655, -0.458]  │      0.9792       │ [-0.8655, 0.458]   │   0.1123   │ [2.4447, 1.2651] │\n",
      "├───────────────┼──────────────────┼──────────┼───────────────────┼───────────────────┼────────────────────┼────────────┼──────────────────┤\n",
      "│       4       │ [2.4447, 1.2651] │  0.0464  │ [0.1808, 0.342]   │      0.3868       │ [-0.1808, -0.342]  │   0.2598   │ [2.3977, 1.1762] │\n",
      "├───────────────┼──────────────────┼──────────┼───────────────────┼───────────────────┼────────────────────┼────────────┼──────────────────┤\n",
      "│       5       │ [2.3977, 1.1762] │  0.0271  │ [0.3422, -0.1812] │      0.3872       │ [-0.3422, 0.1812]  │   0.1258   │ [2.3547, 1.199]  │\n",
      "├───────────────┼──────────────────┼──────────┼───────────────────┼───────────────────┼────────────────────┼────────────┼──────────────────┤\n",
      "│       6       │ [2.3547, 1.199]  │  0.0177  │ [0.0919, 0.1732]  │      0.1961       │ [-0.0919, -0.1732] │   0.2719   │ [2.3297, 1.1519] │\n",
      "├───────────────┼──────────────────┼──────────┼───────────────────┼───────────────────┼────────────────────┼────────────┼──────────────────┤\n",
      "│       7       │ [2.3297, 1.1519] │  0.0125  │ [0.1952, -0.1036] │       0.221       │ [-0.1952, 0.1036]  │   0.132    │ [2.3039, 1.1656] │\n",
      "├───────────────┼──────────────────┼──────────┼───────────────────┼───────────────────┼────────────────────┼────────────┼──────────────────┤\n",
      "│       8       │ [2.3039, 1.1656] │  0.0093  │ [0.0577, 0.1092]  │      0.1235       │ [-0.0577, -0.1092] │   0.2766   │ [2.2879, 1.1354] │\n",
      "├───────────────┼──────────────────┼──────────┼───────────────────┼───────────────────┼────────────────────┼────────────┼──────────────────┤\n",
      "│       9       │ [2.2879, 1.1354] │  0.0072  │ [0.1297, -0.0684] │      0.1466       │ [-0.1297, 0.0684]  │   0.1362   │ [2.2702, 1.1447] │\n",
      "├───────────────┼──────────────────┼──────────┼───────────────────┼───────────────────┼────────────────────┼────────────┼──────────────────┤\n",
      "│      10       │ [2.2702, 1.1447] │  0.0057  │ [0.0405, 0.0768]  │      0.0868       │ [-0.0405, -0.0768] │   0.2796   │ [2.2589, 1.1232] │\n",
      "├───────────────┼──────────────────┼──────────┼───────────────────┼───────────────────┼────────────────────┼────────────┼──────────────────┤\n",
      "│      11       │ [2.2589, 1.1232] │  0.0046  │ [0.0944, -0.05]   │      0.1068       │ [-0.0944, 0.05]    │   0.1384   │ [2.2458, 1.1301] │\n",
      "├───────────────┼──────────────────┼──────────┼───────────────────┼───────────────────┼────────────────────┼────────────┼──────────────────┤\n",
      "│      12       │ [2.2458, 1.1301] │  0.0039  │ [0.0306, 0.0576]  │      0.0652       │ [-0.0306, -0.0576] │   0.2841   │ [2.2371, 1.1137] │\n",
      "├───────────────┼──────────────────┼──────────┼───────────────────┼───────────────────┼────────────────────┼────────────┼──────────────────┤\n",
      "│      13       │ [2.2371, 1.1137] │  0.0033  │ [0.0727, -0.0388] │      0.0824       │ [-0.0727, 0.0388]  │   0.1398   │ [2.2269, 1.1191] │\n",
      "├───────────────┼──────────────────┼──────────┼───────────────────┼───────────────────┼────────────────────┼────────────┼──────────────────┤\n",
      "│      14       │ [2.2269, 1.1191] │  0.0028  │ [0.0241, 0.0452]  │      0.0512       │ [-0.0241, -0.0452] │   0.2871   │ [2.22, 1.1061]   │\n",
      "├───────────────┼──────────────────┼──────────┼───────────────────┼───────────────────┼────────────────────┼────────────┼──────────────────┤\n",
      "│      15       │ [2.22, 1.1061]   │  0.0024  │ [0.0582, -0.0312] │       0.066       │ [-0.0582, 0.0312]  │   0.1407   │ [2.2118, 1.1105] │\n",
      "╘═══════════════╧══════════════════╧══════════╧═══════════════════╧═══════════════════╧════════════════════╧════════════╧══════════════════╛\n"
     ]
    }
   ],
   "source": [
    "results = steepest_des_method(f, grad_f, variables, starting_point, itera, epsilon)"
   ]
  },
  {
   "cell_type": "markdown",
   "id": "4c7b40cb",
   "metadata": {},
   "source": [
    "## Exercise 3"
   ]
  },
  {
   "cell_type": "markdown",
   "id": "8b20285e",
   "metadata": {},
   "source": [
    "Construct the first 15 iterations of Newton's method applied to the problem of **Exercise 2**, considering as starting point $(0, 3)$. Present the parameters calculated at each iteration."
   ]
  },
  {
   "cell_type": "code",
   "execution_count": 17,
   "id": "93949706",
   "metadata": {},
   "outputs": [],
   "source": [
    "from sympy import symbols, Eq, solve, log"
   ]
  },
  {
   "cell_type": "code",
   "execution_count": 18,
   "id": "d72bf6cb",
   "metadata": {},
   "outputs": [],
   "source": [
    "def partial(element, function):\n",
    "    partial_diff = function.diff(element)\n",
    "    \n",
    "    return partial_diff\n",
    "\n",
    "def gradient(partials):\n",
    "    grad = np.matrix([[partials[0]], [partials[1]]])\n",
    "\n",
    "    return grad\n",
    "\n",
    "def hessian(partials_second, cross_derivatives):\n",
    "    hessianmat = np.matrix([[partials_second[0], cross_derivatives], [cross_derivatives, partials_second[1]]])\n",
    "    \n",
    "    return hessianmat"
   ]
  },
  {
   "cell_type": "code",
   "execution_count": 19,
   "id": "826bf8e8",
   "metadata": {},
   "outputs": [
    {
     "name": "stdout",
     "output_type": "stream",
     "text": [
      "[['2*x - 1.5*y']\n",
      " ['-1.5*x + 2*y']]\n"
     ]
    },
    {
     "ename": "AttributeError",
     "evalue": "'str' object has no attribute 'diff'",
     "output_type": "error",
     "traceback": [
      "\u001b[1;31m---------------------------------------------------------------------------\u001b[0m",
      "\u001b[1;31mAttributeError\u001b[0m                            Traceback (most recent call last)",
      "Input \u001b[1;32mIn [19]\u001b[0m, in \u001b[0;36m<cell line: 13>\u001b[1;34m()\u001b[0m\n\u001b[0;32m     10\u001b[0m grad \u001b[38;5;241m=\u001b[39m gradient(partials)\n\u001b[0;32m     11\u001b[0m \u001b[38;5;28mprint\u001b[39m(grad)\n\u001b[1;32m---> 13\u001b[0m cross_derivatives \u001b[38;5;241m=\u001b[39m \u001b[43mpartial\u001b[49m\u001b[43m(\u001b[49m\u001b[43msymbols_list\u001b[49m\u001b[43m[\u001b[49m\u001b[38;5;241;43m0\u001b[39;49m\u001b[43m]\u001b[49m\u001b[43m,\u001b[49m\u001b[43m \u001b[49m\u001b[43mpartials\u001b[49m\u001b[43m[\u001b[49m\u001b[38;5;241;43m1\u001b[39;49m\u001b[43m]\u001b[49m\u001b[43m)\u001b[49m\n\u001b[0;32m     15\u001b[0m \u001b[38;5;28;01mfor\u001b[39;00m i \u001b[38;5;129;01min\u001b[39;00m \u001b[38;5;28mrange\u001b[39m(\u001b[38;5;241m0\u001b[39m, \u001b[38;5;28mlen\u001b[39m(symbols_list)):\n\u001b[0;32m     16\u001b[0m     partial_diff \u001b[38;5;241m=\u001b[39m partial(symbols_list[i], partials[i])\n",
      "Input \u001b[1;32mIn [18]\u001b[0m, in \u001b[0;36mpartial\u001b[1;34m(element, function)\u001b[0m\n\u001b[0;32m      1\u001b[0m \u001b[38;5;28;01mdef\u001b[39;00m \u001b[38;5;21mpartial\u001b[39m(element, function):\n\u001b[1;32m----> 2\u001b[0m     partial_diff \u001b[38;5;241m=\u001b[39m \u001b[43mfunction\u001b[49m\u001b[38;5;241;43m.\u001b[39;49m\u001b[43mdiff\u001b[49m(element)\n\u001b[0;32m      4\u001b[0m     \u001b[38;5;28;01mreturn\u001b[39;00m partial_diff\n",
      "\u001b[1;31mAttributeError\u001b[0m: 'str' object has no attribute 'diff'"
     ]
    }
   ],
   "source": [
    "x, y = symbols('x y')\n",
    "symbols_list = [x, y]\n",
    "function = x**2 - (3/2)*x*y + y**2\n",
    "partials, partials_second = [], []\n",
    "\n",
    "for element in symbols_list:\n",
    "    partial_diff = partial(element, function)\n",
    "    partials.append(str(partial_diff))\n",
    "\n",
    "grad = gradient(partials)\n",
    "print(grad)\n",
    "\n",
    "cross_derivatives = partial(symbols_list[0], partials[1])\n",
    "\n",
    "for i in range(0, len(symbols_list)):\n",
    "    partial_diff = partial(symbols_list[i], partials[i])\n",
    "    partials_second.append(partial_diff)\n",
    "\n",
    "hessianmat = hessian(partials_second, cross_derivatives)\n",
    "\n",
    "print(\"Hessian matrix that organizes all the second partial derivatives of the function {0} is :\\n {1}\".format(function, hessianmat))"
   ]
  },
  {
   "cell_type": "code",
   "execution_count": null,
   "id": "5d680410",
   "metadata": {},
   "outputs": [],
   "source": [
    "def newton_method_multivariable():\n",
    "    "
   ]
  },
  {
   "cell_type": "code",
   "execution_count": null,
   "id": "911c7af5",
   "metadata": {},
   "outputs": [],
   "source": []
  },
  {
   "cell_type": "code",
   "execution_count": null,
   "id": "ec2f1acf",
   "metadata": {},
   "outputs": [],
   "source": []
  },
  {
   "cell_type": "code",
   "execution_count": null,
   "id": "4bb5cc14",
   "metadata": {},
   "outputs": [],
   "source": []
  },
  {
   "cell_type": "code",
   "execution_count": null,
   "id": "f37d6c6f",
   "metadata": {},
   "outputs": [],
   "source": []
  },
  {
   "cell_type": "code",
   "execution_count": null,
   "id": "079cd73a",
   "metadata": {},
   "outputs": [],
   "source": []
  },
  {
   "cell_type": "code",
   "execution_count": null,
   "id": "759b8900",
   "metadata": {},
   "outputs": [],
   "source": []
  },
  {
   "cell_type": "code",
   "execution_count": null,
   "id": "5fb4077f",
   "metadata": {},
   "outputs": [],
   "source": []
  },
  {
   "cell_type": "code",
   "execution_count": null,
   "id": "b121c8ea",
   "metadata": {},
   "outputs": [],
   "source": []
  },
  {
   "cell_type": "code",
   "execution_count": null,
   "id": "fd68843a",
   "metadata": {},
   "outputs": [],
   "source": []
  },
  {
   "cell_type": "code",
   "execution_count": null,
   "id": "4e7ea2ff",
   "metadata": {},
   "outputs": [],
   "source": []
  },
  {
   "cell_type": "code",
   "execution_count": null,
   "id": "d4d5723d",
   "metadata": {},
   "outputs": [],
   "source": []
  },
  {
   "cell_type": "code",
   "execution_count": null,
   "id": "8ace227a",
   "metadata": {},
   "outputs": [],
   "source": []
  },
  {
   "cell_type": "code",
   "execution_count": null,
   "id": "b421f9e9",
   "metadata": {},
   "outputs": [],
   "source": []
  },
  {
   "cell_type": "code",
   "execution_count": null,
   "id": "85b2b706",
   "metadata": {},
   "outputs": [],
   "source": []
  }
 ],
 "metadata": {
  "kernelspec": {
   "display_name": "Python 3 (ipykernel)",
   "language": "python",
   "name": "python3"
  },
  "language_info": {
   "codemirror_mode": {
    "name": "ipython",
    "version": 3
   },
   "file_extension": ".py",
   "mimetype": "text/x-python",
   "name": "python",
   "nbconvert_exporter": "python",
   "pygments_lexer": "ipython3",
   "version": "3.9.12"
  }
 },
 "nbformat": 4,
 "nbformat_minor": 5
}
