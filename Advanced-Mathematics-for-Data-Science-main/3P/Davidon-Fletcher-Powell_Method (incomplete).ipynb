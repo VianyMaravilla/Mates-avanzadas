{
 "cells": [
  {
   "cell_type": "code",
   "execution_count": 1,
   "id": "d1b16e94",
   "metadata": {},
   "outputs": [],
   "source": [
    "import numpy as np"
   ]
  },
  {
   "cell_type": "code",
   "execution_count": 2,
   "id": "b08bc994",
   "metadata": {},
   "outputs": [],
   "source": [
    "D_1 = np.eye((2))"
   ]
  },
  {
   "cell_type": "code",
   "execution_count": 3,
   "id": "3c89e62b",
   "metadata": {},
   "outputs": [
    {
     "data": {
      "text/plain": [
       "array([[1., 0.],\n",
       "       [0., 1.]])"
      ]
     },
     "execution_count": 3,
     "metadata": {},
     "output_type": "execute_result"
    }
   ],
   "source": [
    "D_1"
   ]
  },
  {
   "cell_type": "code",
   "execution_count": 4,
   "id": "75aaf23e",
   "metadata": {},
   "outputs": [],
   "source": [
    "x_1 = np.array([0, 3])"
   ]
  },
  {
   "cell_type": "code",
   "execution_count": 5,
   "id": "d0c1b920",
   "metadata": {},
   "outputs": [],
   "source": [
    "y_1 = x_1"
   ]
  },
  {
   "cell_type": "code",
   "execution_count": 6,
   "id": "213aed65",
   "metadata": {},
   "outputs": [],
   "source": [
    "k = j = 1"
   ]
  },
  {
   "cell_type": "code",
   "execution_count": 7,
   "id": "f50ed555",
   "metadata": {},
   "outputs": [],
   "source": [
    "def grad_f(y_j):\n",
    "    x_1_var = y_j[0]\n",
    "    x_2_var = y_j[1]\n",
    "    return np.array([(4*(x_1_var - 2)**3) + 2*(x_1_var - 2*x_2_var), -4*(x_1_var - 2*x_2_var)])"
   ]
  },
  {
   "cell_type": "code",
   "execution_count": 10,
   "id": "8c2e8e7a",
   "metadata": {},
   "outputs": [],
   "source": [
    "d_1 = -1 * D_1 @ grad_f(y_1)"
   ]
  },
  {
   "cell_type": "code",
   "execution_count": 11,
   "id": "2fa43b10",
   "metadata": {},
   "outputs": [
    {
     "data": {
      "text/plain": [
       "array([ 44., -24.])"
      ]
     },
     "execution_count": 11,
     "metadata": {},
     "output_type": "execute_result"
    }
   ],
   "source": [
    "d_1"
   ]
  },
  {
   "cell_type": "code",
   "execution_count": 26,
   "id": "daac321f",
   "metadata": {},
   "outputs": [],
   "source": [
    "y_j = y_1\n",
    "d_j = d_1"
   ]
  },
  {
   "cell_type": "code",
   "execution_count": 37,
   "id": "6d8b76cd",
   "metadata": {},
   "outputs": [
    {
     "data": {
      "text/plain": [
       "array([0, 3])"
      ]
     },
     "execution_count": 37,
     "metadata": {},
     "output_type": "execute_result"
    }
   ],
   "source": [
    "y_j"
   ]
  },
  {
   "cell_type": "code",
   "execution_count": 38,
   "id": "065643b8",
   "metadata": {},
   "outputs": [
    {
     "data": {
      "text/plain": [
       "array([ 44., -24.])"
      ]
     },
     "execution_count": 38,
     "metadata": {},
     "output_type": "execute_result"
    }
   ],
   "source": [
    "d_j"
   ]
  },
  {
   "cell_type": "code",
   "execution_count": 27,
   "id": "6d2528ef",
   "metadata": {},
   "outputs": [],
   "source": [
    "fun = lambda l: (y_j[0] + d_j[0]*l - 2)**4 + (y_j[0] + d_j[0]*l - 2*(y_j[1] + d_j[1]*l))**2"
   ]
  },
  {
   "cell_type": "code",
   "execution_count": 60,
   "id": "050eb876",
   "metadata": {},
   "outputs": [],
   "source": [
    "initial_guess = np.array([0.1])"
   ]
  },
  {
   "cell_type": "code",
   "execution_count": 61,
   "id": "fe3b2e85",
   "metadata": {},
   "outputs": [],
   "source": [
    "import scipy.optimize as optimize"
   ]
  },
  {
   "cell_type": "code",
   "execution_count": 62,
   "id": "e101bdcb",
   "metadata": {},
   "outputs": [],
   "source": [
    "result = optimize.minimize(fun, initial_guess)"
   ]
  },
  {
   "cell_type": "code",
   "execution_count": 63,
   "id": "08116f47",
   "metadata": {},
   "outputs": [
    {
     "data": {
      "text/plain": [
       "      fun: 0.3653851152616475\n",
       " hess_inv: array([[3.50153428e-05]])\n",
       "      jac: array([0.])\n",
       "  message: 'Optimization terminated successfully.'\n",
       "     nfev: 22\n",
       "      nit: 8\n",
       "     njev: 11\n",
       "   status: 0\n",
       "  success: True\n",
       "        x: array([0.06153484])"
      ]
     },
     "execution_count": 63,
     "metadata": {},
     "output_type": "execute_result"
    }
   ],
   "source": [
    "result"
   ]
  },
  {
   "cell_type": "code",
   "execution_count": 64,
   "id": "8e7d4137",
   "metadata": {},
   "outputs": [
    {
     "name": "stdout",
     "output_type": "stream",
     "text": [
      "[0.06153484]\n"
     ]
    }
   ],
   "source": [
    "if result.success:\n",
    "    fitted_params = result.x\n",
    "    print(fitted_params)\n",
    "else:\n",
    "    raise ValueError(result.message)"
   ]
  },
  {
   "cell_type": "code",
   "execution_count": null,
   "id": "1c8d27a1",
   "metadata": {},
   "outputs": [],
   "source": [
    "y_2 = y_1"
   ]
  },
  {
   "cell_type": "code",
   "execution_count": null,
   "id": "dc5c0d82",
   "metadata": {},
   "outputs": [],
   "source": []
  },
  {
   "cell_type": "code",
   "execution_count": null,
   "id": "1dccf63e",
   "metadata": {},
   "outputs": [],
   "source": []
  },
  {
   "cell_type": "code",
   "execution_count": null,
   "id": "c781083c",
   "metadata": {},
   "outputs": [],
   "source": []
  },
  {
   "cell_type": "code",
   "execution_count": null,
   "id": "f6330217",
   "metadata": {},
   "outputs": [],
   "source": []
  },
  {
   "cell_type": "code",
   "execution_count": null,
   "id": "158bdfdc",
   "metadata": {},
   "outputs": [],
   "source": []
  },
  {
   "cell_type": "code",
   "execution_count": null,
   "id": "108321c9",
   "metadata": {},
   "outputs": [],
   "source": []
  },
  {
   "cell_type": "code",
   "execution_count": null,
   "id": "f4c25e75",
   "metadata": {},
   "outputs": [],
   "source": []
  },
  {
   "cell_type": "code",
   "execution_count": null,
   "id": "87823904",
   "metadata": {},
   "outputs": [],
   "source": []
  },
  {
   "cell_type": "code",
   "execution_count": null,
   "id": "b9879b9b",
   "metadata": {},
   "outputs": [],
   "source": []
  },
  {
   "cell_type": "code",
   "execution_count": null,
   "id": "028f2635",
   "metadata": {},
   "outputs": [],
   "source": []
  },
  {
   "cell_type": "code",
   "execution_count": null,
   "id": "9d90c68d",
   "metadata": {},
   "outputs": [],
   "source": []
  },
  {
   "cell_type": "code",
   "execution_count": null,
   "id": "951665d7",
   "metadata": {},
   "outputs": [],
   "source": []
  },
  {
   "cell_type": "code",
   "execution_count": null,
   "id": "b5589e77",
   "metadata": {},
   "outputs": [],
   "source": []
  },
  {
   "cell_type": "code",
   "execution_count": null,
   "id": "b19854cb",
   "metadata": {},
   "outputs": [],
   "source": []
  },
  {
   "cell_type": "code",
   "execution_count": null,
   "id": "ecc3d971",
   "metadata": {},
   "outputs": [],
   "source": []
  }
 ],
 "metadata": {
  "kernelspec": {
   "display_name": "Python 3 (ipykernel)",
   "language": "python",
   "name": "python3"
  },
  "language_info": {
   "codemirror_mode": {
    "name": "ipython",
    "version": 3
   },
   "file_extension": ".py",
   "mimetype": "text/x-python",
   "name": "python",
   "nbconvert_exporter": "python",
   "pygments_lexer": "ipython3",
   "version": "3.9.12"
  }
 },
 "nbformat": 4,
 "nbformat_minor": 5
}
