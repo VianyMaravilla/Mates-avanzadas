{
 "cells": [
  {
   "cell_type": "markdown",
   "id": "ef5cd3fe",
   "metadata": {},
   "source": [
    "## Maravilla Pérez Vianey\n",
    "## 5AM1\n",
    "\n",
    "**Problema 2: Resuelva el problema anterior utilizando una implementación propia del método dual simplex**\n",
    "\n",
    "*Minimize*\n",
    "<br>\n",
    "<br>\n",
    "<t> $2_x1 + 3_x2 + 5_x3 + 6_x4$\n",
    "<br>\n",
    "    <br>\n",
    "*Subject to*\n",
    "<br> \n",
    "    <br>\n",
    "<t> $x_1 + 2_x2 + 3_x3 + x_4 >= 2$\n",
    "<br>\n",
    "    <br>\n",
    "<t> $-2_x1 +  x_2 - x_3  + 3_x4 <= -3$\n",
    "<br>\n",
    "    <br>\n",
    "<t> $x_1, x_2, x_3, x_4 >= 0$"
   ]
  },
  {
   "cell_type": "code",
   "execution_count": 1,
   "id": "9be170cb",
   "metadata": {},
   "outputs": [
    {
     "ename": "ModuleNotFoundError",
     "evalue": "No module named 'dual_simplex'",
     "output_type": "error",
     "traceback": [
      "\u001b[1;31m---------------------------------------------------------------------------\u001b[0m",
      "\u001b[1;31mModuleNotFoundError\u001b[0m                       Traceback (most recent call last)",
      "Input \u001b[1;32mIn [1]\u001b[0m, in \u001b[0;36m<cell line: 1>\u001b[1;34m()\u001b[0m\n\u001b[1;32m----> 1\u001b[0m \u001b[38;5;28;01mfrom\u001b[39;00m \u001b[38;5;21;01mdual_simplex\u001b[39;00m \u001b[38;5;28;01mimport\u001b[39;00m to_objective_function_value,simplex,dual_simplex_method\n",
      "\u001b[1;31mModuleNotFoundError\u001b[0m: No module named 'dual_simplex'"
     ]
    }
   ],
   "source": [
    "from dual_simplex import to_objective_function_value,simplex,dual_simplex_method"
   ]
  },
  {
   "cell_type": "code",
   "execution_count": null,
   "id": "26db4773",
   "metadata": {},
   "outputs": [],
   "source": [
    "c3 = [2,3,5,6,0,0]\n",
    "A3 = [\n",
    "    [1,2,3,1,1,0],\n",
    "    [2,-1,1,-3,0,1]\n",
    "    ]\n",
    "b3 = [2,3]\n",
    "\n",
    "primal3 = to_objective_function_value(c3, simplex(c3, A3, b3))\n",
    "print('Primal: ', primal3)"
   ]
  },
  {
   "cell_type": "code",
   "execution_count": null,
   "id": "2a2e10bd",
   "metadata": {},
   "outputs": [],
   "source": [
    "simplex(c3, A3, b3)"
   ]
  },
  {
   "cell_type": "code",
   "execution_count": null,
   "id": "b5fd3c0e",
   "metadata": {},
   "outputs": [],
   "source": [
    "ca = [2,-3,0,0,0,0]\n",
    "Aa = [\n",
    "    [-1,2,1,0,0,0],\n",
    "    [-2,-1,0,1,0,0],\n",
    "    [-3,1,0,0,1,0],\n",
    "    [-1,-3,0,0,0,1]\n",
    "]\n",
    "ba = [-2,-3,-5,-6]\n",
    "\n",
    "dualb = to_objective_function_value(ca, dual_simplex_method(ca, Aa, ba))\n",
    "print('Dual: ', dualb)"
   ]
  },
  {
   "cell_type": "code",
   "execution_count": null,
   "id": "f9a1ad9c",
   "metadata": {},
   "outputs": [],
   "source": [
    "dual_simplex_method(ca, Aa, ba)"
   ]
  },
  {
   "cell_type": "code",
   "execution_count": null,
   "id": "a1ca5592",
   "metadata": {},
   "outputs": [],
   "source": [
    "#####################################"
   ]
  }
 ],
 "metadata": {
  "kernelspec": {
   "display_name": "Python 3 (ipykernel)",
   "language": "python",
   "name": "python3"
  },
  "language_info": {
   "codemirror_mode": {
    "name": "ipython",
    "version": 3
   },
   "file_extension": ".py",
   "mimetype": "text/x-python",
   "name": "python",
   "nbconvert_exporter": "python",
   "pygments_lexer": "ipython3",
   "version": "3.9.12"
  }
 },
 "nbformat": 4,
 "nbformat_minor": 5
}
