{
 "cells": [
  {
   "cell_type": "markdown",
   "id": "cd05d886",
   "metadata": {},
   "source": [
    "# Dual Simplex"
   ]
  },
  {
   "cell_type": "code",
   "execution_count": 1,
   "id": "140a7639",
   "metadata": {},
   "outputs": [
    {
     "name": "stdout",
     "output_type": "stream",
     "text": [
      "[0.4, 2.2]\n"
     ]
    }
   ],
   "source": [
    "import numpy as np\n",
    "\n",
    "def is_candidate(c):\n",
    "    for i in range(len(c)):\n",
    "        if c[i] > 0:\n",
    "            return False\n",
    "    return True\n",
    "\n",
    "def is_optimal(b):\n",
    "    for i in range(len(b)):\n",
    "        if b[i] < 0:\n",
    "            return False\n",
    "    return True\n",
    "\n",
    "def pivot_row(b):\n",
    "    if is_optimal(b):\n",
    "        return -1\n",
    "    index = 0\n",
    "    min = np.inf\n",
    "    for i in range(len(b)):\n",
    "        if b[i] < min and b[i] < 0:\n",
    "            min = b[i]\n",
    "            index = i\n",
    "    return index\n",
    "\n",
    "def is_unfeasible(a):\n",
    "    temp = 0\n",
    "    for i in range(len(a)):\n",
    "        if a[i] >= 0:\n",
    "            temp += 1\n",
    "    if temp == len(a):\n",
    "        return True\n",
    "    return False\n",
    "\n",
    "def pivot_column(a,c):\n",
    "    if is_unfeasible(a):\n",
    "        return -1\n",
    "    index = 0\n",
    "    min = np.inf\n",
    "    for i in range(len(a)):\n",
    "        if a[i] >= 0:\n",
    "            continue\n",
    "        ratio = c[i]/a[i]\n",
    "        if ratio < min and a[i] < 0:\n",
    "            min = ratio\n",
    "            index = i\n",
    "    return index\n",
    "\n",
    "def pivot(A,b,c,r,k):\n",
    "    #Pivote\n",
    "    pivot = A[r][k]\n",
    "    #Modificamos la fila r\n",
    "    for i in range(len(A[r])):\n",
    "        A[r][i] = A[r][i] / pivot\n",
    "    b[r] = b[r] / pivot\n",
    "    #Actualizamos las demas filas\n",
    "    for i in range(len(A)):\n",
    "        if i == r:\n",
    "            continue\n",
    "        temp = []\n",
    "        temp2 = []\n",
    "        #Actualizamos b\n",
    "        b[i] = b[i] - (b[r] * A[i][k])\n",
    "        #creamos dos listas temporales para poder hacer la resta\n",
    "        for x in range(len(A[r])):\n",
    "            temp.append(A[r][x] * A[i][k])\n",
    "            temp2.append(A[r][x] * c[k])\n",
    "        #Actualizamos A\n",
    "        for j in range(len(A[i])):\n",
    "            A[i][j] = A[i][j] - temp[j]\n",
    "        #Actualizamos c\n",
    "        for j in range(len(c)):\n",
    "            c[j] = c[j] - temp2[j]\n",
    "    return A,b,c\n",
    "\n",
    "def dual_simplex(A,b,c):\n",
    "    while(pivot_row(b) != -1):\n",
    "        r = pivot_row(b)\n",
    "        if pivot_column(A[r],c) == -1:\n",
    "            print(\"No hay solucion\")\n",
    "            break\n",
    "        k = pivot_column(A[r],c)\n",
    "        A,b,c = pivot(A,b,c,r,k)\n",
    "    return b\n",
    "\n",
    "    \n",
    "A = [[-1.0,-2.0,-1.0,1.0,0.0],[-2.0,1.0,-3.0,0.0,1.0]]\n",
    "b = [-3.0,-4.0]\n",
    "c = [-2.0,-3.0,-4.0,0.0,0.0]\n",
    "print(dual_simplex(A,b,c))"
   ]
  },
  {
   "cell_type": "code",
   "execution_count": null,
   "id": "5fc276d8",
   "metadata": {},
   "outputs": [],
   "source": []
  }
 ],
 "metadata": {
  "kernelspec": {
   "display_name": "Python 3 (ipykernel)",
   "language": "python",
   "name": "python3"
  },
  "language_info": {
   "codemirror_mode": {
    "name": "ipython",
    "version": 3
   },
   "file_extension": ".py",
   "mimetype": "text/x-python",
   "name": "python",
   "nbconvert_exporter": "python",
   "pygments_lexer": "ipython3",
   "version": "3.9.12"
  }
 },
 "nbformat": 4,
 "nbformat_minor": 5
}
