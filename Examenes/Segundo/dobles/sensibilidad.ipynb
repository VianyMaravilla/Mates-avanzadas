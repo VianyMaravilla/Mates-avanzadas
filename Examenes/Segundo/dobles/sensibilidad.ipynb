{
 "cells": [
  {
   "cell_type": "markdown",
   "id": "018b082d",
   "metadata": {},
   "source": [
    "# Sensibilidad"
   ]
  },
  {
   "cell_type": "code",
   "execution_count": 1,
   "id": "63d3d2be",
   "metadata": {},
   "outputs": [
    {
     "name": "stdout",
     "output_type": "stream",
     "text": [
      "[3, 4, 5]\n",
      "k= 0\n",
      "r= 1\n",
      "[3, 4, 5]\n",
      "k= 2\n",
      "r= 0\n",
      "[3, 4, 5]\n",
      "Base: [3, 4, 5]\n",
      "Solucion: [6.0, 6.0, 15.0]\n",
      "[0.4, 2.2]\n"
     ]
    }
   ],
   "source": [
    "import simplex\n",
    "import dualsimplex\n",
    "import numpy as np\n",
    "\n",
    "def is_basic(x):\n",
    "    if x == 0:\n",
    "        return True\n",
    "    return False\n",
    "\n",
    "#cambio en la funcion costo\n",
    "def change_cost(A, b, c, x, index):\n",
    "    if is_basic(c[index]):\n",
    "        c[index] = c[index] + (c[index] - x)\n",
    "        simplex.simplex(A, b, c)\n",
    "    else:\n",
    "        for j in range(len(c)):\n",
    "            if j != index:\n",
    "                c[j] = c[j] + (x - c[index]) * (A[index][j])\n",
    "        c[index] = x\n",
    "        simplex.simplex(A, b, c)\n",
    "\n",
    "#cambio en la funcion b\n",
    "def still_optimal(B):\n",
    "    for i in range(len(B)):\n",
    "        if B[i] < 0:\n",
    "            return False\n",
    "    return True\n",
    "\n",
    "def change_b(A, b, c, new_b, B):\n",
    "    basic = np.dot(np.linalg.inv(B),new_b)\n",
    "    if still_optimal(basic):\n",
    "        return A, basic, c, \n",
    "    else:\n",
    "        dualsimplex.dual_simplex(A, basic, c)\n"
   ]
  },
  {
   "cell_type": "code",
   "execution_count": null,
   "id": "bbf2cbaa",
   "metadata": {},
   "outputs": [],
   "source": []
  }
 ],
 "metadata": {
  "kernelspec": {
   "display_name": "Python 3 (ipykernel)",
   "language": "python",
   "name": "python3"
  },
  "language_info": {
   "codemirror_mode": {
    "name": "ipython",
    "version": 3
   },
   "file_extension": ".py",
   "mimetype": "text/x-python",
   "name": "python",
   "nbconvert_exporter": "python",
   "pygments_lexer": "ipython3",
   "version": "3.9.12"
  }
 },
 "nbformat": 4,
 "nbformat_minor": 5
}
