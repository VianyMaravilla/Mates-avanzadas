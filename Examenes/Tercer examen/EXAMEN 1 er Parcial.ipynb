{
 "cells": [
  {
   "cell_type": "markdown",
   "id": "5776d1fc",
   "metadata": {},
   "source": [
    "# Problema 2"
   ]
  },
  {
   "cell_type": "code",
   "execution_count": 5,
   "id": "a95e07db",
   "metadata": {},
   "outputs": [
    {
     "name": "stdout",
     "output_type": "stream",
     "text": [
      "Introduce el valor z de la funcion dada, presiona (X) si terminaste1\n",
      "Introduce el valor X_1 de la funcion dada, presiona (X) si terminaste-2\n",
      "Introduce el valor X_2 de la funcion dada, presiona (X) si terminaste1\n",
      "Introduce el valor X_3 de la funcion dada, presiona (X) si terminastex\n",
      "Funcion a Maximizar\n",
      "[1, -2, 1]\n"
     ]
    }
   ],
   "source": [
    "import numpy as np \n",
    "#Crearemos un arreglo donde el primer valor sera Z con relacion que quede de la forma\n",
    "Funcion_a_maximizar = []\n",
    "\n",
    "#variable de paro\n",
    "x = True\n",
    "contador = 0\n",
    "informacion_paso = \"z\"\n",
    "\n",
    "while(x == True):\n",
    "    if(contador != 0):\n",
    "        informacion_paso = \"X_\" + str(contador)\n",
    "        \n",
    "            \n",
    "    variable_entrada = input('Introduce el valor ' + informacion_paso +' de la funcion dada, presiona (X) si terminaste')\n",
    "    contador +=1\n",
    "    if(variable_entrada.lower() == 'x'):\n",
    "        x = False\n",
    "    else:\n",
    "         Funcion_a_maximizar.append(int(variable_entrada))\n",
    "   \n",
    "\n",
    "print(\"Funcion a Maximizar\")\n",
    "print(Funcion_a_maximizar)\n",
    "\n"
   ]
  },
  {
   "cell_type": "code",
   "execution_count": 9,
   "id": "4d68ac54",
   "metadata": {},
   "outputs": [],
   "source": [
    "#Crearemos las restricciones para este sistema\n",
    "#Estara limitado hasta un máximo de 5 restricciones\n",
    "\n",
    "#primero para 3 restricciones\n",
    "def restriccion():\n",
    "    restriccion = []\n",
    "    #variable de paro\n",
    "    x = True\n",
    "    contador = 1\n",
    "    informacion_paso = \"\"\n",
    "\n",
    "    while(x == True):\n",
    "        \n",
    "        informacion_paso = \"X_\" + str(contador)\n",
    "\n",
    "        print(\"Escribe 0 si quieres que la variable este vacia\")\n",
    "        variable_entrada = input('Introduce el valor ' + informacion_paso +' de la funcion dada, presiona (X) si terminaste')\n",
    "        contador +=1\n",
    "        if(variable_entrada.lower() == 'x'):\n",
    "            x = False\n",
    "        else:\n",
    "             restriccion.append(int(variable_entrada))\n",
    "\n",
    "    desigualdad = input('Escribe el valor de la desigualdad')\n",
    "    restriccion.append(int(desigualdad))\n",
    "    \n",
    "    print(\"Valor de la restriccion\")\n",
    "    print(restriccion)\n",
    "    return restriccion"
   ]
  },
  {
   "cell_type": "code",
   "execution_count": 10,
   "id": "5e33b9a0",
   "metadata": {},
   "outputs": [
    {
     "name": "stdout",
     "output_type": "stream",
     "text": [
      "Introduce la primera restriccion\n",
      "Escribe 0 si quieres que la variable este vacia\n",
      "Introduce el valor X_1 de la funcion dada, presiona (X) si terminaste1\n",
      "Escribe 0 si quieres que la variable este vacia\n",
      "Introduce el valor X_2 de la funcion dada, presiona (X) si terminaste1\n",
      "Escribe 0 si quieres que la variable este vacia\n",
      "Introduce el valor X_3 de la funcion dada, presiona (X) si terminaste1\n",
      "Escribe 0 si quieres que la variable este vacia\n",
      "Introduce el valor X_4 de la funcion dada, presiona (X) si terminastex\n",
      "Escribe el valor de la desigualdad12\n",
      "Valor de la restriccion\n",
      "[1, 1, 1, 12]\n",
      "Introduce la segunda restriccion\n",
      "Escribe 0 si quieres que la variable este vacia\n",
      "Introduce el valor X_1 de la funcion dada, presiona (X) si terminaste2\n",
      "Escribe 0 si quieres que la variable este vacia\n",
      "Introduce el valor X_2 de la funcion dada, presiona (X) si terminaste1\n",
      "Escribe 0 si quieres que la variable este vacia\n",
      "Introduce el valor X_3 de la funcion dada, presiona (X) si terminaste-1\n",
      "Escribe 0 si quieres que la variable este vacia\n",
      "Introduce el valor X_4 de la funcion dada, presiona (X) si terminastex\n",
      "Escribe el valor de la desigualdad6\n",
      "Valor de la restriccion\n",
      "[2, 1, -1, 6]\n",
      "Introduce la tercera restriccion\n",
      "Escribe 0 si quieres que la variable este vacia\n",
      "Introduce el valor X_1 de la funcion dada, presiona (X) si terminaste-1\n",
      "Escribe 0 si quieres que la variable este vacia\n",
      "Introduce el valor X_2 de la funcion dada, presiona (X) si terminaste3\n",
      "Escribe 0 si quieres que la variable este vacia\n",
      "Introduce el valor X_3 de la funcion dada, presiona (X) si terminaste0\n",
      "Escribe 0 si quieres que la variable este vacia\n",
      "Introduce el valor X_4 de la funcion dada, presiona (X) si terminastex\n",
      "Escribe el valor de la desigualdad9\n",
      "Valor de la restriccion\n",
      "[-1, 3, 0, 9]\n"
     ]
    }
   ],
   "source": [
    "#Total de restricciones\n",
    "print(\"Introduce la primera restriccion\")\n",
    "restriccion_1 = restriccion()\n",
    "print(\"Introduce la segunda restriccion\")\n",
    "restriccion_2 = restriccion()\n",
    "print(\"Introduce la tercera restriccion\")\n",
    "restriccion_3 = restriccion()"
   ]
  },
  {
   "cell_type": "code",
   "execution_count": 11,
   "id": "f1da5096",
   "metadata": {},
   "outputs": [],
   "source": [
    "#Usamos estos valores para la muestra\n",
    "restriccion_1 = [1,1,1]\n",
    "restriccion_2 = [2,1,-1]\n",
    "restriccion_3 = [1,3,0]"
   ]
  },
  {
   "cell_type": "code",
   "execution_count": 12,
   "id": "be3669db",
   "metadata": {},
   "outputs": [
    {
     "name": "stdout",
     "output_type": "stream",
     "text": [
      "Las longitudes de las restricciones son correctas, continuemos: \n"
     ]
    }
   ],
   "source": [
    "if(len(restriccion_1) == len(restriccion_2) and len(restriccion_2) == len(restriccion_3)):\n",
    "    print(\"Las longitudes de las restricciones son correctas, continuemos: \")\n",
    "else:\n",
    "    print(\"Selecciona diferentes restricciones\")"
   ]
  },
  {
   "cell_type": "code",
   "execution_count": 13,
   "id": "8d8305c7",
   "metadata": {},
   "outputs": [
    {
     "name": "stdout",
     "output_type": "stream",
     "text": [
      "Valor de la funcion Z transformada: \n",
      "[1, 2, -1]\n",
      "Valor Minimo: -1 En el indice: 2\n"
     ]
    }
   ],
   "source": [
    "#zNegativa  es la primera funcion , la Funcion_a_maximizar en valores negativos donde\n",
    "\n",
    "# Z -20X_1 -10X_2\n",
    "\n",
    "F_a_M_Transformada = []\n",
    "\n",
    "for x in range(len(Funcion_a_maximizar)):\n",
    "    valores = 0\n",
    "    if(x == 0):\n",
    "        valores = int(Funcion_a_maximizar[x])\n",
    "    else:\n",
    "        valores = int(Funcion_a_maximizar[x])*-1\n",
    "    F_a_M_Transformada.append(valores)\n",
    "    \n",
    "print(\"Valor de la funcion Z transformada: \")    \n",
    "print(F_a_M_Transformada)\n",
    "    \n",
    "min_value = min(F_a_M_Transformada)\n",
    "print('Valor Minimo:', min_value, \"En el indice:\", F_a_M_Transformada.index(min_value))  \n",
    "    "
   ]
  },
  {
   "cell_type": "code",
   "execution_count": 14,
   "id": "4091619c",
   "metadata": {},
   "outputs": [
    {
     "name": "stdout",
     "output_type": "stream",
     "text": [
      "[0, 1, 1]\n",
      "[0, 2, 1]\n",
      "[0, 1, 3]\n",
      "[0 1 1 1 0 0 1]\n"
     ]
    }
   ],
   "source": [
    "#asignamos las restricciones a variables s , para despues agregar las variables pivote\n",
    "s1 = (restriccion_1)\n",
    "s2 = (restriccion_2)\n",
    "s3 = (restriccion_3)\n",
    "\n",
    "#seleccionamos el ultimo elemento\n",
    "s1_utlimo = (s1[-1])\n",
    "s2_utlimo = (s2[-1])\n",
    "s3_utlimo = (s3[-1])\n",
    "\n",
    "#quitamos por mientras el ultimo valor\n",
    "s1.pop()\n",
    "s2.pop()\n",
    "s3.pop()\n",
    "\n",
    "#creamos las listas pivote\n",
    "pivote_1 = [1,0,0]\n",
    "pivote_2 = [0,1,0]\n",
    "pivote_3 = [0,0,1]\n",
    "pivote_4 = [0,0,0,0]\n",
    "#añadimos los valores 0 al inicio de cada lista s    \n",
    "s1 = [0, *s1]\n",
    "s2 = [0, *s2]\n",
    "s3 = [0, *s3]\n",
    "    \n",
    "    \n",
    "#observamos como van las listas\n",
    "print(s1)\n",
    "print(s2)\n",
    "print(s3)\n",
    "\n",
    "#s1 = []\n",
    "#s2 = []\n",
    "#s3 = []\n",
    "\n",
    "#añadir valores pivote\n",
    "\n",
    "s1.extend(pivote_1)\n",
    "s2.extend(pivote_2)\n",
    "s3.extend(pivote_3)\n",
    "F_a_M_Transformada.extend(pivote_4)\n",
    "\n",
    "#añadir ultimo valor\n",
    "s1.append(s1_utlimo)\n",
    "s2.append(s2_utlimo)\n",
    "s3.append(s3_utlimo)\n",
    "\n",
    "#creamos un arreglo que despues volveremos a usar\n",
    "ss1 = np.array(s1)\n",
    "ss2 = np.array(s2)\n",
    "ss3 = np.array(s3)\n",
    "print(ss1)"
   ]
  },
  {
   "cell_type": "code",
   "execution_count": 15,
   "id": "ef1559e1",
   "metadata": {},
   "outputs": [],
   "source": [
    "#metodo para agregar todas las listas dentro de una para luego transformarla en matriz\n",
    "lista_general = s1.extend(s2)\n",
    "lista_general = s1.extend(s3)"
   ]
  },
  {
   "cell_type": "code",
   "execution_count": 16,
   "id": "0f1b87e5",
   "metadata": {},
   "outputs": [],
   "source": [
    "#agregamos la columna z\n",
    "lista_general = s1.extend(F_a_M_Transformada)"
   ]
  },
  {
   "cell_type": "code",
   "execution_count": 17,
   "id": "c2cfb288",
   "metadata": {},
   "outputs": [
    {
     "name": "stdout",
     "output_type": "stream",
     "text": [
      "[0, 1, 1, 1, 0, 0, 1, 0, 2, 1, 0, 1, 0, -1, 0, 1, 3, 0, 0, 1, 0, 1, 2, -1, 0, 0, 0, 0]\n"
     ]
    }
   ],
   "source": [
    "lista_matriz = []\n",
    "lista_matriz = s1\n",
    "print(lista_matriz)"
   ]
  },
  {
   "cell_type": "code",
   "execution_count": 18,
   "id": "af15debf",
   "metadata": {},
   "outputs": [
    {
     "name": "stdout",
     "output_type": "stream",
     "text": [
      "[[ 0  1  1  1  0  0  1]\n",
      " [ 0  2  1  0  1  0 -1]\n",
      " [ 0  1  3  0  0  1  0]\n",
      " [ 1  2 -1  0  0  0  0]]\n"
     ]
    }
   ],
   "source": [
    "x = np.array(lista_matriz).reshape(4,7)\n",
    "print(x)"
   ]
  },
  {
   "cell_type": "code",
   "execution_count": 19,
   "id": "7082aefb",
   "metadata": {},
   "outputs": [
    {
     "data": {
      "text/html": [
       "<div>\n",
       "<style scoped>\n",
       "    .dataframe tbody tr th:only-of-type {\n",
       "        vertical-align: middle;\n",
       "    }\n",
       "\n",
       "    .dataframe tbody tr th {\n",
       "        vertical-align: top;\n",
       "    }\n",
       "\n",
       "    .dataframe thead th {\n",
       "        text-align: right;\n",
       "    }\n",
       "</style>\n",
       "<table border=\"1\" class=\"dataframe\">\n",
       "  <thead>\n",
       "    <tr style=\"text-align: right;\">\n",
       "      <th></th>\n",
       "      <th>0</th>\n",
       "      <th>1</th>\n",
       "      <th>2</th>\n",
       "      <th>3</th>\n",
       "      <th>4</th>\n",
       "      <th>5</th>\n",
       "      <th>6</th>\n",
       "    </tr>\n",
       "  </thead>\n",
       "  <tbody>\n",
       "    <tr>\n",
       "      <th>0</th>\n",
       "      <td>0</td>\n",
       "      <td>1</td>\n",
       "      <td>1</td>\n",
       "      <td>1</td>\n",
       "      <td>0</td>\n",
       "      <td>0</td>\n",
       "      <td>1</td>\n",
       "    </tr>\n",
       "    <tr>\n",
       "      <th>1</th>\n",
       "      <td>0</td>\n",
       "      <td>2</td>\n",
       "      <td>1</td>\n",
       "      <td>0</td>\n",
       "      <td>1</td>\n",
       "      <td>0</td>\n",
       "      <td>-1</td>\n",
       "    </tr>\n",
       "    <tr>\n",
       "      <th>2</th>\n",
       "      <td>0</td>\n",
       "      <td>1</td>\n",
       "      <td>3</td>\n",
       "      <td>0</td>\n",
       "      <td>0</td>\n",
       "      <td>1</td>\n",
       "      <td>0</td>\n",
       "    </tr>\n",
       "    <tr>\n",
       "      <th>3</th>\n",
       "      <td>1</td>\n",
       "      <td>2</td>\n",
       "      <td>-1</td>\n",
       "      <td>0</td>\n",
       "      <td>0</td>\n",
       "      <td>0</td>\n",
       "      <td>0</td>\n",
       "    </tr>\n",
       "  </tbody>\n",
       "</table>\n",
       "</div>"
      ],
      "text/plain": [
       "   0  1  2  3  4  5  6\n",
       "0  0  1  1  1  0  0  1\n",
       "1  0  2  1  0  1  0 -1\n",
       "2  0  1  3  0  0  1  0\n",
       "3  1  2 -1  0  0  0  0"
      ]
     },
     "execution_count": 19,
     "metadata": {},
     "output_type": "execute_result"
    }
   ],
   "source": [
    "import pandas as pd\n",
    "\n",
    "#Podemos visualizarlo de mejor manera con un daframe en pandas\n",
    "\n",
    "df = pd.DataFrame(data=x )\n",
    "df"
   ]
  },
  {
   "cell_type": "code",
   "execution_count": 20,
   "id": "e0c8a0fa",
   "metadata": {},
   "outputs": [
    {
     "name": "stdout",
     "output_type": "stream",
     "text": [
      "1.0\n",
      "-1.0\n",
      "0.0\n",
      "Valor Minimo: -1.0 En el indice: 2\n"
     ]
    }
   ],
   "source": [
    "#resultado operacion =>\n",
    "\n",
    "fila_a_dividir = df[2]\n",
    "valor_minimo_iteracion_1 = []\n",
    "\n",
    "for x in range(len(fila_a_dividir)-1):\n",
    "    print(df[6][x]/fila_a_dividir[x])\n",
    "    valor_minimo_iteracion_1.append(df[6][x]/fila_a_dividir[x])\n",
    "    \n",
    "#eliminamos valor z \n",
    "min_value_i = min(valor_minimo_iteracion_1)    \n",
    "print('Valor Minimo:', min_value_i, \"En el indice:\", F_a_M_Transformada.index(min_value)) \n",
    "    "
   ]
  },
  {
   "cell_type": "code",
   "execution_count": 21,
   "id": "477a356d",
   "metadata": {},
   "outputs": [
    {
     "name": "stdout",
     "output_type": "stream",
     "text": [
      "[0.0, 1.0, 0.5, 0.0, 0.5, 0.0, -0.5]\n"
     ]
    }
   ],
   "source": [
    "#division de fila x_2 entre 8 que es el valor pivote\n",
    "FE = []\n",
    "for v in range(len(ss2)):\n",
    "    division = ss2[v] / 2\n",
    "    FE.append(division)\n",
    "print(FE)"
   ]
  },
  {
   "cell_type": "code",
   "execution_count": 22,
   "id": "f5e58303",
   "metadata": {},
   "outputs": [
    {
     "name": "stdout",
     "output_type": "stream",
     "text": [
      "[0 1 1 1 0 0 1]\n",
      "[2, 2, 2, 2, 2, 2, 2]\n"
     ]
    }
   ],
   "source": [
    "#sabemos que el indice dos es donde vamos a seleccionar el valor pivote, dentro de la fila S_1\n",
    "# el valor de X_2 es = 2 entonces vamos a crear un arreglo con ese valor para ejecutar la operacion\n",
    "\n",
    "#Fila Vieja S_1\n",
    "print(ss1)\n",
    "CPVFS_1 = []\n",
    "for u in range(len(ss1)):\n",
    "    CPVFS_1.append(2)\n",
    "print(CPVFS_1)    "
   ]
  },
  {
   "cell_type": "code",
   "execution_count": 23,
   "id": "6287afce",
   "metadata": {},
   "outputs": [
    {
     "name": "stdout",
     "output_type": "stream",
     "text": [
      "[0.0, -1.0, 0.0, 1.0, -1.0, 0.0, 2.0]\n"
     ]
    }
   ],
   "source": [
    "fila_nuevaS1 = []\n",
    "for f in range(len(ss1)):\n",
    "    operacion = ss1[f] - (CPVFS_1[f]*FE[f])\n",
    "    fila_nuevaS1.append(operacion)\n",
    "print(fila_nuevaS1)    "
   ]
  },
  {
   "cell_type": "code",
   "execution_count": 24,
   "id": "43b1498a",
   "metadata": {},
   "outputs": [
    {
     "name": "stdout",
     "output_type": "stream",
     "text": [
      "[0 1 3 0 0 1 0]\n",
      "[2, 2, 2, 2, 2, 2, 2]\n",
      "[0.0, -1.0, 2.0, 0.0, -1.0, 1.0, 1.0]\n"
     ]
    }
   ],
   "source": [
    "#sabemos que el indice dos es donde vamos a seleccionar el valor pivote, dentro de la fila S_3\n",
    "# el valor de X_2 es = 2 entonces vamos a crear un arreglo con ese valor para ejecutar la operacion\n",
    "\n",
    "#Fila Vieja S_3\n",
    "print(ss3)\n",
    "CPVFS_3 = []\n",
    "for u in range(len(ss3)):\n",
    "    CPVFS_3.append(2)\n",
    "print(CPVFS_3)  \n",
    "\n",
    "fila_nuevaS3 = []\n",
    "for f in range(len(ss3)):\n",
    "    operacion = ss3[f] - (CPVFS_3[f]*FE[f])\n",
    "    fila_nuevaS3.append(operacion)\n",
    "print(fila_nuevaS3) "
   ]
  },
  {
   "cell_type": "code",
   "execution_count": 25,
   "id": "c434616e",
   "metadata": {},
   "outputs": [
    {
     "name": "stdout",
     "output_type": "stream",
     "text": [
      "[ 1  2 -1  0  0  0  0]\n",
      "[-3, -3, -3, -3, -3, -3, -3]\n",
      "[1.0, 5.0, 0.5, 0.0, 1.5, 0.0, -1.5]\n"
     ]
    }
   ],
   "source": [
    "#Fila Vieja Z\n",
    "zs = np.array(F_a_M_Transformada)\n",
    "print(zs)\n",
    "CPVFz = []\n",
    "for u in range(len(zs)):\n",
    "    CPVFz.append(-3)\n",
    "print(CPVFz)  \n",
    "\n",
    "fila_nuevaz = []\n",
    "for f in range(len(zs)):\n",
    "    operacion = zs[f] - (CPVFz[f]*FE[f])\n",
    "    fila_nuevaz.append(operacion)\n",
    "print(fila_nuevaz)    "
   ]
  },
  {
   "cell_type": "code",
   "execution_count": 26,
   "id": "828cf04b",
   "metadata": {},
   "outputs": [
    {
     "name": "stdout",
     "output_type": "stream",
     "text": [
      "[0.0, -1.0, 0.0, 1.0, -1.0, 0.0, 2.0]\n",
      "[0.0, 1.0, 0.5, 0.0, 0.5, 0.0, -0.5]\n",
      "[0.0, -1.0, 2.0, 0.0, -1.0, 1.0, 1.0]\n",
      "[1.0, 5.0, 0.5, 0.0, 1.5, 0.0, -1.5]\n"
     ]
    }
   ],
   "source": [
    "#Aqui pueden reajustarlas con reshape\n",
    "print(fila_nuevaS1)    \n",
    "print(FE)\n",
    "print(fila_nuevaS3) \n",
    "print(fila_nuevaz) "
   ]
  },
  {
   "cell_type": "code",
   "execution_count": 27,
   "id": "a723a4c5",
   "metadata": {},
   "outputs": [
    {
     "name": "stdout",
     "output_type": "stream",
     "text": [
      "Puede optimizarse más\n"
     ]
    }
   ],
   "source": [
    "contador = 0\n",
    "for w in fila_nuevaz:\n",
    "    \n",
    "    if(w<0):\n",
    "        print(\"Puede optimizarse más\")\n",
    "        contador = 1\n",
    "    else: \n",
    "        contador = 0\n",
    "if(contador == 0):\n",
    "    print(\"Encontramos la opcion optima\")"
   ]
  },
  {
   "cell_type": "code",
   "execution_count": 28,
   "id": "d1bc4243",
   "metadata": {},
   "outputs": [
    {
     "name": "stdout",
     "output_type": "stream",
     "text": [
      "0.0\n",
      "-0.5\n",
      "0.0\n",
      "0.5\n",
      "-0.5\n",
      "0.0\n",
      "1.0\n",
      "[0.0, -0.5, 0.0, 0.5, -0.5, 0.0, 1.0]\n"
     ]
    }
   ],
   "source": [
    "FE2 = []\n",
    "for v in range(len(fila_nuevaS1)):\n",
    "    division = fila_nuevaS1[v] / 2\n",
    "    print(division)\n",
    "    FE2.append(division)\n",
    "print(FE2)"
   ]
  },
  {
   "cell_type": "code",
   "execution_count": 29,
   "id": "873326f6",
   "metadata": {},
   "outputs": [
    {
     "name": "stdout",
     "output_type": "stream",
     "text": [
      "[-0.5]\n",
      "[-1.5]\n"
     ]
    }
   ],
   "source": [
    "print(FE[-1:])\n",
    "print(fila_nuevaz[-1:])"
   ]
  },
  {
   "cell_type": "code",
   "execution_count": 30,
   "id": "8fe34f49",
   "metadata": {},
   "outputs": [],
   "source": [
    "# PROBLEMA 3"
   ]
  },
  {
   "cell_type": "code",
   "execution_count": 36,
   "id": "7c7c6d25",
   "metadata": {},
   "outputs": [
    {
     "name": "stdout",
     "output_type": "stream",
     "text": [
      "Introduce el valor z de la funcion dada, presiona (X) si terminaste010\n",
      "Introduce el valor X_1 de la funcion dada, presiona (X) si terminaste008\n",
      "Introduce el valor X_2 de la funcion dada, presiona (X) si terminaste012\n",
      "Introduce el valor X_3 de la funcion dada, presiona (X) si terminastex\n",
      "Funcion a Maximizar\n",
      "[10, 8, 12]\n"
     ]
    }
   ],
   "source": [
    "import numpy as np \n",
    "#Crearemos un arreglo donde el primer valor sera Z con relacion que quede de la forma\n",
    "Funcion_a_maximizar = []\n",
    "\n",
    "#variable de paro\n",
    "x = True\n",
    "contador = 0\n",
    "informacion_paso = \"z\"\n",
    "\n",
    "while(x == True):\n",
    "    if(contador != 0):\n",
    "        informacion_paso = \"X_\" + str(contador)\n",
    "        \n",
    "            \n",
    "    variable_entrada = input('Introduce el valor ' + informacion_paso +' de la funcion dada, presiona (X) si terminaste')\n",
    "    contador +=1\n",
    "    if(variable_entrada.lower() == 'x'):\n",
    "        x = False\n",
    "    else:\n",
    "         Funcion_a_maximizar.append(int(variable_entrada))\n",
    "   \n",
    "\n",
    "print(\"Funcion a Maximizar\")\n",
    "print(Funcion_a_maximizar)"
   ]
  },
  {
   "cell_type": "code",
   "execution_count": 37,
   "id": "bc6b6f52",
   "metadata": {},
   "outputs": [],
   "source": [
    "#Crearemos las restricciones para este sistema\n",
    "#Estara limitado hasta un máximo de 5 restricciones\n",
    "\n",
    "#primero para 3 restricciones\n",
    "def restriccion():\n",
    "    restriccion = []\n",
    "    #variable de paro\n",
    "    x = True\n",
    "    contador = 1\n",
    "    informacion_paso = \"\"\n",
    "\n",
    "    while(x == True):\n",
    "        \n",
    "        informacion_paso = \"X_\" + str(contador)\n",
    "\n",
    "        print(\"Escribe 0 si quieres que la variable este vacia\")\n",
    "        variable_entrada = input('Introduce el valor ' + informacion_paso +' de la funcion dada, presiona (X) si terminaste')\n",
    "        contador +=1\n",
    "        if(variable_entrada.lower() == 'x'):\n",
    "            x = False\n",
    "        else:\n",
    "             restriccion.append(int(variable_entrada))\n",
    "\n",
    "    desigualdad = input('Escribe el valor de la desigualdad')\n",
    "    restriccion.append(int(desigualdad))\n",
    "    \n",
    "    print(\"Valor de la restriccion\")\n",
    "    print(restriccion)\n",
    "    return restriccion"
   ]
  },
  {
   "cell_type": "code",
   "execution_count": 38,
   "id": "9d14d9e2",
   "metadata": {},
   "outputs": [
    {
     "name": "stdout",
     "output_type": "stream",
     "text": [
      "Introduce la primera restriccion\n",
      "Escribe 0 si quieres que la variable este vacia\n",
      "Introduce el valor X_1 de la funcion dada, presiona (X) si terminaste25\n",
      "Escribe 0 si quieres que la variable este vacia\n",
      "Introduce el valor X_2 de la funcion dada, presiona (X) si terminaste15\n",
      "Escribe 0 si quieres que la variable este vacia\n",
      "Introduce el valor X_3 de la funcion dada, presiona (X) si terminaste25\n",
      "Escribe 0 si quieres que la variable este vacia\n",
      "Introduce el valor X_4 de la funcion dada, presiona (X) si terminastex\n",
      "Escribe el valor de la desigualdad22\n",
      "Valor de la restriccion\n",
      "[25, 15, 25, 22]\n",
      "Introduce la segunda restriccion\n",
      "Escribe 0 si quieres que la variable este vacia\n",
      "Introduce el valor X_1 de la funcion dada, presiona (X) si terminaste15\n",
      "Escribe 0 si quieres que la variable este vacia\n",
      "Introduce el valor X_2 de la funcion dada, presiona (X) si terminaste30\n",
      "Escribe 0 si quieres que la variable este vacia\n",
      "Introduce el valor X_3 de la funcion dada, presiona (X) si terminaste20\n",
      "Escribe 0 si quieres que la variable este vacia\n",
      "Introduce el valor X_4 de la funcion dada, presiona (X) si terminastex\n",
      "Escribe el valor de la desigualdad20\n",
      "Valor de la restriccion\n",
      "[15, 30, 20, 20]\n",
      "Introduce la tercera restriccion\n",
      "Escribe 0 si quieres que la variable este vacia\n",
      "Introduce el valor X_1 de la funcion dada, presiona (X) si terminaste5\n",
      "Escribe 0 si quieres que la variable este vacia\n",
      "Introduce el valor X_2 de la funcion dada, presiona (X) si terminaste12\n",
      "Escribe 0 si quieres que la variable este vacia\n",
      "Introduce el valor X_3 de la funcion dada, presiona (X) si terminaste8\n",
      "Escribe 0 si quieres que la variable este vacia\n",
      "Introduce el valor X_4 de la funcion dada, presiona (X) si terminastex\n",
      "Escribe el valor de la desigualdad12\n",
      "Valor de la restriccion\n",
      "[5, 12, 8, 12]\n"
     ]
    }
   ],
   "source": [
    "#Total de restricciones\n",
    "print(\"Introduce la primera restriccion\")\n",
    "restriccion_1 = restriccion()\n",
    "print(\"Introduce la segunda restriccion\")\n",
    "restriccion_2 = restriccion()\n",
    "print(\"Introduce la tercera restriccion\")\n",
    "restriccion_3 = restriccion()"
   ]
  },
  {
   "cell_type": "code",
   "execution_count": 39,
   "id": "67b7e53c",
   "metadata": {},
   "outputs": [],
   "source": [
    "#Usamos estos valores para la muestra\n",
    "restriccion_1 = [25,15,25]\n",
    "restriccion_2 = [15,30,20]\n",
    "restriccion_3 = [5,12,8]"
   ]
  },
  {
   "cell_type": "code",
   "execution_count": 40,
   "id": "43b1e7f3",
   "metadata": {},
   "outputs": [
    {
     "name": "stdout",
     "output_type": "stream",
     "text": [
      "Las longitudes de las restricciones son correctas, continuemos: \n"
     ]
    }
   ],
   "source": [
    "if(len(restriccion_1) == len(restriccion_2) and len(restriccion_2) == len(restriccion_3)):\n",
    "    print(\"Las longitudes de las restricciones son correctas, continuemos: \")\n",
    "else:\n",
    "    print(\"Selecciona diferentes restricciones\")"
   ]
  },
  {
   "cell_type": "code",
   "execution_count": 41,
   "id": "58308b0f",
   "metadata": {},
   "outputs": [
    {
     "name": "stdout",
     "output_type": "stream",
     "text": [
      "Valor de la funcion Z transformada: \n",
      "[10, -8, -12]\n",
      "Valor Minimo: -12 En el indice: 2\n"
     ]
    }
   ],
   "source": [
    "#zNegativa  es la primera funcion , la Funcion_a_maximizar en valores negativos donde\n",
    "\n",
    "# Z -20X_1 -10X_2\n",
    "\n",
    "F_a_M_Transformada = []\n",
    "\n",
    "for x in range(len(Funcion_a_maximizar)):\n",
    "    valores = 0\n",
    "    if(x == 0):\n",
    "        valores = int(Funcion_a_maximizar[x])\n",
    "    else:\n",
    "        valores = int(Funcion_a_maximizar[x])*-1\n",
    "    F_a_M_Transformada.append(valores)\n",
    "    \n",
    "print(\"Valor de la funcion Z transformada: \")    \n",
    "print(F_a_M_Transformada)\n",
    "    \n",
    "min_value = min(F_a_M_Transformada)\n",
    "print('Valor Minimo:', min_value, \"En el indice:\", F_a_M_Transformada.index(min_value))  \n",
    "    "
   ]
  },
  {
   "cell_type": "code",
   "execution_count": 42,
   "id": "80396231",
   "metadata": {},
   "outputs": [
    {
     "name": "stdout",
     "output_type": "stream",
     "text": [
      "[0, 25, 15]\n",
      "[0, 15, 30]\n",
      "[0, 5, 12]\n",
      "[ 0 25 15  1  0  0 25]\n"
     ]
    }
   ],
   "source": [
    "#asignamos las restricciones a variables s , para despues agregar las variables pivote\n",
    "s1 = (restriccion_1)\n",
    "s2 = (restriccion_2)\n",
    "s3 = (restriccion_3)\n",
    "\n",
    "#seleccionamos el ultimo elemento\n",
    "s1_utlimo = (s1[-1])\n",
    "s2_utlimo = (s2[-1])\n",
    "s3_utlimo = (s3[-1])\n",
    "\n",
    "#quitamos por mientras el ultimo valor\n",
    "s1.pop()\n",
    "s2.pop()\n",
    "s3.pop()\n",
    "\n",
    "#creamos las listas pivote\n",
    "pivote_1 = [1,0,0]\n",
    "pivote_2 = [0,1,0]\n",
    "pivote_3 = [0,0,1]\n",
    "pivote_4 = [0,0,0,0]\n",
    "#añadimos los valores 0 al inicio de cada lista s    \n",
    "s1 = [0, *s1]\n",
    "s2 = [0, *s2]\n",
    "s3 = [0, *s3]\n",
    "    \n",
    "    \n",
    "#observamos como van las listas\n",
    "print(s1)\n",
    "print(s2)\n",
    "print(s3)\n",
    "\n",
    "#s1 = []\n",
    "#s2 = []\n",
    "#s3 = []\n",
    "\n",
    "#añadir valores pivote\n",
    "\n",
    "s1.extend(pivote_1)\n",
    "s2.extend(pivote_2)\n",
    "s3.extend(pivote_3)\n",
    "F_a_M_Transformada.extend(pivote_4)\n",
    "\n",
    "#añadir ultimo valor\n",
    "s1.append(s1_utlimo)\n",
    "s2.append(s2_utlimo)\n",
    "s3.append(s3_utlimo)\n",
    "\n",
    "#creamos un arreglo que despues volveremos a usar\n",
    "ss1 = np.array(s1)\n",
    "ss2 = np.array(s2)\n",
    "ss3 = np.array(s3)\n",
    "print(ss1)"
   ]
  },
  {
   "cell_type": "code",
   "execution_count": 43,
   "id": "d9d1f25c",
   "metadata": {},
   "outputs": [],
   "source": [
    "#metodo para agregar todas las listas dentro de una para luego transformarla en matriz\n",
    "lista_general = s1.extend(s2)\n",
    "lista_general = s1.extend(s3)"
   ]
  },
  {
   "cell_type": "code",
   "execution_count": 44,
   "id": "c12c393b",
   "metadata": {},
   "outputs": [],
   "source": [
    "#agregamos la columna z\n",
    "lista_general = s1.extend(F_a_M_Transformada)"
   ]
  },
  {
   "cell_type": "code",
   "execution_count": 45,
   "id": "56757438",
   "metadata": {},
   "outputs": [
    {
     "name": "stdout",
     "output_type": "stream",
     "text": [
      "[0, 25, 15, 1, 0, 0, 25, 0, 15, 30, 0, 1, 0, 20, 0, 5, 12, 0, 0, 1, 8, 10, -8, -12, 0, 0, 0, 0]\n"
     ]
    }
   ],
   "source": [
    "lista_matriz = []\n",
    "lista_matriz = s1\n",
    "print(lista_matriz)"
   ]
  },
  {
   "cell_type": "code",
   "execution_count": 46,
   "id": "b992bb76",
   "metadata": {},
   "outputs": [
    {
     "name": "stdout",
     "output_type": "stream",
     "text": [
      "[[  0  25  15   1   0   0  25]\n",
      " [  0  15  30   0   1   0  20]\n",
      " [  0   5  12   0   0   1   8]\n",
      " [ 10  -8 -12   0   0   0   0]]\n"
     ]
    }
   ],
   "source": [
    "x = np.array(lista_matriz).reshape(4,7)\n",
    "print(x)"
   ]
  },
  {
   "cell_type": "code",
   "execution_count": 47,
   "id": "ed0ae6bc",
   "metadata": {},
   "outputs": [
    {
     "data": {
      "text/html": [
       "<div>\n",
       "<style scoped>\n",
       "    .dataframe tbody tr th:only-of-type {\n",
       "        vertical-align: middle;\n",
       "    }\n",
       "\n",
       "    .dataframe tbody tr th {\n",
       "        vertical-align: top;\n",
       "    }\n",
       "\n",
       "    .dataframe thead th {\n",
       "        text-align: right;\n",
       "    }\n",
       "</style>\n",
       "<table border=\"1\" class=\"dataframe\">\n",
       "  <thead>\n",
       "    <tr style=\"text-align: right;\">\n",
       "      <th></th>\n",
       "      <th>0</th>\n",
       "      <th>1</th>\n",
       "      <th>2</th>\n",
       "      <th>3</th>\n",
       "      <th>4</th>\n",
       "      <th>5</th>\n",
       "      <th>6</th>\n",
       "    </tr>\n",
       "  </thead>\n",
       "  <tbody>\n",
       "    <tr>\n",
       "      <th>0</th>\n",
       "      <td>0</td>\n",
       "      <td>25</td>\n",
       "      <td>15</td>\n",
       "      <td>1</td>\n",
       "      <td>0</td>\n",
       "      <td>0</td>\n",
       "      <td>25</td>\n",
       "    </tr>\n",
       "    <tr>\n",
       "      <th>1</th>\n",
       "      <td>0</td>\n",
       "      <td>15</td>\n",
       "      <td>30</td>\n",
       "      <td>0</td>\n",
       "      <td>1</td>\n",
       "      <td>0</td>\n",
       "      <td>20</td>\n",
       "    </tr>\n",
       "    <tr>\n",
       "      <th>2</th>\n",
       "      <td>0</td>\n",
       "      <td>5</td>\n",
       "      <td>12</td>\n",
       "      <td>0</td>\n",
       "      <td>0</td>\n",
       "      <td>1</td>\n",
       "      <td>8</td>\n",
       "    </tr>\n",
       "    <tr>\n",
       "      <th>3</th>\n",
       "      <td>10</td>\n",
       "      <td>-8</td>\n",
       "      <td>-12</td>\n",
       "      <td>0</td>\n",
       "      <td>0</td>\n",
       "      <td>0</td>\n",
       "      <td>0</td>\n",
       "    </tr>\n",
       "  </tbody>\n",
       "</table>\n",
       "</div>"
      ],
      "text/plain": [
       "    0   1   2  3  4  5   6\n",
       "0   0  25  15  1  0  0  25\n",
       "1   0  15  30  0  1  0  20\n",
       "2   0   5  12  0  0  1   8\n",
       "3  10  -8 -12  0  0  0   0"
      ]
     },
     "execution_count": 47,
     "metadata": {},
     "output_type": "execute_result"
    }
   ],
   "source": [
    "import pandas as pd\n",
    "\n",
    "#Podemos visualizarlo de mejor manera con un daframe en pandas\n",
    "\n",
    "df = pd.DataFrame(data=x )\n",
    "df"
   ]
  },
  {
   "cell_type": "code",
   "execution_count": 48,
   "id": "cd0ae41f",
   "metadata": {},
   "outputs": [
    {
     "name": "stdout",
     "output_type": "stream",
     "text": [
      "1.6666666666666667\n",
      "0.6666666666666666\n",
      "0.6666666666666666\n",
      "Valor Minimo: 0.6666666666666666 En el indice: 2\n"
     ]
    }
   ],
   "source": [
    "#resultado operacion =>\n",
    "\n",
    "fila_a_dividir = df[2]\n",
    "valor_minimo_iteracion_1 = []\n",
    "\n",
    "for x in range(len(fila_a_dividir)-1):\n",
    "    print(df[6][x]/fila_a_dividir[x])\n",
    "    valor_minimo_iteracion_1.append(df[6][x]/fila_a_dividir[x])\n",
    "    \n",
    "#eliminamos valor z \n",
    "min_value_i = min(valor_minimo_iteracion_1)    \n",
    "print('Valor Minimo:', min_value_i, \"En el indice:\", F_a_M_Transformada.index(min_value)) \n",
    "    "
   ]
  },
  {
   "cell_type": "code",
   "execution_count": 49,
   "id": "21221b78",
   "metadata": {},
   "outputs": [
    {
     "name": "stdout",
     "output_type": "stream",
     "text": [
      "[0.0, 7.5, 15.0, 0.0, 0.5, 0.0, 10.0]\n"
     ]
    }
   ],
   "source": [
    "#division de fila x_2 entre 8 que es el valor pivote\n",
    "FE = []\n",
    "for v in range(len(ss2)):\n",
    "    division = ss2[v] / 2\n",
    "    FE.append(division)\n",
    "print(FE)"
   ]
  },
  {
   "cell_type": "code",
   "execution_count": 50,
   "id": "42382151",
   "metadata": {},
   "outputs": [
    {
     "name": "stdout",
     "output_type": "stream",
     "text": [
      "[ 0 25 15  1  0  0 25]\n",
      "[2, 2, 2, 2, 2, 2, 2]\n"
     ]
    }
   ],
   "source": [
    "#sabemos que el indice dos es donde vamos a seleccionar el valor pivote, dentro de la fila S_1\n",
    "# el valor de X_2 es = 2 entonces vamos a crear un arreglo con ese valor para ejecutar la operacion\n",
    "\n",
    "#Fila Vieja S_1\n",
    "print(ss1)\n",
    "CPVFS_1 = []\n",
    "for u in range(len(ss1)):\n",
    "    CPVFS_1.append(2)\n",
    "print(CPVFS_1)   "
   ]
  },
  {
   "cell_type": "code",
   "execution_count": 51,
   "id": "f7e3df16",
   "metadata": {},
   "outputs": [
    {
     "name": "stdout",
     "output_type": "stream",
     "text": [
      "[0.0, 10.0, -15.0, 1.0, -1.0, 0.0, 5.0]\n"
     ]
    }
   ],
   "source": [
    "fila_nuevaS1 = []\n",
    "for f in range(len(ss1)):\n",
    "    operacion = ss1[f] - (CPVFS_1[f]*FE[f])\n",
    "    fila_nuevaS1.append(operacion)\n",
    "print(fila_nuevaS1)    "
   ]
  },
  {
   "cell_type": "code",
   "execution_count": 52,
   "id": "58dbca44",
   "metadata": {},
   "outputs": [
    {
     "name": "stdout",
     "output_type": "stream",
     "text": [
      "[ 0  5 12  0  0  1  8]\n",
      "[2, 2, 2, 2, 2, 2, 2]\n",
      "[0.0, -10.0, -18.0, 0.0, -1.0, 1.0, -12.0]\n"
     ]
    }
   ],
   "source": [
    "#sabemos que el indice dos es donde vamos a seleccionar el valor pivote, dentro de la fila S_3\n",
    "# el valor de X_2 es = 2 entonces vamos a crear un arreglo con ese valor para ejecutar la operacion\n",
    "\n",
    "#Fila Vieja S_3\n",
    "print(ss3)\n",
    "CPVFS_3 = []\n",
    "for u in range(len(ss3)):\n",
    "    CPVFS_3.append(2)\n",
    "print(CPVFS_3)  \n",
    "\n",
    "fila_nuevaS3 = []\n",
    "for f in range(len(ss3)):\n",
    "    operacion = ss3[f] - (CPVFS_3[f]*FE[f])\n",
    "    fila_nuevaS3.append(operacion)\n",
    "print(fila_nuevaS3) "
   ]
  },
  {
   "cell_type": "code",
   "execution_count": 53,
   "id": "ec91eb6e",
   "metadata": {},
   "outputs": [
    {
     "name": "stdout",
     "output_type": "stream",
     "text": [
      "[ 10  -8 -12   0   0   0   0]\n",
      "[-3, -3, -3, -3, -3, -3, -3]\n",
      "[10.0, 14.5, 33.0, 0.0, 1.5, 0.0, 30.0]\n"
     ]
    }
   ],
   "source": [
    "#Fila Vieja Z\n",
    "zs = np.array(F_a_M_Transformada)\n",
    "print(zs)\n",
    "CPVFz = []\n",
    "for u in range(len(zs)):\n",
    "    CPVFz.append(-3)\n",
    "print(CPVFz)  \n",
    "\n",
    "fila_nuevaz = []\n",
    "for f in range(len(zs)):\n",
    "    operacion = zs[f] - (CPVFz[f]*FE[f])\n",
    "    fila_nuevaz.append(operacion)\n",
    "print(fila_nuevaz)    "
   ]
  },
  {
   "cell_type": "code",
   "execution_count": 54,
   "id": "811212a1",
   "metadata": {},
   "outputs": [
    {
     "name": "stdout",
     "output_type": "stream",
     "text": [
      "[0.0, 10.0, -15.0, 1.0, -1.0, 0.0, 5.0]\n",
      "[0.0, 7.5, 15.0, 0.0, 0.5, 0.0, 10.0]\n",
      "[0.0, -10.0, -18.0, 0.0, -1.0, 1.0, -12.0]\n",
      "[10.0, 14.5, 33.0, 0.0, 1.5, 0.0, 30.0]\n"
     ]
    }
   ],
   "source": [
    "#Aqui pueden reajustarlas con reshape\n",
    "print(fila_nuevaS1)    \n",
    "print(FE)\n",
    "print(fila_nuevaS3) \n",
    "print(fila_nuevaz) "
   ]
  },
  {
   "cell_type": "code",
   "execution_count": 55,
   "id": "6a15d5d7",
   "metadata": {},
   "outputs": [
    {
     "name": "stdout",
     "output_type": "stream",
     "text": [
      "Encontramos la opcion optima\n"
     ]
    }
   ],
   "source": [
    "contador = 0\n",
    "for w in fila_nuevaz:\n",
    "    \n",
    "    if(w<0):\n",
    "        print(\"Puede optimizarse más\")\n",
    "        contador = 1\n",
    "    else: \n",
    "        contador = 0\n",
    "if(contador == 0):\n",
    "    print(\"Encontramos la opcion optima\")"
   ]
  },
  {
   "cell_type": "code",
   "execution_count": 56,
   "id": "7921dd0e",
   "metadata": {},
   "outputs": [
    {
     "name": "stdout",
     "output_type": "stream",
     "text": [
      "0.0\n",
      "5.0\n",
      "-7.5\n",
      "0.5\n",
      "-0.5\n",
      "0.0\n",
      "2.5\n",
      "[0.0, 5.0, -7.5, 0.5, -0.5, 0.0, 2.5]\n"
     ]
    }
   ],
   "source": [
    "FE2 = []\n",
    "for v in range(len(fila_nuevaS1)):\n",
    "    division = fila_nuevaS1[v] / 2\n",
    "    print(division)\n",
    "    FE2.append(division)\n",
    "print(FE2)"
   ]
  },
  {
   "cell_type": "code",
   "execution_count": 57,
   "id": "5e609874",
   "metadata": {},
   "outputs": [
    {
     "name": "stdout",
     "output_type": "stream",
     "text": [
      "[10.0]\n",
      "[30.0]\n"
     ]
    }
   ],
   "source": [
    "print(FE[-1:])\n",
    "print(fila_nuevaz[-1:])"
   ]
  }
 ],
 "metadata": {
  "kernelspec": {
   "display_name": "Python 3 (ipykernel)",
   "language": "python",
   "name": "python3"
  },
  "language_info": {
   "codemirror_mode": {
    "name": "ipython",
    "version": 3
   },
   "file_extension": ".py",
   "mimetype": "text/x-python",
   "name": "python",
   "nbconvert_exporter": "python",
   "pygments_lexer": "ipython3",
   "version": "3.9.12"
  }
 },
 "nbformat": 4,
 "nbformat_minor": 5
}
